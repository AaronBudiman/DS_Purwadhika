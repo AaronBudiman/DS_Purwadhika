{
 "cells": [
  {
   "cell_type": "markdown",
   "metadata": {},
   "source": [
    "## Business Problem \n",
    "\n",
    "**Context**\n",
    "\n",
    "Banyak pemilik mobil yang ingin menjual mobil miliknya, hanya saja ia tidak mengetahui harga pasaran. Sehingga harga yang dimasukan awalnya adalah 0 dan dapat di tawar, dengan harapan harga yang ditawarkan oleh salah satu calon pembeli adalah harga tertinggi\n",
    "\n",
    "**Problem Statement**\n",
    "\n",
    "Pemilik mobil terkadang tidak mengetahui nilai mobil mereka ketika ingin menjual mobil miliknya, sehingga pemilik mobil memasukan harga mobil yang terlalu murah atau terlalu mahal. Harga mobil yang terlalu murah dapat mengakibatkan rusaknya harga mobil lain yang ada di pasar.\n",
    "\n",
    "Meski harga jual adalah kebebasan kita, akan lebih baik jika kita dapat memberikan kisaran harga mobil lainnya yang dijual di platform tersebut untuk menjadi pembanding ketika pemilik mobil ingin menjual mobilnya.\n",
    "\n",
    "**Goals**\n",
    "\n",
    "Berdasarkan permasalahan tersebut, marketplace ingin memiliki 'tool' yang dapat memberikan range harga untuk menentukan harga mobil yang tepat untuk mobil penjual.\n",
    "\n",
    "**Analytic Approach**\n",
    "\n",
    "Yang perlu kita lakukan adalah menganalisis data untuk dapat menemukan pola dari fitur-fitur yang ada. Selanjutnya, kita akan membangun Machine Learning yang akan membantu perusahaan untuk dapat menyediakan 'tool' untuk memberikan estimasi harga mobil tersebut ketika ingin dimasukan kedalam marketplace\n",
    "\n",
    "**Metric Evaluation**\n",
    "\n",
    "Evaluasi metrik yang akan digunakan adalah RMSE, MAE, dan MAPE, di mana RMSE adalah nilai rataan akar kuadrat dari error, MAE adalah rataan nilai absolut dari error, sedangkan MAPE adalah rataan persentase error yang dihasilkan oleh model regresi. Semakin kecil nilai RMSE, MAE, dan MAPE yang dihasilkan, berarti model semakin akurat dalam memprediksi harga sewa sesuai dengan limitasi fitur yang digunakan. Saya akan menggunakan ketiga metric diatas sebagai pertimbangan untuk mencari model terbaik."
   ]
  }
 ],
 "metadata": {
  "kernelspec": {
   "display_name": "Python 3.10.5 64-bit",
   "language": "python",
   "name": "python3"
  },
  "language_info": {
   "name": "python",
   "version": "3.10.5"
  },
  "orig_nbformat": 4,
  "vscode": {
   "interpreter": {
    "hash": "0cc95108adb0eef77222e4285ccd064197a982c043357c28a8f9770fc5b3cfd4"
   }
  }
 },
 "nbformat": 4,
 "nbformat_minor": 2
}
