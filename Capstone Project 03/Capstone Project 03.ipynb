{
 "cells": [
  {
   "cell_type": "markdown",
   "metadata": {},
   "source": [
    "# **Saudi Used Cars**"
   ]
  },
  {
   "cell_type": "markdown",
   "metadata": {},
   "source": [
    "## Business Problem \n",
    "\n",
    "**Context**\n",
    "\n",
    "Banyak pemilik mobil yang ingin menjual mobil miliknya, hanya saja ia tidak mengetahui harga pasaran. Sehingga harga yang dimasukan awalnya adalah 0 dan dapat di tawar, dengan harapan harga yang ditawarkan oleh salah satu calon pembeli adalah harga tertinggi\n",
    "\n",
    "**Problem Statement**\n",
    "\n",
    "Pemilik mobil terkadang tidak mengetahui nilai mobil mereka ketika ingin menjual mobil miliknya, sehingga pemilik mobil memasukan harga mobil yang terlalu murah atau terlalu mahal. Harga mobil yang terlalu murah dapat mengakibatkan rusaknya harga mobil lain yang ada di pasar.\n",
    "\n",
    "Meski harga jual adalah kebebasan kita, akan lebih baik jika kita dapat memberikan kisaran harga mobil lainnya yang dijual di platform tersebut untuk menjadi pembanding ketika pemilik mobil ingin menjual mobilnya.\n",
    "\n",
    "**Goals**\n",
    "\n",
    "Berdasarkan permasalahan tersebut, marketplace ingin memiliki 'tool' yang dapat memberikan range harga untuk menentukan harga mobil yang tepat untuk mobil penjual.\n",
    "\n",
    "**Analytic Approach**\n",
    "\n",
    "Yang perlu kita lakukan adalah menganalisis data untuk dapat menemukan pola dari fitur-fitur yang ada. Selanjutnya, kita akan membangun Machine Learning yang akan membantu perusahaan untuk dapat menyediakan 'tool' untuk memberikan estimasi harga mobil tersebut ketika ingin dimasukan kedalam marketplace\n",
    "\n",
    "**Metric Evaluation**\n",
    "\n",
    "Evaluasi metrik yang akan digunakan adalah RMSE, MAE, dan MAPE, di mana RMSE adalah nilai rataan akar kuadrat dari error, MAE adalah rataan nilai absolut dari error, sedangkan MAPE adalah rataan persentase error yang dihasilkan oleh model regresi. Semakin kecil nilai RMSE, MAE, dan MAPE yang dihasilkan, berarti model semakin akurat dalam memprediksi harga sewa sesuai dengan limitasi fitur yang digunakan. Saya akan menggunakan ketiga metric diatas sebagai pertimbangan untuk mencari model terbaik."
   ]
  },
  {
   "cell_type": "code",
   "execution_count": 2,
   "metadata": {},
   "outputs": [],
   "source": [
    "# Basic Library\n",
    "import numpy as np \n",
    "import pandas as pd \n",
    "\n",
    "# Visualization\n",
    "import seaborn as sns \n",
    "import matplotlib.pyplot as plt\n",
    "\n",
    "# Train test Split\n",
    "from sklearn.model_selection import train_test_split, cross_val_score, RandomizedSearchCV, GridSearchCV, KFold\n",
    "from sklearn.model_selection import cross_validate\n",
    "\n",
    "# Encoding\n",
    "from category_encoders import OrdinalEncoder, BinaryEncoder\n",
    "from sklearn.preprocessing import OneHotEncoder\n",
    "from sklearn.compose import ColumnTransformer\n",
    "from sklearn.pipeline import Pipeline\n",
    "\n",
    "# Machine Learning\n",
    "from sklearn.linear_model import LinearRegression, Lasso, Ridge\n",
    "from sklearn.neighbors import KNeighborsRegressor\n",
    "from sklearn.tree import DecisionTreeRegressor\n",
    "from sklearn.ensemble import RandomForestRegressor, AdaBoostRegressor, GradientBoostingRegressor\n",
    "from sklearn.compose import TransformedTargetRegressor\n",
    "\n",
    "# Scaler\n",
    "from sklearn.preprocessing import StandardScaler, RobustScaler, MinMaxScaler\n",
    "\n",
    "# Metrics\n",
    "from sklearn.metrics import r2_score, mean_squared_error, mean_absolute_error, mean_absolute_percentage_error"
   ]
  },
  {
   "cell_type": "markdown",
   "metadata": {},
   "source": [
    "# Load Dataset"
   ]
  },
  {
   "cell_type": "code",
   "execution_count": 3,
   "metadata": {},
   "outputs": [
    {
     "data": {
      "text/html": [
       "<div>\n",
       "<style scoped>\n",
       "    .dataframe tbody tr th:only-of-type {\n",
       "        vertical-align: middle;\n",
       "    }\n",
       "\n",
       "    .dataframe tbody tr th {\n",
       "        vertical-align: top;\n",
       "    }\n",
       "\n",
       "    .dataframe thead th {\n",
       "        text-align: right;\n",
       "    }\n",
       "</style>\n",
       "<table border=\"1\" class=\"dataframe\">\n",
       "  <thead>\n",
       "    <tr style=\"text-align: right;\">\n",
       "      <th></th>\n",
       "      <th>Type</th>\n",
       "      <th>Region</th>\n",
       "      <th>Make</th>\n",
       "      <th>Gear_Type</th>\n",
       "      <th>Origin</th>\n",
       "      <th>Options</th>\n",
       "      <th>Year</th>\n",
       "      <th>Engine_Size</th>\n",
       "      <th>Mileage</th>\n",
       "      <th>Negotiable</th>\n",
       "      <th>Price</th>\n",
       "    </tr>\n",
       "  </thead>\n",
       "  <tbody>\n",
       "    <tr>\n",
       "      <th>0</th>\n",
       "      <td>Corolla</td>\n",
       "      <td>Abha</td>\n",
       "      <td>Toyota</td>\n",
       "      <td>Manual</td>\n",
       "      <td>Saudi</td>\n",
       "      <td>Standard</td>\n",
       "      <td>2013</td>\n",
       "      <td>1.4</td>\n",
       "      <td>421000</td>\n",
       "      <td>True</td>\n",
       "      <td>0</td>\n",
       "    </tr>\n",
       "    <tr>\n",
       "      <th>1</th>\n",
       "      <td>Yukon</td>\n",
       "      <td>Riyadh</td>\n",
       "      <td>GMC</td>\n",
       "      <td>Automatic</td>\n",
       "      <td>Saudi</td>\n",
       "      <td>Full</td>\n",
       "      <td>2014</td>\n",
       "      <td>8.0</td>\n",
       "      <td>80000</td>\n",
       "      <td>False</td>\n",
       "      <td>120000</td>\n",
       "    </tr>\n",
       "    <tr>\n",
       "      <th>2</th>\n",
       "      <td>Range Rover</td>\n",
       "      <td>Riyadh</td>\n",
       "      <td>Land Rover</td>\n",
       "      <td>Automatic</td>\n",
       "      <td>Gulf Arabic</td>\n",
       "      <td>Full</td>\n",
       "      <td>2015</td>\n",
       "      <td>5.0</td>\n",
       "      <td>140000</td>\n",
       "      <td>False</td>\n",
       "      <td>260000</td>\n",
       "    </tr>\n",
       "    <tr>\n",
       "      <th>3</th>\n",
       "      <td>Optima</td>\n",
       "      <td>Hafar Al-Batin</td>\n",
       "      <td>Kia</td>\n",
       "      <td>Automatic</td>\n",
       "      <td>Saudi</td>\n",
       "      <td>Semi Full</td>\n",
       "      <td>2015</td>\n",
       "      <td>2.4</td>\n",
       "      <td>220000</td>\n",
       "      <td>False</td>\n",
       "      <td>42000</td>\n",
       "    </tr>\n",
       "    <tr>\n",
       "      <th>4</th>\n",
       "      <td>FJ</td>\n",
       "      <td>Riyadh</td>\n",
       "      <td>Toyota</td>\n",
       "      <td>Automatic</td>\n",
       "      <td>Saudi</td>\n",
       "      <td>Full</td>\n",
       "      <td>2020</td>\n",
       "      <td>4.0</td>\n",
       "      <td>49000</td>\n",
       "      <td>True</td>\n",
       "      <td>0</td>\n",
       "    </tr>\n",
       "  </tbody>\n",
       "</table>\n",
       "</div>"
      ],
      "text/plain": [
       "          Type          Region        Make  Gear_Type       Origin    Options  \\\n",
       "0      Corolla            Abha      Toyota     Manual        Saudi   Standard   \n",
       "1        Yukon          Riyadh         GMC  Automatic        Saudi       Full   \n",
       "2  Range Rover          Riyadh  Land Rover  Automatic  Gulf Arabic       Full   \n",
       "3       Optima  Hafar Al-Batin         Kia  Automatic        Saudi  Semi Full   \n",
       "4           FJ          Riyadh      Toyota  Automatic        Saudi       Full   \n",
       "\n",
       "   Year  Engine_Size  Mileage  Negotiable   Price  \n",
       "0  2013          1.4   421000        True       0  \n",
       "1  2014          8.0    80000       False  120000  \n",
       "2  2015          5.0   140000       False  260000  \n",
       "3  2015          2.4   220000       False   42000  \n",
       "4  2020          4.0    49000        True       0  "
      ]
     },
     "execution_count": 3,
     "metadata": {},
     "output_type": "execute_result"
    }
   ],
   "source": [
    "# Load Dataset\n",
    "df = pd.read_csv('data_saudi_used_cars.csv')\n",
    "df.head()"
   ]
  },
  {
   "cell_type": "markdown",
   "metadata": {},
   "source": [
    "- Setiap baris merepresentasikan 1 mobil yang dimasukan kedalam marketplace mobil second\n",
    "\n",
    "\n",
    "| **Attribute** | **Data Type** | **Description** |\n",
    "| --- | --- | --- |\n",
    "| Type | object  | Type of used car |\n",
    "| Region | object  | The region in which the used car was offered for sale |\n",
    "| Make\t | object  | The company name |\n",
    "| Gear_Type | object  | Gear type size of used car |\n",
    "| Origin | object  | Origin of used car |\n",
    "| Options | object  | Options of used car |\n",
    "| Year | int64   | Manufacturing year |\n",
    "| Engine_Size | float64 | The engine size of used car |\n",
    "| Mileage | int64   | Mileage |\n",
    "| Negotiable | bool    | True if the price is 0, that means it's negotiable (No set price) |\n",
    "| Price | int64   | Used car price in Riyal|\n"
   ]
  },
  {
   "cell_type": "code",
   "execution_count": 4,
   "metadata": {},
   "outputs": [
    {
     "name": "stdout",
     "output_type": "stream",
     "text": [
      "<class 'pandas.core.frame.DataFrame'>\n",
      "RangeIndex: 5624 entries, 0 to 5623\n",
      "Data columns (total 11 columns):\n",
      " #   Column       Non-Null Count  Dtype  \n",
      "---  ------       --------------  -----  \n",
      " 0   Type         5624 non-null   object \n",
      " 1   Region       5624 non-null   object \n",
      " 2   Make         5624 non-null   object \n",
      " 3   Gear_Type    5624 non-null   object \n",
      " 4   Origin       5624 non-null   object \n",
      " 5   Options      5624 non-null   object \n",
      " 6   Year         5624 non-null   int64  \n",
      " 7   Engine_Size  5624 non-null   float64\n",
      " 8   Mileage      5624 non-null   int64  \n",
      " 9   Negotiable   5624 non-null   bool   \n",
      " 10  Price        5624 non-null   int64  \n",
      "dtypes: bool(1), float64(1), int64(3), object(6)\n",
      "memory usage: 445.0+ KB\n"
     ]
    }
   ],
   "source": [
    "df.info()"
   ]
  },
  {
   "cell_type": "markdown",
   "metadata": {},
   "source": [
    "# Data Introduction"
   ]
  },
  {
   "cell_type": "code",
   "execution_count": 5,
   "metadata": {},
   "outputs": [
    {
     "data": {
      "text/plain": [
       "(5624, 11)"
      ]
     },
     "execution_count": 5,
     "metadata": {},
     "output_type": "execute_result"
    }
   ],
   "source": [
    "df.shape"
   ]
  },
  {
   "cell_type": "code",
   "execution_count": 6,
   "metadata": {},
   "outputs": [
    {
     "data": {
      "text/html": [
       "<div>\n",
       "<style scoped>\n",
       "    .dataframe tbody tr th:only-of-type {\n",
       "        vertical-align: middle;\n",
       "    }\n",
       "\n",
       "    .dataframe tbody tr th {\n",
       "        vertical-align: top;\n",
       "    }\n",
       "\n",
       "    .dataframe thead th {\n",
       "        text-align: right;\n",
       "    }\n",
       "</style>\n",
       "<table border=\"1\" class=\"dataframe\">\n",
       "  <thead>\n",
       "    <tr style=\"text-align: right;\">\n",
       "      <th></th>\n",
       "      <th>Year</th>\n",
       "      <th>Engine_Size</th>\n",
       "      <th>Mileage</th>\n",
       "      <th>Price</th>\n",
       "    </tr>\n",
       "  </thead>\n",
       "  <tbody>\n",
       "    <tr>\n",
       "      <th>count</th>\n",
       "      <td>5624.000000</td>\n",
       "      <td>5624.000000</td>\n",
       "      <td>5.624000e+03</td>\n",
       "      <td>5624.000000</td>\n",
       "    </tr>\n",
       "    <tr>\n",
       "      <th>mean</th>\n",
       "      <td>2014.101885</td>\n",
       "      <td>3.295430</td>\n",
       "      <td>1.509234e+05</td>\n",
       "      <td>53074.058144</td>\n",
       "    </tr>\n",
       "    <tr>\n",
       "      <th>std</th>\n",
       "      <td>5.791606</td>\n",
       "      <td>1.515108</td>\n",
       "      <td>3.828360e+05</td>\n",
       "      <td>70155.340614</td>\n",
       "    </tr>\n",
       "    <tr>\n",
       "      <th>min</th>\n",
       "      <td>1963.000000</td>\n",
       "      <td>1.000000</td>\n",
       "      <td>1.000000e+02</td>\n",
       "      <td>0.000000</td>\n",
       "    </tr>\n",
       "    <tr>\n",
       "      <th>25%</th>\n",
       "      <td>2012.000000</td>\n",
       "      <td>2.000000</td>\n",
       "      <td>3.800000e+04</td>\n",
       "      <td>0.000000</td>\n",
       "    </tr>\n",
       "    <tr>\n",
       "      <th>50%</th>\n",
       "      <td>2016.000000</td>\n",
       "      <td>3.000000</td>\n",
       "      <td>1.030000e+05</td>\n",
       "      <td>36500.000000</td>\n",
       "    </tr>\n",
       "    <tr>\n",
       "      <th>75%</th>\n",
       "      <td>2018.000000</td>\n",
       "      <td>4.500000</td>\n",
       "      <td>1.960000e+05</td>\n",
       "      <td>72932.500000</td>\n",
       "    </tr>\n",
       "    <tr>\n",
       "      <th>max</th>\n",
       "      <td>2022.000000</td>\n",
       "      <td>9.000000</td>\n",
       "      <td>2.000000e+07</td>\n",
       "      <td>850000.000000</td>\n",
       "    </tr>\n",
       "  </tbody>\n",
       "</table>\n",
       "</div>"
      ],
      "text/plain": [
       "              Year  Engine_Size       Mileage          Price\n",
       "count  5624.000000  5624.000000  5.624000e+03    5624.000000\n",
       "mean   2014.101885     3.295430  1.509234e+05   53074.058144\n",
       "std       5.791606     1.515108  3.828360e+05   70155.340614\n",
       "min    1963.000000     1.000000  1.000000e+02       0.000000\n",
       "25%    2012.000000     2.000000  3.800000e+04       0.000000\n",
       "50%    2016.000000     3.000000  1.030000e+05   36500.000000\n",
       "75%    2018.000000     4.500000  1.960000e+05   72932.500000\n",
       "max    2022.000000     9.000000  2.000000e+07  850000.000000"
      ]
     },
     "execution_count": 6,
     "metadata": {},
     "output_type": "execute_result"
    }
   ],
   "source": [
    "df.describe()"
   ]
  },
  {
   "cell_type": "code",
   "execution_count": 7,
   "metadata": {},
   "outputs": [
    {
     "data": {
      "text/html": [
       "<div>\n",
       "<style scoped>\n",
       "    .dataframe tbody tr th:only-of-type {\n",
       "        vertical-align: middle;\n",
       "    }\n",
       "\n",
       "    .dataframe tbody tr th {\n",
       "        vertical-align: top;\n",
       "    }\n",
       "\n",
       "    .dataframe thead th {\n",
       "        text-align: right;\n",
       "    }\n",
       "</style>\n",
       "<table border=\"1\" class=\"dataframe\">\n",
       "  <thead>\n",
       "    <tr style=\"text-align: right;\">\n",
       "      <th></th>\n",
       "      <th>Type</th>\n",
       "      <th>Region</th>\n",
       "      <th>Make</th>\n",
       "      <th>Gear_Type</th>\n",
       "      <th>Origin</th>\n",
       "      <th>Options</th>\n",
       "    </tr>\n",
       "  </thead>\n",
       "  <tbody>\n",
       "    <tr>\n",
       "      <th>count</th>\n",
       "      <td>5624</td>\n",
       "      <td>5624</td>\n",
       "      <td>5624</td>\n",
       "      <td>5624</td>\n",
       "      <td>5624</td>\n",
       "      <td>5624</td>\n",
       "    </tr>\n",
       "    <tr>\n",
       "      <th>unique</th>\n",
       "      <td>347</td>\n",
       "      <td>27</td>\n",
       "      <td>58</td>\n",
       "      <td>2</td>\n",
       "      <td>4</td>\n",
       "      <td>3</td>\n",
       "    </tr>\n",
       "    <tr>\n",
       "      <th>top</th>\n",
       "      <td>Land Cruiser</td>\n",
       "      <td>Riyadh</td>\n",
       "      <td>Toyota</td>\n",
       "      <td>Automatic</td>\n",
       "      <td>Saudi</td>\n",
       "      <td>Full</td>\n",
       "    </tr>\n",
       "    <tr>\n",
       "      <th>freq</th>\n",
       "      <td>269</td>\n",
       "      <td>2272</td>\n",
       "      <td>1431</td>\n",
       "      <td>4875</td>\n",
       "      <td>4188</td>\n",
       "      <td>2233</td>\n",
       "    </tr>\n",
       "  </tbody>\n",
       "</table>\n",
       "</div>"
      ],
      "text/plain": [
       "                Type  Region    Make  Gear_Type Origin Options\n",
       "count           5624    5624    5624       5624   5624    5624\n",
       "unique           347      27      58          2      4       3\n",
       "top     Land Cruiser  Riyadh  Toyota  Automatic  Saudi    Full\n",
       "freq             269    2272    1431       4875   4188    2233"
      ]
     },
     "execution_count": 7,
     "metadata": {},
     "output_type": "execute_result"
    }
   ],
   "source": [
    "df.describe(include='object')"
   ]
  },
  {
   "cell_type": "markdown",
   "metadata": {},
   "source": [
    "# Exploratory Data Analysis"
   ]
  },
  {
   "cell_type": "markdown",
   "metadata": {},
   "source": [
    "#### Distribution Price\n"
   ]
  },
  {
   "cell_type": "code",
   "execution_count": 8,
   "metadata": {},
   "outputs": [
    {
     "data": {
      "image/png": "[encoded data removed]",
      "text/plain": [
       "<Figure size 720x288 with 1 Axes>"
      ]
     },
     "metadata": {
      "needs_background": "light"
     },
     "output_type": "display_data"
    }
   ],
   "source": [
    "# Distribution Plot untuk Price\n",
    "plt.figure(figsize=(10,4))\n",
    "sns.histplot(data=df, x='Price', kde=True)\n",
    "plt.title('Price Distribution')\n",
    "plt.show()"
   ]
  },
  {
   "cell_type": "markdown",
   "metadata": {},
   "source": [
    "Berdasarkan Distirbusion Plot, harga mobil mayoritas ada di harga 0, hal ini dikarenakan para penjual mobil memilih opsi *negotiable*, dimana calon pembeli dapat menawar harga yang mereka inginkan, jika penjual setuju dengan harga yang ditawarkan oleh calon pembeli, maka transaksi dapat berlangsung"
   ]
  },
  {
   "cell_type": "markdown",
   "metadata": {},
   "source": [
    "#### Distribution Mileage"
   ]
  },
  {
   "cell_type": "code",
   "execution_count": 9,
   "metadata": {},
   "outputs": [
    {
     "data": {
      "image/png": "[encoded data removed]",
      "text/plain": [
       "<Figure size 720x288 with 1 Axes>"
      ]
     },
     "metadata": {
      "needs_background": "light"
     },
     "output_type": "display_data"
    }
   ],
   "source": [
    "# Distribution Plot untuk Mileage\n",
    "plt.figure(figsize=(10,4))\n",
    "sns.histplot(data=df, x='Mileage', kde=True)\n",
    "plt.title('Mileage Distribution')\n",
    "plt.show()"
   ]
  },
  {
   "cell_type": "markdown",
   "metadata": {},
   "source": [
    "Disini adanya persebaran data Mileage sangat Right Skew"
   ]
  },
  {
   "cell_type": "markdown",
   "metadata": {},
   "source": [
    "#### Gear Type"
   ]
  },
  {
   "cell_type": "code",
   "execution_count": 10,
   "metadata": {},
   "outputs": [
    {
     "data": {
      "image/png": "[encoded data removed]",
      "text/plain": [
       "<Figure size 432x288 with 1 Axes>"
      ]
     },
     "metadata": {
      "needs_background": "light"
     },
     "output_type": "display_data"
    }
   ],
   "source": [
    "sns.countplot(data=df, x='Gear_Type')\n",
    "plt.title('Gear Type Count')\n",
    "plt.show()"
   ]
  },
  {
   "cell_type": "markdown",
   "metadata": {},
   "source": [
    "Secara grafik diatas, dapat dilihat bahwa tipe tranmisi Automatic banyak dijual di platform ini"
   ]
  },
  {
   "cell_type": "code",
   "execution_count": 11,
   "metadata": {},
   "outputs": [
    {
     "data": {
      "image/png": "[encoded data removed]",
      "text/plain": [
       "<Figure size 432x288 with 1 Axes>"
      ]
     },
     "metadata": {
      "needs_background": "light"
     },
     "output_type": "display_data"
    }
   ],
   "source": [
    "sns.boxplot(data=df, x='Gear_Type', y='Price')\n",
    "plt.title('Price Boxplot for Gear Type')\n",
    "plt.show()"
   ]
  },
  {
   "cell_type": "markdown",
   "metadata": {},
   "source": [
    "secara harga, mobil dengan Gear Type Automatic memiliki harga rata-rata lebih tinggi daripada Manual"
   ]
  },
  {
   "cell_type": "markdown",
   "metadata": {},
   "source": [
    "#### Region"
   ]
  },
  {
   "cell_type": "code",
   "execution_count": 12,
   "metadata": {},
   "outputs": [
    {
     "data": {
      "image/png": "[encoded data removed]",
      "text/plain": [
       "<Figure size 720x576 with 1 Axes>"
      ]
     },
     "metadata": {
      "needs_background": "light"
     },
     "output_type": "display_data"
    }
   ],
   "source": [
    "plt.figure(figsize=(10,8))\n",
    "sns.countplot(data=df, y='Region', order=df['Region'].value_counts().index)\n",
    "plt.title('Countplot for Region')\n",
    "plt.show()"
   ]
  },
  {
   "cell_type": "code",
   "execution_count": 13,
   "metadata": {},
   "outputs": [
    {
     "data": {
      "text/plain": [
       "Riyadh            2272\n",
       "Dammam             925\n",
       "Jeddah             733\n",
       "Qassim             225\n",
       "Al-Medina          214\n",
       "Al-Ahsa            166\n",
       "Aseer              163\n",
       "Makkah             153\n",
       "Taef               103\n",
       "Tabouk              97\n",
       "Khobar              76\n",
       "Abha                64\n",
       "Jazan               60\n",
       "Hail                58\n",
       "Jubail              56\n",
       "Najran              42\n",
       "Hafar Al-Batin      39\n",
       "Al-Baha             35\n",
       "Yanbu               27\n",
       "Al-Jouf             27\n",
       "Arar                22\n",
       "Besha               16\n",
       "Qurayyat            13\n",
       "Al-Namas            12\n",
       "Wadi Dawasir        12\n",
       "Sakaka              10\n",
       "Sabya                4\n",
       "Name: Region, dtype: int64"
      ]
     },
     "execution_count": 13,
     "metadata": {},
     "output_type": "execute_result"
    }
   ],
   "source": [
    "df['Region'].value_counts()"
   ]
  },
  {
   "cell_type": "markdown",
   "metadata": {},
   "source": [
    "Disini penjualan terbanyak ada di daerah Riyadh, untuk daerah-daerah lainnya dengan jumlah sedikit, akan dikumpulkan kedalam 1 kategori"
   ]
  },
  {
   "cell_type": "markdown",
   "metadata": {},
   "source": [
    "#### Origin"
   ]
  },
  {
   "cell_type": "code",
   "execution_count": 14,
   "metadata": {},
   "outputs": [
    {
     "data": {
      "image/png": "[encoded data removed]",
      "text/plain": [
       "<Figure size 432x288 with 1 Axes>"
      ]
     },
     "metadata": {
      "needs_background": "light"
     },
     "output_type": "display_data"
    }
   ],
   "source": [
    "sns.countplot(data=df, x='Origin')\n",
    "plt.title('Origin Countplot')\n",
    "plt.show()"
   ]
  },
  {
   "cell_type": "markdown",
   "metadata": {},
   "source": [
    "Untuk feature Origin, lokasi awal yang digunakan paling banyak adalah Saudi dan berikutnyba adalah Gulf Arabic. untuk bagian unknowns akan dimasukan ke bagian Other karena kita tidak tau lokasi awal apa yang digunakan oleh mereka"
   ]
  },
  {
   "cell_type": "markdown",
   "metadata": {},
   "source": [
    "#### Engine Size"
   ]
  },
  {
   "cell_type": "code",
   "execution_count": 15,
   "metadata": {},
   "outputs": [
    {
     "data": {
      "image/png": "[encoded data removed]",
      "text/plain": [
       "<Figure size 432x288 with 1 Axes>"
      ]
     },
     "metadata": {
      "needs_background": "light"
     },
     "output_type": "display_data"
    }
   ],
   "source": [
    "sns.regplot(data=df, x='Engine_Size', y='Price')\n",
    "plt.title('Engine Size vs Price')\n",
    "plt.show()"
   ]
  },
  {
   "cell_type": "markdown",
   "metadata": {},
   "source": [
    "Engine Size terlihat tidak memiliki pengaruh terhadap harga"
   ]
  },
  {
   "cell_type": "markdown",
   "metadata": {},
   "source": [
    "#### Options"
   ]
  },
  {
   "cell_type": "code",
   "execution_count": 16,
   "metadata": {},
   "outputs": [
    {
     "data": {
      "image/png": "[encoded data removed]",
      "text/plain": [
       "<Figure size 432x288 with 1 Axes>"
      ]
     },
     "metadata": {
      "needs_background": "light"
     },
     "output_type": "display_data"
    }
   ],
   "source": [
    "sns.barplot(data=df, x='Options', y='Price')\n",
    "plt.title('Option Price Distribution')\n",
    "plt.show()"
   ]
  },
  {
   "cell_type": "markdown",
   "metadata": {},
   "source": [
    "untuk kolom `Option`, menjelaskan bahwa mobil mana yang memilih opsi-opsi apa saja yang akan dimasukan kedalam mobil. Jika *Full*, maka mobil akan semakin mahal, sedangkan *Standard* akan lebih murah. Disini terlihat lebih banyak mobil yang menggunakan `Option` *Full*."
   ]
  },
  {
   "cell_type": "markdown",
   "metadata": {},
   "source": [
    "#### Type"
   ]
  },
  {
   "cell_type": "code",
   "execution_count": 17,
   "metadata": {},
   "outputs": [
    {
     "data": {
      "text/plain": [
       "Land Cruiser    269\n",
       "Camry           234\n",
       "Hilux           207\n",
       "Accent          174\n",
       "Yukon           162\n",
       "               ... \n",
       "Nativa            1\n",
       "360               1\n",
       "GC7               1\n",
       "CT5               1\n",
       "S8                1\n",
       "Name: Type, Length: 347, dtype: int64"
      ]
     },
     "execution_count": 17,
     "metadata": {},
     "output_type": "execute_result"
    }
   ],
   "source": [
    "df['Type'].value_counts()"
   ]
  },
  {
   "cell_type": "markdown",
   "metadata": {},
   "source": [
    "untuk tipe-tipe mobil, ada sebanyak 347 mobil yang dijual dan banyak mobil-mobil antik yang memiliki jumlah yang sedikit, hal ini akan menjadi kendala dalam Machine Learning. Sebelum ke proces modeling, tipe-tipe mobil yang memiliki jumlah kurang dari 50 akan dikelompokan menjadi 1 dengan nama *Other*"
   ]
  },
  {
   "cell_type": "markdown",
   "metadata": {},
   "source": [
    "### Make"
   ]
  },
  {
   "cell_type": "code",
   "execution_count": 18,
   "metadata": {},
   "outputs": [
    {
     "data": {
      "text/plain": [
       "Toyota          1431\n",
       "Hyundai          670\n",
       "Ford             530\n",
       "Chevrolet        458\n",
       "Nissan           387\n",
       "GMC              282\n",
       "Kia              251\n",
       "Mercedes         226\n",
       "Lexus            222\n",
       "Mazda            129\n",
       "Honda            115\n",
       "BMW               97\n",
       "Dodge             95\n",
       "Mitsubishi        94\n",
       "Land Rover        79\n",
       "Jeep              56\n",
       "Chrysler          50\n",
       "Audi              38\n",
       "Changan           36\n",
       "Renault           35\n",
       "Cadillac          31\n",
       "Genesis           31\n",
       "Isuzu             25\n",
       "Geely             24\n",
       "Volkswagen        23\n",
       "Porsche           22\n",
       "MG                21\n",
       "Suzuki            16\n",
       "Lincoln           16\n",
       "INFINITI          15\n",
       "HAVAL             14\n",
       "MINI              11\n",
       "Other             10\n",
       "Daihatsu           9\n",
       "Jaguar             9\n",
       "Mercury            9\n",
       "Peugeot            8\n",
       "Fiat               7\n",
       "Hummer             5\n",
       "Bentley            4\n",
       "Great Wall         4\n",
       "FAW                4\n",
       "Rolls-Royce        3\n",
       "Maserati           3\n",
       "GAC                3\n",
       "Foton              2\n",
       "Zhengzhou          2\n",
       "Aston Martin       2\n",
       "Lifan              1\n",
       "Chery              1\n",
       "Classic            1\n",
       "Victory Auto       1\n",
       "Škoda              1\n",
       "BYD                1\n",
       "Iveco              1\n",
       "SsangYong          1\n",
       "Tata               1\n",
       "Ferrari            1\n",
       "Name: Make, dtype: int64"
      ]
     },
     "execution_count": 18,
     "metadata": {},
     "output_type": "execute_result"
    }
   ],
   "source": [
    "df['Make'].value_counts()"
   ]
  },
  {
   "cell_type": "markdown",
   "metadata": {},
   "source": [
    "begitu juga dengan feature `Make`, untuk yang tidak memiliki jumlah diatas 10, akan dimasukan ke bagian *Other*"
   ]
  },
  {
   "cell_type": "markdown",
   "metadata": {},
   "source": [
    "#### Negotiable"
   ]
  },
  {
   "cell_type": "code",
   "execution_count": 19,
   "metadata": {},
   "outputs": [
    {
     "data": {
      "text/plain": [
       "False    3828\n",
       "True     1796\n",
       "Name: Negotiable, dtype: int64"
      ]
     },
     "execution_count": 19,
     "metadata": {},
     "output_type": "execute_result"
    }
   ],
   "source": [
    "df['Negotiable'].value_counts()"
   ]
  },
  {
   "cell_type": "markdown",
   "metadata": {},
   "source": [
    "1796 mobil yang dimasukan ke marketplace menggunakan sistem `Negotiable`. Untuk yang menggunakan sistem nego, mereka akan menaruh harga 0 di dalam sistem. Hal ini dapat mengganggu sistem Machine Learning kita, sehingga kita akan membuang data-data tersebut."
   ]
  },
  {
   "cell_type": "markdown",
   "metadata": {},
   "source": [
    "#### Year"
   ]
  },
  {
   "cell_type": "code",
   "execution_count": 20,
   "metadata": {},
   "outputs": [
    {
     "data": {
      "image/png": "[encoded data removed]",
      "text/plain": [
       "<Figure size 432x288 with 1 Axes>"
      ]
     },
     "metadata": {
      "needs_background": "light"
     },
     "output_type": "display_data"
    }
   ],
   "source": [
    "sns.scatterplot(data=df, x='Year', y='Price')\n",
    "plt.title('Year vs Price')\n",
    "plt.show()"
   ]
  },
  {
   "cell_type": "markdown",
   "metadata": {},
   "source": [
    "Untuk data Tahun dan Harga terlihat adanya korelasi positif, untuk mobil yang semakin baru memiliki harga jual yang lebih tinggi dibandingkan dengan mobil lama"
   ]
  },
  {
   "cell_type": "markdown",
   "metadata": {},
   "source": [
    "# **Data Preprocessing**"
   ]
  },
  {
   "cell_type": "markdown",
   "metadata": {},
   "source": [
    "pada tahap ini, kita akan melakukan cleaning pada data kita. kita akan melakukan:\n",
    "- Outlier Cleaning\n",
    "- Input Missing Value\n",
    "- Drop Column"
   ]
  },
  {
   "cell_type": "markdown",
   "metadata": {},
   "source": [
    "### Categorical"
   ]
  },
  {
   "cell_type": "code",
   "execution_count": 21,
   "metadata": {},
   "outputs": [],
   "source": [
    "df_model = df.copy()"
   ]
  },
  {
   "cell_type": "code",
   "execution_count": 22,
   "metadata": {},
   "outputs": [
    {
     "data": {
      "text/plain": [
       "Type           0\n",
       "Region         0\n",
       "Make           0\n",
       "Gear_Type      0\n",
       "Origin         0\n",
       "Options        0\n",
       "Year           0\n",
       "Engine_Size    0\n",
       "Mileage        0\n",
       "Negotiable     0\n",
       "Price          0\n",
       "dtype: int64"
      ]
     },
     "execution_count": 22,
     "metadata": {},
     "output_type": "execute_result"
    }
   ],
   "source": [
    "# Mengecek jumlah NaN\n",
    "df_model.isna().sum()"
   ]
  },
  {
   "cell_type": "code",
   "execution_count": 23,
   "metadata": {},
   "outputs": [
    {
     "data": {
      "text/plain": [
       "4"
      ]
     },
     "execution_count": 23,
     "metadata": {},
     "output_type": "execute_result"
    }
   ],
   "source": [
    "# mengecek jumlah duplikat\n",
    "df_model.duplicated().sum()"
   ]
  },
  {
   "cell_type": "markdown",
   "metadata": {},
   "source": [
    "melalui pengecekan sederhana, terlihat tidak ada data Nan Values. Hanya saja ketika kita melakukan EDA pada tahap sebelum ini, terlihat ada data yang diisi dengan *Unknow* pada fitur `Origin`. Untuk duplikat, hanya ada 4 data, kita cukup menghilangkan data tersebut"
   ]
  },
  {
   "cell_type": "code",
   "execution_count": 24,
   "metadata": {},
   "outputs": [
    {
     "data": {
      "text/plain": [
       "(5620, 11)"
      ]
     },
     "execution_count": 24,
     "metadata": {},
     "output_type": "execute_result"
    }
   ],
   "source": [
    "# drop duplikat\n",
    "df_model.drop_duplicates(inplace=True)\n",
    "df_model.shape"
   ]
  },
  {
   "cell_type": "code",
   "execution_count": 25,
   "metadata": {},
   "outputs": [
    {
     "data": {
      "text/html": [
       "<div>\n",
       "<style scoped>\n",
       "    .dataframe tbody tr th:only-of-type {\n",
       "        vertical-align: middle;\n",
       "    }\n",
       "\n",
       "    .dataframe tbody tr th {\n",
       "        vertical-align: top;\n",
       "    }\n",
       "\n",
       "    .dataframe thead th {\n",
       "        text-align: right;\n",
       "    }\n",
       "</style>\n",
       "<table border=\"1\" class=\"dataframe\">\n",
       "  <thead>\n",
       "    <tr style=\"text-align: right;\">\n",
       "      <th></th>\n",
       "      <th>Features</th>\n",
       "      <th>unique</th>\n",
       "      <th>uniqueSample</th>\n",
       "    </tr>\n",
       "  </thead>\n",
       "  <tbody>\n",
       "    <tr>\n",
       "      <th>0</th>\n",
       "      <td>Type</td>\n",
       "      <td>347</td>\n",
       "      <td>[Corolla, Yukon, Range Rover, Optima, FJ, CX3,...</td>\n",
       "    </tr>\n",
       "    <tr>\n",
       "      <th>1</th>\n",
       "      <td>Region</td>\n",
       "      <td>27</td>\n",
       "      <td>[Abha, Riyadh, Hafar Al-Batin, Aseer, Makkah, ...</td>\n",
       "    </tr>\n",
       "    <tr>\n",
       "      <th>2</th>\n",
       "      <td>Make</td>\n",
       "      <td>58</td>\n",
       "      <td>[Toyota, GMC, Land Rover, Kia, Mazda, Porsche,...</td>\n",
       "    </tr>\n",
       "    <tr>\n",
       "      <th>3</th>\n",
       "      <td>Gear_Type</td>\n",
       "      <td>2</td>\n",
       "      <td>[Manual, Automatic]</td>\n",
       "    </tr>\n",
       "    <tr>\n",
       "      <th>4</th>\n",
       "      <td>Origin</td>\n",
       "      <td>4</td>\n",
       "      <td>[Saudi, Gulf Arabic, Other, Unknown]</td>\n",
       "    </tr>\n",
       "    <tr>\n",
       "      <th>5</th>\n",
       "      <td>Options</td>\n",
       "      <td>3</td>\n",
       "      <td>[Standard, Full, Semi Full]</td>\n",
       "    </tr>\n",
       "    <tr>\n",
       "      <th>6</th>\n",
       "      <td>Year</td>\n",
       "      <td>50</td>\n",
       "      <td>[2013, 2014, 2015, 2020, 2019, 2012, 2016, 199...</td>\n",
       "    </tr>\n",
       "    <tr>\n",
       "      <th>7</th>\n",
       "      <td>Engine_Size</td>\n",
       "      <td>71</td>\n",
       "      <td>[1.4, 8.0, 5.0, 2.4, 4.0, 2.0, 4.8, 3.5, 4.6, ...</td>\n",
       "    </tr>\n",
       "    <tr>\n",
       "      <th>8</th>\n",
       "      <td>Mileage</td>\n",
       "      <td>1716</td>\n",
       "      <td>[421000, 80000, 140000, 220000, 49000, 25000, ...</td>\n",
       "    </tr>\n",
       "    <tr>\n",
       "      <th>9</th>\n",
       "      <td>Negotiable</td>\n",
       "      <td>2</td>\n",
       "      <td>[True, False]</td>\n",
       "    </tr>\n",
       "    <tr>\n",
       "      <th>10</th>\n",
       "      <td>Price</td>\n",
       "      <td>467</td>\n",
       "      <td>[0, 120000, 260000, 42000, 58000, 85000, 48000...</td>\n",
       "    </tr>\n",
       "  </tbody>\n",
       "</table>\n",
       "</div>"
      ],
      "text/plain": [
       "       Features  unique                                       uniqueSample\n",
       "0          Type     347  [Corolla, Yukon, Range Rover, Optima, FJ, CX3,...\n",
       "1        Region      27  [Abha, Riyadh, Hafar Al-Batin, Aseer, Makkah, ...\n",
       "2          Make      58  [Toyota, GMC, Land Rover, Kia, Mazda, Porsche,...\n",
       "3     Gear_Type       2                                [Manual, Automatic]\n",
       "4        Origin       4               [Saudi, Gulf Arabic, Other, Unknown]\n",
       "5       Options       3                        [Standard, Full, Semi Full]\n",
       "6          Year      50  [2013, 2014, 2015, 2020, 2019, 2012, 2016, 199...\n",
       "7   Engine_Size      71  [1.4, 8.0, 5.0, 2.4, 4.0, 2.0, 4.8, 3.5, 4.6, ...\n",
       "8       Mileage    1716  [421000, 80000, 140000, 220000, 49000, 25000, ...\n",
       "9    Negotiable       2                                      [True, False]\n",
       "10        Price     467  [0, 120000, 260000, 42000, 58000, 85000, 48000..."
      ]
     },
     "execution_count": 25,
     "metadata": {},
     "output_type": "execute_result"
    }
   ],
   "source": [
    "# melihat jumlah unique dan unique sample yang ada dalam tiap fitur\n",
    "listItem = []\n",
    "\n",
    "for col in df_model.columns:\n",
    "    listItem.append([col, df_model[col].nunique(), df_model[col].unique()]);\n",
    "\n",
    "df_model_desc = pd.DataFrame(columns=['Features', 'unique', 'uniqueSample'],\n",
    "                     data=listItem)\n",
    "df_model_desc\n"
   ]
  },
  {
   "cell_type": "markdown",
   "metadata": {},
   "source": [
    "#### Origin"
   ]
  },
  {
   "cell_type": "markdown",
   "metadata": {},
   "source": [
    "seakrang terlihat adanya data NaN Values yang tidak terlihat melalui function yang disediakan oleh Pyhton, yaitu pada feature `Origin`. Untuk data tersebut akan dibuah ke *Other*"
   ]
  },
  {
   "cell_type": "code",
   "execution_count": 26,
   "metadata": {},
   "outputs": [],
   "source": [
    "# mengubah kategori Unknown menjadi Other dalam fitur Origin\n",
    "df_model['Origin'].replace('Unknown', 'Other', inplace=True)"
   ]
  },
  {
   "cell_type": "markdown",
   "metadata": {},
   "source": [
    "#### Negotiable"
   ]
  },
  {
   "cell_type": "markdown",
   "metadata": {},
   "source": [
    "Untuk fitur `Negotiable`, karena fitur tersebut hanya menjelaskan apakah mobil yang terjual dapat ditawar atau tidak, fitur tersebut tidak memiliki pengaruh harga terhadap mobil. Jadi berdasarkan pertimbangan tersebut, kita tidak akan menggunakan fitur tersebut untuk model machine learning"
   ]
  },
  {
   "cell_type": "code",
   "execution_count": 27,
   "metadata": {},
   "outputs": [],
   "source": [
    "# membuang fitur Negotiable\n",
    "df_model.drop(columns='Negotiable', inplace=True)"
   ]
  },
  {
   "cell_type": "markdown",
   "metadata": {},
   "source": [
    "#### Type"
   ]
  },
  {
   "cell_type": "markdown",
   "metadata": {},
   "source": [
    "untuk `Type` mobil. ketika jumlah tiap kategori lebih sedikit dari 3, mereka akan dikelompokan menjadi 1 kategori, karena dapat dibilang bahwa mobil tersebut sebagai mobil langka/tidak umum, sehingga kita tidak punya cukup data untuk mempelajari `Type` mobil tersebut"
   ]
  },
  {
   "cell_type": "code",
   "execution_count": 28,
   "metadata": {},
   "outputs": [],
   "source": [
    "# mengubah tipe mobil yang memiliki jumlah dibawah 3 menjadi Other\n",
    "type_change_index = df_model['Type'].value_counts().loc[lambda x : x < 3].index\n",
    "df_model.loc[df_model['Type'].isin(type_change_index), 'Type'] = 'Other'"
   ]
  },
  {
   "cell_type": "markdown",
   "metadata": {},
   "source": [
    "#### Make"
   ]
  },
  {
   "cell_type": "markdown",
   "metadata": {},
   "source": [
    "begitu juga untuk `Make`, kita akan mengelompokkan categori yang lebih sedikit dari 3"
   ]
  },
  {
   "cell_type": "code",
   "execution_count": 29,
   "metadata": {},
   "outputs": [],
   "source": [
    "# mengubah merek mobil yang memiliki jumlah dibawah 3 menjadi Other\n",
    "make_change_index = df_model['Make'].value_counts().loc[lambda x : x < 3].index\n",
    "df_model.loc[df_model['Make'].isin(make_change_index), 'Make'] = 'Other'"
   ]
  },
  {
   "cell_type": "markdown",
   "metadata": {},
   "source": [
    "#### Region"
   ]
  },
  {
   "cell_type": "markdown",
   "metadata": {},
   "source": [
    "begitu juga untuk `Region`, kita akan mengelompokkan categori yang lebih sedikit dari 20"
   ]
  },
  {
   "cell_type": "code",
   "execution_count": 30,
   "metadata": {},
   "outputs": [],
   "source": [
    "# mengubah region yang memiliki jumlah dibawah 20 menjadi Other\n",
    "make_change_index = df_model['Region'].value_counts().loc[lambda x : x < 20].index\n",
    "df_model.loc[df_model['Region'].isin(make_change_index), 'Region'] = 'Other'"
   ]
  },
  {
   "cell_type": "markdown",
   "metadata": {},
   "source": [
    "### Numerical"
   ]
  },
  {
   "cell_type": "code",
   "execution_count": 31,
   "metadata": {},
   "outputs": [],
   "source": [
    "# Simple Function untuk mengecek outliers\n",
    "def up_bot_limit(column):\n",
    "    q1 = df_model[column].describe()['25%']\n",
    "    q3 = df_model[column].describe()['75%']\n",
    "    iqr = q3 - q1\n",
    "    limit_bawah = q1 - (iqr*1.5)\n",
    "    limit_atas = q3 + (iqr*1.5)\n",
    "    print(f'Limit Bawah {limit_bawah}')\n",
    "    print(f'Limit Atas {limit_atas}')"
   ]
  },
  {
   "cell_type": "code",
   "execution_count": 32,
   "metadata": {},
   "outputs": [
    {
     "name": "stdout",
     "output_type": "stream",
     "text": [
      "Year\n",
      "Limit Bawah 2003.0\n",
      "Limit Atas 2027.0\n",
      "\n",
      "Engine_Size\n",
      "Limit Bawah -1.75\n",
      "Limit Atas 8.25\n",
      "\n",
      "Mileage\n",
      "Limit Bawah -199000.0\n",
      "Limit Atas 433000.0\n",
      "\n",
      "Price\n",
      "Limit Bawah -109500.0\n",
      "Limit Atas 182500.0\n",
      "\n"
     ]
    }
   ],
   "source": [
    "# mengecek setiap outlier menggunakan looping\n",
    "for i in df_model.describe().columns :\n",
    "    print(i)\n",
    "    up_bot_limit(i)\n",
    "    print()"
   ]
  },
  {
   "cell_type": "markdown",
   "metadata": {},
   "source": [
    "Sekarang terlihat setiap batas atas dan batas bawah untuk setiap fitur Numerikal. Kita akan menggunakan kombinasi dari metode IQR dan juga domain knowledge untuk membersihkan data dari outliers. Di luar rentang data, hasil prediksi dari model menjadi tidak akurat."
   ]
  },
  {
   "cell_type": "markdown",
   "metadata": {},
   "source": [
    "#### Price"
   ]
  },
  {
   "cell_type": "code",
   "execution_count": 33,
   "metadata": {},
   "outputs": [
    {
     "data": {
      "text/plain": [
       "0.3195729537366548"
      ]
     },
     "execution_count": 33,
     "metadata": {},
     "output_type": "execute_result"
    }
   ],
   "source": [
    "# mengecek berapa persen jumlah mobil yang harganya 0\n",
    "df_model[df_model['Price'] == 0].count()['Price'] / len(df_model)"
   ]
  },
  {
   "cell_type": "markdown",
   "metadata": {},
   "source": [
    "Sekitar 31.95% mobil tertulis dengan harga 0 oleh sistem. Hal ini dikarenakan penjual menyalakan fitur `Negotiable` di market. Secara logika, tidak mungkin penjual memasukan harga 0 alias gratis dalam marketplace, sehingga kita dapat membuang mobil-mobil dengan harga 0 yang ada dalam data."
   ]
  },
  {
   "cell_type": "code",
   "execution_count": 34,
   "metadata": {},
   "outputs": [
    {
     "data": {
      "text/plain": [
       "(3824, 10)"
      ]
     },
     "execution_count": 34,
     "metadata": {},
     "output_type": "execute_result"
    }
   ],
   "source": [
    "# Filtering Data\n",
    "df_model = df_model[df_model['Price'] > 0]\n",
    "df_model.shape"
   ]
  },
  {
   "cell_type": "code",
   "execution_count": 35,
   "metadata": {},
   "outputs": [
    {
     "data": {
      "image/png": "[encoded data removed]",
      "text/plain": [
       "<Figure size 864x288 with 2 Axes>"
      ]
     },
     "metadata": {
      "needs_background": "light"
     },
     "output_type": "display_data"
    }
   ],
   "source": [
    "plt.figure(figsize=(12,4))\n",
    "\n",
    "# Distribution plot sebelum filtering\n",
    "plt.subplot(1,2,1)\n",
    "sns.histplot(data=df, x='Price')\n",
    "\n",
    "# Distirbution plot setelah filtering\n",
    "plt.subplot(1,2,2)\n",
    "sns.histplot(data=df_model , x='Price')\n",
    "\n",
    "plt.show()"
   ]
  },
  {
   "cell_type": "markdown",
   "metadata": {},
   "source": [
    "Untuk outlier, harga dibawah 10.000 akan dibuang karena harga tersebut outlier karena terlalu murah untuk mobil second, dan kita akan membuang mobil dengan harga diatas 400.000 karena terlalu jauh dari kumpulan harga"
   ]
  },
  {
   "cell_type": "code",
   "execution_count": 36,
   "metadata": {},
   "outputs": [
    {
     "data": {
      "text/plain": [
       "(3669, 10)"
      ]
     },
     "execution_count": 36,
     "metadata": {},
     "output_type": "execute_result"
    }
   ],
   "source": [
    "# Filtering Data\n",
    "df_model = df_model[df_model['Price'] < 400000]\n",
    "df_model = df_model[df_model['Price'] > 10000]\n",
    "df_model.shape"
   ]
  },
  {
   "cell_type": "code",
   "execution_count": 37,
   "metadata": {},
   "outputs": [
    {
     "data": {
      "image/png": "[encoded data removed]",
      "text/plain": [
       "<Figure size 432x288 with 1 Axes>"
      ]
     },
     "metadata": {
      "needs_background": "light"
     },
     "output_type": "display_data"
    }
   ],
   "source": [
    "# Dstribution Plot setelah filtering\n",
    "sns.histplot(data=df_model , x='Price')\n",
    "plt.title('Price Distribution After Cleaning')\n",
    "plt.show()"
   ]
  },
  {
   "cell_type": "markdown",
   "metadata": {},
   "source": [
    "#### Year"
   ]
  },
  {
   "cell_type": "code",
   "execution_count": 38,
   "metadata": {},
   "outputs": [
    {
     "data": {
      "text/plain": [
       "91"
      ]
     },
     "execution_count": 38,
     "metadata": {},
     "output_type": "execute_result"
    }
   ],
   "source": [
    "# cek jumlah data yang memiliki mobil dibawah tahun 2003\n",
    "len(df_model[df_model['Year'] < 2003])"
   ]
  },
  {
   "cell_type": "markdown",
   "metadata": {},
   "source": [
    "Untuk fitur `Year`, ktia akan menggunakan metode IQR untuk membuang outier yang ada pada limit bawah. Terdapat 91 mobil yang memiliki tahun lebih tua dari tahun 2003"
   ]
  },
  {
   "cell_type": "code",
   "execution_count": 39,
   "metadata": {},
   "outputs": [
    {
     "data": {
      "text/plain": [
       "(3560, 10)"
      ]
     },
     "execution_count": 39,
     "metadata": {},
     "output_type": "execute_result"
    }
   ],
   "source": [
    "# Filtering Data\n",
    "df_model = df_model[df_model['Year'] > 2003]\n",
    "df_model.shape"
   ]
  },
  {
   "cell_type": "code",
   "execution_count": 51,
   "metadata": {},
   "outputs": [
    {
     "data": {
      "image/png": "[encoded data removed]",
      "text/plain": [
       "<Figure size 864x288 with 2 Axes>"
      ]
     },
     "metadata": {
      "needs_background": "light"
     },
     "output_type": "display_data"
    }
   ],
   "source": [
    "plt.figure(figsize=(12,4))\n",
    "\n",
    "# Distribution Plot sebelom filtering\n",
    "plt.subplot(1,2,1)\n",
    "sns.barplot(data=df , x='Year', y='Year', estimator=len, color='b')\n",
    "\n",
    "# Distribution plot setelah filtering\n",
    "plt.subplot(1,2,2)\n",
    "sns.barplot(data=df_model , x='Year', y='Year', estimator=len, color='b')\n",
    "\n",
    "plt.show()"
   ]
  },
  {
   "cell_type": "markdown",
   "metadata": {},
   "source": [
    "#### Engine Size"
   ]
  },
  {
   "cell_type": "code",
   "execution_count": 41,
   "metadata": {},
   "outputs": [
    {
     "data": {
      "text/plain": [
       "68"
      ]
     },
     "execution_count": 41,
     "metadata": {},
     "output_type": "execute_result"
    }
   ],
   "source": [
    "# cek jumlah data yang memiliki mobil dengan engine size diatas 6\n",
    "len(df_model[df_model['Engine_Size'] > 6])"
   ]
  },
  {
   "cell_type": "markdown",
   "metadata": {},
   "source": [
    "Untuk fitur `Engine_Size`, dengan mempertimbangkan domain knowledge dan melihat persebaran data engine size, diputuskan untuk membuang mobil dengan engine size diatas 6 karena jauh dari kumpulan data. Terdapat 68 mobil yang memiliki engine size diatas 6"
   ]
  },
  {
   "cell_type": "code",
   "execution_count": 42,
   "metadata": {},
   "outputs": [
    {
     "data": {
      "text/plain": [
       "(3439, 10)"
      ]
     },
     "execution_count": 42,
     "metadata": {},
     "output_type": "execute_result"
    }
   ],
   "source": [
    "# Filtering Data\n",
    "df_model = df_model[df_model['Engine_Size'] < 6]\n",
    "df_model.shape"
   ]
  },
  {
   "cell_type": "code",
   "execution_count": 43,
   "metadata": {},
   "outputs": [
    {
     "data": {
      "image/png": "[encoded data removed]",
      "text/plain": [
       "<Figure size 864x288 with 2 Axes>"
      ]
     },
     "metadata": {
      "needs_background": "light"
     },
     "output_type": "display_data"
    }
   ],
   "source": [
    "plt.figure(figsize=(12,4))\n",
    "\n",
    "plt.subplot(1,2,1)\n",
    "sns.histplot(data=df , x='Engine_Size')\n",
    "\n",
    "plt.subplot(1,2,2)\n",
    "sns.histplot(data=df_model , x='Engine_Size')\n",
    "\n",
    "plt.show()"
   ]
  },
  {
   "cell_type": "markdown",
   "metadata": {},
   "source": [
    "#### Mileage"
   ]
  },
  {
   "cell_type": "code",
   "execution_count": 44,
   "metadata": {},
   "outputs": [
    {
     "data": {
      "text/plain": [
       "51"
      ]
     },
     "execution_count": 44,
     "metadata": {},
     "output_type": "execute_result"
    }
   ],
   "source": [
    "# mengecek jumlah mobilk dengan mileage diatas 433.000\n",
    "len(df_model[df_model['Mileage'] > 433000])"
   ]
  },
  {
   "cell_type": "markdown",
   "metadata": {},
   "source": [
    "Untuk fitur `Mileage`, kita akan menggunakan metode IQR untuk menentukan batas atas outlier, yaitu 433.000. Terdapat 51 mobil yang memiliki mileage diatas 433.000"
   ]
  },
  {
   "cell_type": "code",
   "execution_count": 45,
   "metadata": {},
   "outputs": [
    {
     "data": {
      "text/plain": [
       "(3387, 10)"
      ]
     },
     "execution_count": 45,
     "metadata": {},
     "output_type": "execute_result"
    }
   ],
   "source": [
    "# data filtering\n",
    "df_model = df_model[df_model['Mileage'] < 433000]\n",
    "df_model.shape"
   ]
  },
  {
   "cell_type": "code",
   "execution_count": 46,
   "metadata": {},
   "outputs": [
    {
     "data": {
      "image/png": "[encoded data removed]",
      "text/plain": [
       "<Figure size 864x288 with 2 Axes>"
      ]
     },
     "metadata": {
      "needs_background": "light"
     },
     "output_type": "display_data"
    }
   ],
   "source": [
    "plt.figure(figsize=(12,4))\n",
    "\n",
    "# distribusi plot sebelum filtering\n",
    "plt.subplot(1,2,1)\n",
    "sns.histplot(data=df , x='Mileage')\n",
    "\n",
    "# distribusi plot setelah filtering\n",
    "plt.subplot(1,2,2)\n",
    "sns.histplot(data=df_model , x='Mileage')\n",
    "\n",
    "plt.show()"
   ]
  },
  {
   "cell_type": "markdown",
   "metadata": {},
   "source": [
    "#### Check Dataset"
   ]
  },
  {
   "cell_type": "markdown",
   "metadata": {},
   "source": [
    "Sekarang kita akan mengecek sekali lagi semua dataframe yang sudah di ubah"
   ]
  },
  {
   "cell_type": "code",
   "execution_count": 47,
   "metadata": {},
   "outputs": [
    {
     "data": {
      "text/html": [
       "<div>\n",
       "<style scoped>\n",
       "    .dataframe tbody tr th:only-of-type {\n",
       "        vertical-align: middle;\n",
       "    }\n",
       "\n",
       "    .dataframe tbody tr th {\n",
       "        vertical-align: top;\n",
       "    }\n",
       "\n",
       "    .dataframe thead th {\n",
       "        text-align: right;\n",
       "    }\n",
       "</style>\n",
       "<table border=\"1\" class=\"dataframe\">\n",
       "  <thead>\n",
       "    <tr style=\"text-align: right;\">\n",
       "      <th></th>\n",
       "      <th>Features</th>\n",
       "      <th>unique</th>\n",
       "      <th>uniqueSample</th>\n",
       "    </tr>\n",
       "  </thead>\n",
       "  <tbody>\n",
       "    <tr>\n",
       "      <th>0</th>\n",
       "      <td>Type</td>\n",
       "      <td>193</td>\n",
       "      <td>[Range Rover, Optima, CX3, Cayenne S, Sonata, ...</td>\n",
       "    </tr>\n",
       "    <tr>\n",
       "      <th>1</th>\n",
       "      <td>Region</td>\n",
       "      <td>22</td>\n",
       "      <td>[Riyadh, Hafar Al-Batin, Abha, Makkah, Dammam,...</td>\n",
       "    </tr>\n",
       "    <tr>\n",
       "      <th>2</th>\n",
       "      <td>Make</td>\n",
       "      <td>44</td>\n",
       "      <td>[Land Rover, Kia, Mazda, Porsche, Hyundai, Toy...</td>\n",
       "    </tr>\n",
       "    <tr>\n",
       "      <th>3</th>\n",
       "      <td>Gear_Type</td>\n",
       "      <td>2</td>\n",
       "      <td>[Automatic, Manual]</td>\n",
       "    </tr>\n",
       "    <tr>\n",
       "      <th>4</th>\n",
       "      <td>Origin</td>\n",
       "      <td>3</td>\n",
       "      <td>[Gulf Arabic, Saudi, Other]</td>\n",
       "    </tr>\n",
       "    <tr>\n",
       "      <th>5</th>\n",
       "      <td>Options</td>\n",
       "      <td>3</td>\n",
       "      <td>[Full, Semi Full, Standard]</td>\n",
       "    </tr>\n",
       "    <tr>\n",
       "      <th>6</th>\n",
       "      <td>Year</td>\n",
       "      <td>18</td>\n",
       "      <td>[2015, 2019, 2012, 2016, 2013, 2011, 2008, 202...</td>\n",
       "    </tr>\n",
       "    <tr>\n",
       "      <th>7</th>\n",
       "      <td>Engine_Size</td>\n",
       "      <td>48</td>\n",
       "      <td>[5.0, 2.4, 2.0, 4.8, 3.5, 5.7, 4.6, 4.0, 3.0, ...</td>\n",
       "    </tr>\n",
       "    <tr>\n",
       "      <th>8</th>\n",
       "      <td>Mileage</td>\n",
       "      <td>1198</td>\n",
       "      <td>[140000, 220000, 25000, 189000, 155, 110864, 2...</td>\n",
       "    </tr>\n",
       "    <tr>\n",
       "      <th>9</th>\n",
       "      <td>Price</td>\n",
       "      <td>361</td>\n",
       "      <td>[260000, 42000, 58000, 85000, 48000, 81500, 55...</td>\n",
       "    </tr>\n",
       "  </tbody>\n",
       "</table>\n",
       "</div>"
      ],
      "text/plain": [
       "      Features  unique                                       uniqueSample\n",
       "0         Type     193  [Range Rover, Optima, CX3, Cayenne S, Sonata, ...\n",
       "1       Region      22  [Riyadh, Hafar Al-Batin, Abha, Makkah, Dammam,...\n",
       "2         Make      44  [Land Rover, Kia, Mazda, Porsche, Hyundai, Toy...\n",
       "3    Gear_Type       2                                [Automatic, Manual]\n",
       "4       Origin       3                        [Gulf Arabic, Saudi, Other]\n",
       "5      Options       3                        [Full, Semi Full, Standard]\n",
       "6         Year      18  [2015, 2019, 2012, 2016, 2013, 2011, 2008, 202...\n",
       "7  Engine_Size      48  [5.0, 2.4, 2.0, 4.8, 3.5, 5.7, 4.6, 4.0, 3.0, ...\n",
       "8      Mileage    1198  [140000, 220000, 25000, 189000, 155, 110864, 2...\n",
       "9        Price     361  [260000, 42000, 58000, 85000, 48000, 81500, 55..."
      ]
     },
     "execution_count": 47,
     "metadata": {},
     "output_type": "execute_result"
    }
   ],
   "source": [
    "listItem = []\n",
    "\n",
    "for col in df_model.columns:\n",
    "    listItem.append([col, df_model[col].nunique(), df_model[col].unique()]);\n",
    "\n",
    "df_model_desc = pd.DataFrame(columns=['Features', 'unique', 'uniqueSample'],\n",
    "                     data=listItem)\n",
    "df_model_desc\n"
   ]
  },
  {
   "cell_type": "code",
   "execution_count": 48,
   "metadata": {},
   "outputs": [
    {
     "data": {
      "text/plain": [
       "(3387, 10)"
      ]
     },
     "execution_count": 48,
     "metadata": {},
     "output_type": "execute_result"
    }
   ],
   "source": [
    "df_model.shape"
   ]
  },
  {
   "cell_type": "code",
   "execution_count": 49,
   "metadata": {},
   "outputs": [
    {
     "ename": "NameError",
     "evalue": "name 'asd' is not defined",
     "output_type": "error",
     "traceback": [
      "\u001b[1;31m---------------------------------------------------------------------------\u001b[0m",
      "\u001b[1;31mNameError\u001b[0m                                 Traceback (most recent call last)",
      "\u001b[1;32md:\\VS Code\\Capstone Project 03\\Capstone Project 03.ipynb Cell 104\u001b[0m in \u001b[0;36m<cell line: 1>\u001b[1;34m()\u001b[0m\n\u001b[1;32m----> <a href='vscode-notebook-cell:/d%3A/VS%20Code/Capstone%20Project%2003/Capstone%20Project%2003.ipynb#Y323sZmlsZQ%3D%3D?line=0'>1</a>\u001b[0m asd\n",
      "\u001b[1;31mNameError\u001b[0m: name 'asd' is not defined"
     ]
    }
   ],
   "source": [
    "asd"
   ]
  },
  {
   "cell_type": "markdown",
   "metadata": {},
   "source": [
    "pada awalnya, kita memiliki 5624 baris data, sekarang kita memiliki data bersih sebanyak 3387 baris data. Sekarang kita akan menggunakan data tersebut untuk melakukan pemodelan"
   ]
  },
  {
   "cell_type": "markdown",
   "metadata": {},
   "source": [
    "# Modeling"
   ]
  },
  {
   "cell_type": "markdown",
   "metadata": {},
   "source": [
    "#### Encoding\n",
    "\n",
    "pada tahap ini, kita akan mengubah beberapa fitur kategorikal yang terpilih menjadi fitur numerikal, fitur kategorikal yang akan kita ubah:\n",
    "- onehot : `Gear_Type`, `Origin`\n",
    "- ordinal : `Options`\n",
    "- binary : `Type`, `Region`, `Make`\n",
    "\n",
    "alasan metode encoding"
   ]
  },
  {
   "cell_type": "code",
   "execution_count": null,
   "metadata": {},
   "outputs": [],
   "source": [
    "# ordinal mapping untuk fitur Options\n",
    "ordinal_mapping = [\n",
    "    {'col':'Options',\n",
    "    'mapping' :{\n",
    "        'Standard' : 1, \n",
    "        'Semi Full' : 2,\n",
    "        'Full' : 3\n",
    "    }}\n",
    "]"
   ]
  },
  {
   "cell_type": "code",
   "execution_count": null,
   "metadata": {},
   "outputs": [
    {
     "data": {
      "text/html": [
       "<style>#sk-container-id-12 {color: black;background-color: white;}#sk-container-id-12 pre{padding: 0;}#sk-container-id-12 div.sk-toggleable {background-color: white;}#sk-container-id-12 label.sk-toggleable__label {cursor: pointer;display: block;width: 100%;margin-bottom: 0;padding: 0.3em;box-sizing: border-box;text-align: center;}#sk-container-id-12 label.sk-toggleable__label-arrow:before {content: \"▸\";float: left;margin-right: 0.25em;color: #696969;}#sk-container-id-12 label.sk-toggleable__label-arrow:hover:before {color: black;}#sk-container-id-12 div.sk-estimator:hover label.sk-toggleable__label-arrow:before {color: black;}#sk-container-id-12 div.sk-toggleable__content {max-height: 0;max-width: 0;overflow: hidden;text-align: left;background-color: #f0f8ff;}#sk-container-id-12 div.sk-toggleable__content pre {margin: 0.2em;color: black;border-radius: 0.25em;background-color: #f0f8ff;}#sk-container-id-12 input.sk-toggleable__control:checked~div.sk-toggleable__content {max-height: 200px;max-width: 100%;overflow: auto;}#sk-container-id-12 input.sk-toggleable__control:checked~label.sk-toggleable__label-arrow:before {content: \"▾\";}#sk-container-id-12 div.sk-estimator input.sk-toggleable__control:checked~label.sk-toggleable__label {background-color: #d4ebff;}#sk-container-id-12 div.sk-label input.sk-toggleable__control:checked~label.sk-toggleable__label {background-color: #d4ebff;}#sk-container-id-12 input.sk-hidden--visually {border: 0;clip: rect(1px 1px 1px 1px);clip: rect(1px, 1px, 1px, 1px);height: 1px;margin: -1px;overflow: hidden;padding: 0;position: absolute;width: 1px;}#sk-container-id-12 div.sk-estimator {font-family: monospace;background-color: #f0f8ff;border: 1px dotted black;border-radius: 0.25em;box-sizing: border-box;margin-bottom: 0.5em;}#sk-container-id-12 div.sk-estimator:hover {background-color: #d4ebff;}#sk-container-id-12 div.sk-parallel-item::after {content: \"\";width: 100%;border-bottom: 1px solid gray;flex-grow: 1;}#sk-container-id-12 div.sk-label:hover label.sk-toggleable__label {background-color: #d4ebff;}#sk-container-id-12 div.sk-serial::before {content: \"\";position: absolute;border-left: 1px solid gray;box-sizing: border-box;top: 0;bottom: 0;left: 50%;z-index: 0;}#sk-container-id-12 div.sk-serial {display: flex;flex-direction: column;align-items: center;background-color: white;padding-right: 0.2em;padding-left: 0.2em;position: relative;}#sk-container-id-12 div.sk-item {position: relative;z-index: 1;}#sk-container-id-12 div.sk-parallel {display: flex;align-items: stretch;justify-content: center;background-color: white;position: relative;}#sk-container-id-12 div.sk-item::before, #sk-container-id-12 div.sk-parallel-item::before {content: \"\";position: absolute;border-left: 1px solid gray;box-sizing: border-box;top: 0;bottom: 0;left: 50%;z-index: -1;}#sk-container-id-12 div.sk-parallel-item {display: flex;flex-direction: column;z-index: 1;position: relative;background-color: white;}#sk-container-id-12 div.sk-parallel-item:first-child::after {align-self: flex-end;width: 50%;}#sk-container-id-12 div.sk-parallel-item:last-child::after {align-self: flex-start;width: 50%;}#sk-container-id-12 div.sk-parallel-item:only-child::after {width: 0;}#sk-container-id-12 div.sk-dashed-wrapped {border: 1px dashed gray;margin: 0 0.4em 0.5em 0.4em;box-sizing: border-box;padding-bottom: 0.4em;background-color: white;}#sk-container-id-12 div.sk-label label {font-family: monospace;font-weight: bold;display: inline-block;line-height: 1.2em;}#sk-container-id-12 div.sk-label-container {text-align: center;}#sk-container-id-12 div.sk-container {/* jupyter's `normalize.less` sets `[hidden] { display: none; }` but bootstrap.min.css set `[hidden] { display: none !important; }` so we also need the `!important` here to be able to override the default hidden behavior on the sphinx rendered scikit-learn.org. See: https://github.com/scikit-learn/scikit-learn/issues/21755 */display: inline-block !important;position: relative;}#sk-container-id-12 div.sk-text-repr-fallback {display: none;}</style><div id=\"sk-container-id-12\" class=\"sk-top-container\"><div class=\"sk-text-repr-fallback\"><pre>ColumnTransformer(remainder=&#x27;passthrough&#x27;,\n",
       "                  transformers=[(&#x27;onehot&#x27;, OneHotEncoder(drop=&#x27;first&#x27;),\n",
       "                                 [&#x27;Gear_Type&#x27;, &#x27;Origin&#x27;]),\n",
       "                                (&#x27;ordinal&#x27;,\n",
       "                                 OrdinalEncoder(cols=[&#x27;Options&#x27;],\n",
       "                                                mapping=[{&#x27;col&#x27;: &#x27;Options&#x27;,\n",
       "                                                          &#x27;mapping&#x27;: {&#x27;Full&#x27;: 3,\n",
       "                                                                      &#x27;Semi Full&#x27;: 2,\n",
       "                                                                      &#x27;Standard&#x27;: 1}}]),\n",
       "                                 [&#x27;Options&#x27;]),\n",
       "                                (&#x27;binary&#x27;, BinaryEncoder(),\n",
       "                                 [&#x27;Type&#x27;, &#x27;Region&#x27;, &#x27;Make&#x27;])])</pre><b>In a Jupyter environment, please rerun this cell to show the HTML representation or trust the notebook. <br />On GitHub, the HTML representation is unable to render, please try loading this page with nbviewer.org.</b></div><div class=\"sk-container\" hidden><div class=\"sk-item sk-dashed-wrapped\"><div class=\"sk-label-container\"><div class=\"sk-label sk-toggleable\"><input class=\"sk-toggleable__control sk-hidden--visually\" id=\"sk-estimator-id-136\" type=\"checkbox\" ><label for=\"sk-estimator-id-136\" class=\"sk-toggleable__label sk-toggleable__label-arrow\">ColumnTransformer</label><div class=\"sk-toggleable__content\"><pre>ColumnTransformer(remainder=&#x27;passthrough&#x27;,\n",
       "                  transformers=[(&#x27;onehot&#x27;, OneHotEncoder(drop=&#x27;first&#x27;),\n",
       "                                 [&#x27;Gear_Type&#x27;, &#x27;Origin&#x27;]),\n",
       "                                (&#x27;ordinal&#x27;,\n",
       "                                 OrdinalEncoder(cols=[&#x27;Options&#x27;],\n",
       "                                                mapping=[{&#x27;col&#x27;: &#x27;Options&#x27;,\n",
       "                                                          &#x27;mapping&#x27;: {&#x27;Full&#x27;: 3,\n",
       "                                                                      &#x27;Semi Full&#x27;: 2,\n",
       "                                                                      &#x27;Standard&#x27;: 1}}]),\n",
       "                                 [&#x27;Options&#x27;]),\n",
       "                                (&#x27;binary&#x27;, BinaryEncoder(),\n",
       "                                 [&#x27;Type&#x27;, &#x27;Region&#x27;, &#x27;Make&#x27;])])</pre></div></div></div><div class=\"sk-parallel\"><div class=\"sk-parallel-item\"><div class=\"sk-item\"><div class=\"sk-label-container\"><div class=\"sk-label sk-toggleable\"><input class=\"sk-toggleable__control sk-hidden--visually\" id=\"sk-estimator-id-137\" type=\"checkbox\" ><label for=\"sk-estimator-id-137\" class=\"sk-toggleable__label sk-toggleable__label-arrow\">onehot</label><div class=\"sk-toggleable__content\"><pre>[&#x27;Gear_Type&#x27;, &#x27;Origin&#x27;]</pre></div></div></div><div class=\"sk-serial\"><div class=\"sk-item\"><div class=\"sk-estimator sk-toggleable\"><input class=\"sk-toggleable__control sk-hidden--visually\" id=\"sk-estimator-id-138\" type=\"checkbox\" ><label for=\"sk-estimator-id-138\" class=\"sk-toggleable__label sk-toggleable__label-arrow\">OneHotEncoder</label><div class=\"sk-toggleable__content\"><pre>OneHotEncoder(drop=&#x27;first&#x27;)</pre></div></div></div></div></div></div><div class=\"sk-parallel-item\"><div class=\"sk-item\"><div class=\"sk-label-container\"><div class=\"sk-label sk-toggleable\"><input class=\"sk-toggleable__control sk-hidden--visually\" id=\"sk-estimator-id-139\" type=\"checkbox\" ><label for=\"sk-estimator-id-139\" class=\"sk-toggleable__label sk-toggleable__label-arrow\">ordinal</label><div class=\"sk-toggleable__content\"><pre>[&#x27;Options&#x27;]</pre></div></div></div><div class=\"sk-serial\"><div class=\"sk-item\"><div class=\"sk-estimator sk-toggleable\"><input class=\"sk-toggleable__control sk-hidden--visually\" id=\"sk-estimator-id-140\" type=\"checkbox\" ><label for=\"sk-estimator-id-140\" class=\"sk-toggleable__label sk-toggleable__label-arrow\">OrdinalEncoder</label><div class=\"sk-toggleable__content\"><pre>OrdinalEncoder(cols=[&#x27;Options&#x27;],\n",
       "               mapping=[{&#x27;col&#x27;: &#x27;Options&#x27;,\n",
       "                         &#x27;mapping&#x27;: {&#x27;Full&#x27;: 3, &#x27;Semi Full&#x27;: 2,\n",
       "                                     &#x27;Standard&#x27;: 1}}])</pre></div></div></div></div></div></div><div class=\"sk-parallel-item\"><div class=\"sk-item\"><div class=\"sk-label-container\"><div class=\"sk-label sk-toggleable\"><input class=\"sk-toggleable__control sk-hidden--visually\" id=\"sk-estimator-id-141\" type=\"checkbox\" ><label for=\"sk-estimator-id-141\" class=\"sk-toggleable__label sk-toggleable__label-arrow\">binary</label><div class=\"sk-toggleable__content\"><pre>[&#x27;Type&#x27;, &#x27;Region&#x27;, &#x27;Make&#x27;]</pre></div></div></div><div class=\"sk-serial\"><div class=\"sk-item\"><div class=\"sk-estimator sk-toggleable\"><input class=\"sk-toggleable__control sk-hidden--visually\" id=\"sk-estimator-id-142\" type=\"checkbox\" ><label for=\"sk-estimator-id-142\" class=\"sk-toggleable__label sk-toggleable__label-arrow\">BinaryEncoder</label><div class=\"sk-toggleable__content\"><pre>BinaryEncoder()</pre></div></div></div></div></div></div><div class=\"sk-parallel-item\"><div class=\"sk-item\"><div class=\"sk-label-container\"><div class=\"sk-label sk-toggleable\"><input class=\"sk-toggleable__control sk-hidden--visually\" id=\"sk-estimator-id-143\" type=\"checkbox\" ><label for=\"sk-estimator-id-143\" class=\"sk-toggleable__label sk-toggleable__label-arrow\">remainder</label><div class=\"sk-toggleable__content\"><pre></pre></div></div></div><div class=\"sk-serial\"><div class=\"sk-item\"><div class=\"sk-estimator sk-toggleable\"><input class=\"sk-toggleable__control sk-hidden--visually\" id=\"sk-estimator-id-144\" type=\"checkbox\" ><label for=\"sk-estimator-id-144\" class=\"sk-toggleable__label sk-toggleable__label-arrow\">passthrough</label><div class=\"sk-toggleable__content\"><pre>passthrough</pre></div></div></div></div></div></div></div></div></div></div>"
      ],
      "text/plain": [
       "ColumnTransformer(remainder='passthrough',\n",
       "                  transformers=[('onehot', OneHotEncoder(drop='first'),\n",
       "                                 ['Gear_Type', 'Origin']),\n",
       "                                ('ordinal',\n",
       "                                 OrdinalEncoder(cols=['Options'],\n",
       "                                                mapping=[{'col': 'Options',\n",
       "                                                          'mapping': {'Full': 3,\n",
       "                                                                      'Semi Full': 2,\n",
       "                                                                      'Standard': 1}}]),\n",
       "                                 ['Options']),\n",
       "                                ('binary', BinaryEncoder(),\n",
       "                                 ['Type', 'Region', 'Make'])])"
      ]
     },
     "execution_count": 301,
     "metadata": {},
     "output_type": "execute_result"
    }
   ],
   "source": [
    "# columntransformer untuk mengubah fitur kategorikal menjadi numerikal sebelum di fitting terhadap machine learning\n",
    "transformer = ColumnTransformer([\n",
    "    ('onehot', OneHotEncoder(drop='first'),['Gear_Type','Origin']),\n",
    "    ('ordinal', OrdinalEncoder(cols=['Options'], mapping=ordinal_mapping),['Options']),\n",
    "    ('binary', BinaryEncoder(),['Type','Region','Make'])\n",
    "], remainder='passthrough')\n",
    "\n",
    "transformer"
   ]
  },
  {
   "cell_type": "markdown",
   "metadata": {},
   "source": [
    "### Data Splitting"
   ]
  },
  {
   "cell_type": "code",
   "execution_count": null,
   "metadata": {},
   "outputs": [],
   "source": [
    "# memisahkan data variable dengan target\n",
    "X = df_model.drop(columns=['Price'])\n",
    "y = df_model['Price']"
   ]
  },
  {
   "cell_type": "markdown",
   "metadata": {},
   "source": [
    "### Train and Test Split"
   ]
  },
  {
   "cell_type": "code",
   "execution_count": null,
   "metadata": {},
   "outputs": [],
   "source": [
    "# split data menjadi train dan test set dengan proporsi 80:20\n",
    "X_train, X_test, y_train, y_test = train_test_split(X,y,test_size=0.2,random_state=42)"
   ]
  },
  {
   "cell_type": "markdown",
   "metadata": {},
   "source": [
    "### Benchmark Model"
   ]
  },
  {
   "cell_type": "code",
   "execution_count": null,
   "metadata": {},
   "outputs": [],
   "source": [
    "# Algorithm Machine Learning\n",
    "lr = LinearRegression()\n",
    "lasso = Lasso()\n",
    "ridge = Ridge()\n",
    "knn = KNeighborsRegressor()\n",
    "dt = DecisionTreeRegressor(random_state=1)\n",
    "rf = RandomForestRegressor(random_state=1)\n",
    "aboost = AdaBoostRegressor(random_state=1)\n",
    "gboost = GradientBoostingRegressor(random_state=1)\n",
    "\n",
    "# Scaling\n",
    "standard = StandardScaler()\n",
    "robust = RobustScaler()\n",
    "minmax = MinMaxScaler()"
   ]
  },
  {
   "cell_type": "code",
   "execution_count": null,
   "metadata": {},
   "outputs": [],
   "source": [
    "models = [lr,lasso,ridge,knn,dt,rf,aboost,gboost]\n",
    "\n",
    "mean_rmse = []\n",
    "std_rmse = []\n",
    "\n",
    "mean_mae = []\n",
    "std_mae = []\n",
    "\n",
    "mean_mape = []\n",
    "std_mape = []\n",
    "\n",
    "scoring = {'rmse':'neg_root_mean_squared_error',\n",
    "            'mae':'neg_mean_absolute_error',\n",
    "            'mape':'neg_mean_absolute_percentage_error'}\n",
    "for algo in models:\n",
    "    model_pipe = Pipeline([\n",
    "        ('transformer', transformer),\n",
    "        ('scaler',robust),\n",
    "        ('algo',algo)\n",
    "    ])\n",
    "\n",
    "    model_cv = cross_validate(\n",
    "        estimator=model_pipe,\n",
    "        X=X_train,\n",
    "        y=y_train,\n",
    "        cv=5,\n",
    "        scoring=scoring,\n",
    "    )\n",
    "\n",
    "    mean_rmse.append(model_cv['test_rmse'].mean())\n",
    "    std_rmse.append(model_cv['test_rmse'].std())\n",
    "    mean_mae.append(model_cv['test_mae'].mean())\n",
    "    std_mae.append(model_cv['test_mae'].std())\n",
    "    mean_mape.append(model_cv['test_mape'].mean())\n",
    "    std_mape.append(model_cv['test_mape'].std())"
   ]
  },
  {
   "cell_type": "code",
   "execution_count": null,
   "metadata": {},
   "outputs": [
    {
     "data": {
      "text/html": [
       "<div>\n",
       "<style scoped>\n",
       "    .dataframe tbody tr th:only-of-type {\n",
       "        vertical-align: middle;\n",
       "    }\n",
       "\n",
       "    .dataframe tbody tr th {\n",
       "        vertical-align: top;\n",
       "    }\n",
       "\n",
       "    .dataframe thead th {\n",
       "        text-align: right;\n",
       "    }\n",
       "</style>\n",
       "<table border=\"1\" class=\"dataframe\">\n",
       "  <thead>\n",
       "    <tr style=\"text-align: right;\">\n",
       "      <th></th>\n",
       "      <th>Model</th>\n",
       "      <th>Mean_RMSE</th>\n",
       "      <th>Std_RMSE</th>\n",
       "      <th>Mean_MAE</th>\n",
       "      <th>Std_MAE</th>\n",
       "      <th>Mean_MAPE</th>\n",
       "      <th>Std_MAPE</th>\n",
       "    </tr>\n",
       "  </thead>\n",
       "  <tbody>\n",
       "    <tr>\n",
       "      <th>0</th>\n",
       "      <td>linreg</td>\n",
       "      <td>-38128.345952</td>\n",
       "      <td>2219.365026</td>\n",
       "      <td>-25718.996346</td>\n",
       "      <td>1130.615636</td>\n",
       "      <td>-0.466091</td>\n",
       "      <td>0.038938</td>\n",
       "    </tr>\n",
       "    <tr>\n",
       "      <th>1</th>\n",
       "      <td>lasso</td>\n",
       "      <td>-38128.205002</td>\n",
       "      <td>2219.618723</td>\n",
       "      <td>-25717.836926</td>\n",
       "      <td>1130.908755</td>\n",
       "      <td>-0.466047</td>\n",
       "      <td>0.038943</td>\n",
       "    </tr>\n",
       "    <tr>\n",
       "      <th>2</th>\n",
       "      <td>ridge</td>\n",
       "      <td>-38126.592259</td>\n",
       "      <td>2225.196500</td>\n",
       "      <td>-25707.486244</td>\n",
       "      <td>1134.831537</td>\n",
       "      <td>-0.465680</td>\n",
       "      <td>0.038928</td>\n",
       "    </tr>\n",
       "    <tr>\n",
       "      <th>3</th>\n",
       "      <td>knn</td>\n",
       "      <td>-28095.130072</td>\n",
       "      <td>1352.762271</td>\n",
       "      <td>-17072.657414</td>\n",
       "      <td>456.453315</td>\n",
       "      <td>-0.278923</td>\n",
       "      <td>0.014311</td>\n",
       "    </tr>\n",
       "    <tr>\n",
       "      <th>4</th>\n",
       "      <td>dt</td>\n",
       "      <td>-36161.326154</td>\n",
       "      <td>2412.494653</td>\n",
       "      <td>-19464.966814</td>\n",
       "      <td>1025.742740</td>\n",
       "      <td>-0.293301</td>\n",
       "      <td>0.015243</td>\n",
       "    </tr>\n",
       "    <tr>\n",
       "      <th>5</th>\n",
       "      <td>rf</td>\n",
       "      <td>-25516.561168</td>\n",
       "      <td>1857.875026</td>\n",
       "      <td>-15057.904141</td>\n",
       "      <td>570.719734</td>\n",
       "      <td>-0.239897</td>\n",
       "      <td>0.017664</td>\n",
       "    </tr>\n",
       "    <tr>\n",
       "      <th>6</th>\n",
       "      <td>adaboost</td>\n",
       "      <td>-42609.645411</td>\n",
       "      <td>797.322983</td>\n",
       "      <td>-35522.442399</td>\n",
       "      <td>1309.266238</td>\n",
       "      <td>-0.744294</td>\n",
       "      <td>0.060726</td>\n",
       "    </tr>\n",
       "    <tr>\n",
       "      <th>7</th>\n",
       "      <td>gradientboost</td>\n",
       "      <td>-28146.551140</td>\n",
       "      <td>1601.051638</td>\n",
       "      <td>-17463.658161</td>\n",
       "      <td>716.967558</td>\n",
       "      <td>-0.268981</td>\n",
       "      <td>0.022434</td>\n",
       "    </tr>\n",
       "  </tbody>\n",
       "</table>\n",
       "</div>"
      ],
      "text/plain": [
       "           Model     Mean_RMSE     Std_RMSE      Mean_MAE      Std_MAE  \\\n",
       "0         linreg -38128.345952  2219.365026 -25718.996346  1130.615636   \n",
       "1          lasso -38128.205002  2219.618723 -25717.836926  1130.908755   \n",
       "2          ridge -38126.592259  2225.196500 -25707.486244  1134.831537   \n",
       "3            knn -28095.130072  1352.762271 -17072.657414   456.453315   \n",
       "4             dt -36161.326154  2412.494653 -19464.966814  1025.742740   \n",
       "5             rf -25516.561168  1857.875026 -15057.904141   570.719734   \n",
       "6       adaboost -42609.645411   797.322983 -35522.442399  1309.266238   \n",
       "7  gradientboost -28146.551140  1601.051638 -17463.658161   716.967558   \n",
       "\n",
       "   Mean_MAPE  Std_MAPE  \n",
       "0  -0.466091  0.038938  \n",
       "1  -0.466047  0.038943  \n",
       "2  -0.465680  0.038928  \n",
       "3  -0.278923  0.014311  \n",
       "4  -0.293301  0.015243  \n",
       "5  -0.239897  0.017664  \n",
       "6  -0.744294  0.060726  \n",
       "7  -0.268981  0.022434  "
      ]
     },
     "execution_count": 306,
     "metadata": {},
     "output_type": "execute_result"
    }
   ],
   "source": [
    "pd.DataFrame({\n",
    "    'Model': ['linreg','lasso','ridge','knn','dt','rf','adaboost','gradientboost'],\n",
    "    'Mean_RMSE': mean_rmse,\n",
    "    'Std_RMSE': std_rmse,\n",
    "    'Mean_MAE': mean_mae,\n",
    "    'Std_MAE': std_mae,\n",
    "    'Mean_MAPE': mean_mape,\n",
    "    'Std_MAPE': std_mape\n",
    "})"
   ]
  },
  {
   "cell_type": "markdown",
   "metadata": {},
   "source": [
    "dalam memilih model yang baik, kita harus mencari model yang memiliki nilai RMSE, MAE dan MAPE yang kecil. Dari hasil test, yang memiliki nilai terkecil adalah:\n",
    "- K-Nearest Neighbor (Terpilih karena memiliki nilai RMSE, MAE dan MAPE yang terkecil kedua tetapi memiliki model yang stabil)\n",
    "- Random Forest (Terpilih karena memiliki nilai RMSE, MAE dan MAPE yang kecil)"
   ]
  },
  {
   "cell_type": "markdown",
   "metadata": {},
   "source": [
    "### Hyperparameter Tuning\n",
    "\n",
    "setelah ini kita akan melakukan Hyperparameter tuning kepada 2 model tersebut dan akan kita test terhadap test set, yang memiliki nilai terkecil akan kita ambil menjadi model akhir kita"
   ]
  },
  {
   "cell_type": "markdown",
   "metadata": {},
   "source": [
    "#### K-Nearest Neighbor"
   ]
  },
  {
   "cell_type": "markdown",
   "metadata": {},
   "source": [
    "Randomize Search"
   ]
  },
  {
   "cell_type": "code",
   "execution_count": null,
   "metadata": {},
   "outputs": [],
   "source": [
    "# Define Model\n",
    "model_pipe_knn = Pipeline([\n",
    "    ('transformer', transformer),\n",
    "    ('scaler',robust),\n",
    "    ('algo',knn)\n",
    "])\n",
    "\n",
    "# Hyper Parameter Combination\n",
    "hyper_param_random = {\n",
    "    'scaler' : [robust,minmax,standard],\n",
    "    'algo__n_neighbors' : range(3,100,2),\n",
    "    'algo__weights' : ['uniform','distance'],\n",
    "    'algo__leaf_size' : range(10,100,2)\n",
    "}\n",
    "\n",
    "# Random Search\n",
    "random_search_knn = RandomizedSearchCV(\n",
    "    estimator = model_pipe_knn,\n",
    "    param_distributions=hyper_param_random,\n",
    "    cv=5,\n",
    "    scoring='neg_mean_absolute_error',\n",
    "    n_jobs=-1,\n",
    "    n_iter=300,\n",
    "    random_state=0\n",
    ")\n"
   ]
  },
  {
   "cell_type": "code",
   "execution_count": null,
   "metadata": {},
   "outputs": [
    {
     "data": {
      "text/html": [
       "<style>#sk-container-id-13 {color: black;background-color: white;}#sk-container-id-13 pre{padding: 0;}#sk-container-id-13 div.sk-toggleable {background-color: white;}#sk-container-id-13 label.sk-toggleable__label {cursor: pointer;display: block;width: 100%;margin-bottom: 0;padding: 0.3em;box-sizing: border-box;text-align: center;}#sk-container-id-13 label.sk-toggleable__label-arrow:before {content: \"▸\";float: left;margin-right: 0.25em;color: #696969;}#sk-container-id-13 label.sk-toggleable__label-arrow:hover:before {color: black;}#sk-container-id-13 div.sk-estimator:hover label.sk-toggleable__label-arrow:before {color: black;}#sk-container-id-13 div.sk-toggleable__content {max-height: 0;max-width: 0;overflow: hidden;text-align: left;background-color: #f0f8ff;}#sk-container-id-13 div.sk-toggleable__content pre {margin: 0.2em;color: black;border-radius: 0.25em;background-color: #f0f8ff;}#sk-container-id-13 input.sk-toggleable__control:checked~div.sk-toggleable__content {max-height: 200px;max-width: 100%;overflow: auto;}#sk-container-id-13 input.sk-toggleable__control:checked~label.sk-toggleable__label-arrow:before {content: \"▾\";}#sk-container-id-13 div.sk-estimator input.sk-toggleable__control:checked~label.sk-toggleable__label {background-color: #d4ebff;}#sk-container-id-13 div.sk-label input.sk-toggleable__control:checked~label.sk-toggleable__label {background-color: #d4ebff;}#sk-container-id-13 input.sk-hidden--visually {border: 0;clip: rect(1px 1px 1px 1px);clip: rect(1px, 1px, 1px, 1px);height: 1px;margin: -1px;overflow: hidden;padding: 0;position: absolute;width: 1px;}#sk-container-id-13 div.sk-estimator {font-family: monospace;background-color: #f0f8ff;border: 1px dotted black;border-radius: 0.25em;box-sizing: border-box;margin-bottom: 0.5em;}#sk-container-id-13 div.sk-estimator:hover {background-color: #d4ebff;}#sk-container-id-13 div.sk-parallel-item::after {content: \"\";width: 100%;border-bottom: 1px solid gray;flex-grow: 1;}#sk-container-id-13 div.sk-label:hover label.sk-toggleable__label {background-color: #d4ebff;}#sk-container-id-13 div.sk-serial::before {content: \"\";position: absolute;border-left: 1px solid gray;box-sizing: border-box;top: 0;bottom: 0;left: 50%;z-index: 0;}#sk-container-id-13 div.sk-serial {display: flex;flex-direction: column;align-items: center;background-color: white;padding-right: 0.2em;padding-left: 0.2em;position: relative;}#sk-container-id-13 div.sk-item {position: relative;z-index: 1;}#sk-container-id-13 div.sk-parallel {display: flex;align-items: stretch;justify-content: center;background-color: white;position: relative;}#sk-container-id-13 div.sk-item::before, #sk-container-id-13 div.sk-parallel-item::before {content: \"\";position: absolute;border-left: 1px solid gray;box-sizing: border-box;top: 0;bottom: 0;left: 50%;z-index: -1;}#sk-container-id-13 div.sk-parallel-item {display: flex;flex-direction: column;z-index: 1;position: relative;background-color: white;}#sk-container-id-13 div.sk-parallel-item:first-child::after {align-self: flex-end;width: 50%;}#sk-container-id-13 div.sk-parallel-item:last-child::after {align-self: flex-start;width: 50%;}#sk-container-id-13 div.sk-parallel-item:only-child::after {width: 0;}#sk-container-id-13 div.sk-dashed-wrapped {border: 1px dashed gray;margin: 0 0.4em 0.5em 0.4em;box-sizing: border-box;padding-bottom: 0.4em;background-color: white;}#sk-container-id-13 div.sk-label label {font-family: monospace;font-weight: bold;display: inline-block;line-height: 1.2em;}#sk-container-id-13 div.sk-label-container {text-align: center;}#sk-container-id-13 div.sk-container {/* jupyter's `normalize.less` sets `[hidden] { display: none; }` but bootstrap.min.css set `[hidden] { display: none !important; }` so we also need the `!important` here to be able to override the default hidden behavior on the sphinx rendered scikit-learn.org. See: https://github.com/scikit-learn/scikit-learn/issues/21755 */display: inline-block !important;position: relative;}#sk-container-id-13 div.sk-text-repr-fallback {display: none;}</style><div id=\"sk-container-id-13\" class=\"sk-top-container\"><div class=\"sk-text-repr-fallback\"><pre>RandomizedSearchCV(cv=5,\n",
       "                   estimator=Pipeline(steps=[(&#x27;transformer&#x27;,\n",
       "                                              ColumnTransformer(remainder=&#x27;passthrough&#x27;,\n",
       "                                                                transformers=[(&#x27;onehot&#x27;,\n",
       "                                                                               OneHotEncoder(drop=&#x27;first&#x27;),\n",
       "                                                                               [&#x27;Gear_Type&#x27;,\n",
       "                                                                                &#x27;Origin&#x27;]),\n",
       "                                                                              (&#x27;ordinal&#x27;,\n",
       "                                                                               OrdinalEncoder(cols=[&#x27;Options&#x27;],\n",
       "                                                                                              mapping=[{&#x27;col&#x27;: &#x27;Options&#x27;,\n",
       "                                                                                                        &#x27;mapping&#x27;: {&#x27;Full&#x27;: 3,\n",
       "                                                                                                                    &#x27;Semi Full&#x27;: 2,\n",
       "                                                                                                                    &#x27;Standard&#x27;: 1}}]),\n",
       "                                                                               [&#x27;Options&#x27;]),\n",
       "                                                                              (&#x27;binary&#x27;,\n",
       "                                                                               BinaryEncoder(),\n",
       "                                                                               [&#x27;Type&#x27;,\n",
       "                                                                                &#x27;Region&#x27;,\n",
       "                                                                                &#x27;Make&#x27;])])),\n",
       "                                             (&#x27;scaler&#x27;, RobustScaler()),\n",
       "                                             (&#x27;algo&#x27;, KNeighborsRegressor())]),\n",
       "                   n_iter=300, n_jobs=-1,\n",
       "                   param_distributions={&#x27;algo__leaf_size&#x27;: range(10, 100, 2),\n",
       "                                        &#x27;algo__n_neighbors&#x27;: range(3, 100, 2),\n",
       "                                        &#x27;algo__weights&#x27;: [&#x27;uniform&#x27;,\n",
       "                                                          &#x27;distance&#x27;],\n",
       "                                        &#x27;scaler&#x27;: [RobustScaler(),\n",
       "                                                   MinMaxScaler(),\n",
       "                                                   StandardScaler()]},\n",
       "                   random_state=0, scoring=&#x27;neg_mean_absolute_error&#x27;)</pre><b>In a Jupyter environment, please rerun this cell to show the HTML representation or trust the notebook. <br />On GitHub, the HTML representation is unable to render, please try loading this page with nbviewer.org.</b></div><div class=\"sk-container\" hidden><div class=\"sk-item sk-dashed-wrapped\"><div class=\"sk-label-container\"><div class=\"sk-label sk-toggleable\"><input class=\"sk-toggleable__control sk-hidden--visually\" id=\"sk-estimator-id-145\" type=\"checkbox\" ><label for=\"sk-estimator-id-145\" class=\"sk-toggleable__label sk-toggleable__label-arrow\">RandomizedSearchCV</label><div class=\"sk-toggleable__content\"><pre>RandomizedSearchCV(cv=5,\n",
       "                   estimator=Pipeline(steps=[(&#x27;transformer&#x27;,\n",
       "                                              ColumnTransformer(remainder=&#x27;passthrough&#x27;,\n",
       "                                                                transformers=[(&#x27;onehot&#x27;,\n",
       "                                                                               OneHotEncoder(drop=&#x27;first&#x27;),\n",
       "                                                                               [&#x27;Gear_Type&#x27;,\n",
       "                                                                                &#x27;Origin&#x27;]),\n",
       "                                                                              (&#x27;ordinal&#x27;,\n",
       "                                                                               OrdinalEncoder(cols=[&#x27;Options&#x27;],\n",
       "                                                                                              mapping=[{&#x27;col&#x27;: &#x27;Options&#x27;,\n",
       "                                                                                                        &#x27;mapping&#x27;: {&#x27;Full&#x27;: 3,\n",
       "                                                                                                                    &#x27;Semi Full&#x27;: 2,\n",
       "                                                                                                                    &#x27;Standard&#x27;: 1}}]),\n",
       "                                                                               [&#x27;Options&#x27;]),\n",
       "                                                                              (&#x27;binary&#x27;,\n",
       "                                                                               BinaryEncoder(),\n",
       "                                                                               [&#x27;Type&#x27;,\n",
       "                                                                                &#x27;Region&#x27;,\n",
       "                                                                                &#x27;Make&#x27;])])),\n",
       "                                             (&#x27;scaler&#x27;, RobustScaler()),\n",
       "                                             (&#x27;algo&#x27;, KNeighborsRegressor())]),\n",
       "                   n_iter=300, n_jobs=-1,\n",
       "                   param_distributions={&#x27;algo__leaf_size&#x27;: range(10, 100, 2),\n",
       "                                        &#x27;algo__n_neighbors&#x27;: range(3, 100, 2),\n",
       "                                        &#x27;algo__weights&#x27;: [&#x27;uniform&#x27;,\n",
       "                                                          &#x27;distance&#x27;],\n",
       "                                        &#x27;scaler&#x27;: [RobustScaler(),\n",
       "                                                   MinMaxScaler(),\n",
       "                                                   StandardScaler()]},\n",
       "                   random_state=0, scoring=&#x27;neg_mean_absolute_error&#x27;)</pre></div></div></div><div class=\"sk-parallel\"><div class=\"sk-parallel-item\"><div class=\"sk-item\"><div class=\"sk-label-container\"><div class=\"sk-label sk-toggleable\"><input class=\"sk-toggleable__control sk-hidden--visually\" id=\"sk-estimator-id-146\" type=\"checkbox\" ><label for=\"sk-estimator-id-146\" class=\"sk-toggleable__label sk-toggleable__label-arrow\">estimator: Pipeline</label><div class=\"sk-toggleable__content\"><pre>Pipeline(steps=[(&#x27;transformer&#x27;,\n",
       "                 ColumnTransformer(remainder=&#x27;passthrough&#x27;,\n",
       "                                   transformers=[(&#x27;onehot&#x27;,\n",
       "                                                  OneHotEncoder(drop=&#x27;first&#x27;),\n",
       "                                                  [&#x27;Gear_Type&#x27;, &#x27;Origin&#x27;]),\n",
       "                                                 (&#x27;ordinal&#x27;,\n",
       "                                                  OrdinalEncoder(cols=[&#x27;Options&#x27;],\n",
       "                                                                 mapping=[{&#x27;col&#x27;: &#x27;Options&#x27;,\n",
       "                                                                           &#x27;mapping&#x27;: {&#x27;Full&#x27;: 3,\n",
       "                                                                                       &#x27;Semi Full&#x27;: 2,\n",
       "                                                                                       &#x27;Standard&#x27;: 1}}]),\n",
       "                                                  [&#x27;Options&#x27;]),\n",
       "                                                 (&#x27;binary&#x27;, BinaryEncoder(),\n",
       "                                                  [&#x27;Type&#x27;, &#x27;Region&#x27;,\n",
       "                                                   &#x27;Make&#x27;])])),\n",
       "                (&#x27;scaler&#x27;, RobustScaler()), (&#x27;algo&#x27;, KNeighborsRegressor())])</pre></div></div></div><div class=\"sk-serial\"><div class=\"sk-item\"><div class=\"sk-serial\"><div class=\"sk-item sk-dashed-wrapped\"><div class=\"sk-label-container\"><div class=\"sk-label sk-toggleable\"><input class=\"sk-toggleable__control sk-hidden--visually\" id=\"sk-estimator-id-147\" type=\"checkbox\" ><label for=\"sk-estimator-id-147\" class=\"sk-toggleable__label sk-toggleable__label-arrow\">transformer: ColumnTransformer</label><div class=\"sk-toggleable__content\"><pre>ColumnTransformer(remainder=&#x27;passthrough&#x27;,\n",
       "                  transformers=[(&#x27;onehot&#x27;, OneHotEncoder(drop=&#x27;first&#x27;),\n",
       "                                 [&#x27;Gear_Type&#x27;, &#x27;Origin&#x27;]),\n",
       "                                (&#x27;ordinal&#x27;,\n",
       "                                 OrdinalEncoder(cols=[&#x27;Options&#x27;],\n",
       "                                                mapping=[{&#x27;col&#x27;: &#x27;Options&#x27;,\n",
       "                                                          &#x27;mapping&#x27;: {&#x27;Full&#x27;: 3,\n",
       "                                                                      &#x27;Semi Full&#x27;: 2,\n",
       "                                                                      &#x27;Standard&#x27;: 1}}]),\n",
       "                                 [&#x27;Options&#x27;]),\n",
       "                                (&#x27;binary&#x27;, BinaryEncoder(),\n",
       "                                 [&#x27;Type&#x27;, &#x27;Region&#x27;, &#x27;Make&#x27;])])</pre></div></div></div><div class=\"sk-parallel\"><div class=\"sk-parallel-item\"><div class=\"sk-item\"><div class=\"sk-label-container\"><div class=\"sk-label sk-toggleable\"><input class=\"sk-toggleable__control sk-hidden--visually\" id=\"sk-estimator-id-148\" type=\"checkbox\" ><label for=\"sk-estimator-id-148\" class=\"sk-toggleable__label sk-toggleable__label-arrow\">onehot</label><div class=\"sk-toggleable__content\"><pre>[&#x27;Gear_Type&#x27;, &#x27;Origin&#x27;]</pre></div></div></div><div class=\"sk-serial\"><div class=\"sk-item\"><div class=\"sk-estimator sk-toggleable\"><input class=\"sk-toggleable__control sk-hidden--visually\" id=\"sk-estimator-id-149\" type=\"checkbox\" ><label for=\"sk-estimator-id-149\" class=\"sk-toggleable__label sk-toggleable__label-arrow\">OneHotEncoder</label><div class=\"sk-toggleable__content\"><pre>OneHotEncoder(drop=&#x27;first&#x27;)</pre></div></div></div></div></div></div><div class=\"sk-parallel-item\"><div class=\"sk-item\"><div class=\"sk-label-container\"><div class=\"sk-label sk-toggleable\"><input class=\"sk-toggleable__control sk-hidden--visually\" id=\"sk-estimator-id-150\" type=\"checkbox\" ><label for=\"sk-estimator-id-150\" class=\"sk-toggleable__label sk-toggleable__label-arrow\">ordinal</label><div class=\"sk-toggleable__content\"><pre>[&#x27;Options&#x27;]</pre></div></div></div><div class=\"sk-serial\"><div class=\"sk-item\"><div class=\"sk-estimator sk-toggleable\"><input class=\"sk-toggleable__control sk-hidden--visually\" id=\"sk-estimator-id-151\" type=\"checkbox\" ><label for=\"sk-estimator-id-151\" class=\"sk-toggleable__label sk-toggleable__label-arrow\">OrdinalEncoder</label><div class=\"sk-toggleable__content\"><pre>OrdinalEncoder(cols=[&#x27;Options&#x27;],\n",
       "               mapping=[{&#x27;col&#x27;: &#x27;Options&#x27;,\n",
       "                         &#x27;mapping&#x27;: {&#x27;Full&#x27;: 3, &#x27;Semi Full&#x27;: 2,\n",
       "                                     &#x27;Standard&#x27;: 1}}])</pre></div></div></div></div></div></div><div class=\"sk-parallel-item\"><div class=\"sk-item\"><div class=\"sk-label-container\"><div class=\"sk-label sk-toggleable\"><input class=\"sk-toggleable__control sk-hidden--visually\" id=\"sk-estimator-id-152\" type=\"checkbox\" ><label for=\"sk-estimator-id-152\" class=\"sk-toggleable__label sk-toggleable__label-arrow\">binary</label><div class=\"sk-toggleable__content\"><pre>[&#x27;Type&#x27;, &#x27;Region&#x27;, &#x27;Make&#x27;]</pre></div></div></div><div class=\"sk-serial\"><div class=\"sk-item\"><div class=\"sk-estimator sk-toggleable\"><input class=\"sk-toggleable__control sk-hidden--visually\" id=\"sk-estimator-id-153\" type=\"checkbox\" ><label for=\"sk-estimator-id-153\" class=\"sk-toggleable__label sk-toggleable__label-arrow\">BinaryEncoder</label><div class=\"sk-toggleable__content\"><pre>BinaryEncoder()</pre></div></div></div></div></div></div><div class=\"sk-parallel-item\"><div class=\"sk-item\"><div class=\"sk-label-container\"><div class=\"sk-label sk-toggleable\"><input class=\"sk-toggleable__control sk-hidden--visually\" id=\"sk-estimator-id-154\" type=\"checkbox\" ><label for=\"sk-estimator-id-154\" class=\"sk-toggleable__label sk-toggleable__label-arrow\">remainder</label><div class=\"sk-toggleable__content\"><pre></pre></div></div></div><div class=\"sk-serial\"><div class=\"sk-item\"><div class=\"sk-estimator sk-toggleable\"><input class=\"sk-toggleable__control sk-hidden--visually\" id=\"sk-estimator-id-155\" type=\"checkbox\" ><label for=\"sk-estimator-id-155\" class=\"sk-toggleable__label sk-toggleable__label-arrow\">passthrough</label><div class=\"sk-toggleable__content\"><pre>passthrough</pre></div></div></div></div></div></div></div></div><div class=\"sk-item\"><div class=\"sk-estimator sk-toggleable\"><input class=\"sk-toggleable__control sk-hidden--visually\" id=\"sk-estimator-id-156\" type=\"checkbox\" ><label for=\"sk-estimator-id-156\" class=\"sk-toggleable__label sk-toggleable__label-arrow\">RobustScaler</label><div class=\"sk-toggleable__content\"><pre>RobustScaler()</pre></div></div></div><div class=\"sk-item\"><div class=\"sk-estimator sk-toggleable\"><input class=\"sk-toggleable__control sk-hidden--visually\" id=\"sk-estimator-id-157\" type=\"checkbox\" ><label for=\"sk-estimator-id-157\" class=\"sk-toggleable__label sk-toggleable__label-arrow\">KNeighborsRegressor</label><div class=\"sk-toggleable__content\"><pre>KNeighborsRegressor()</pre></div></div></div></div></div></div></div></div></div></div></div></div>"
      ],
      "text/plain": [
       "RandomizedSearchCV(cv=5,\n",
       "                   estimator=Pipeline(steps=[('transformer',\n",
       "                                              ColumnTransformer(remainder='passthrough',\n",
       "                                                                transformers=[('onehot',\n",
       "                                                                               OneHotEncoder(drop='first'),\n",
       "                                                                               ['Gear_Type',\n",
       "                                                                                'Origin']),\n",
       "                                                                              ('ordinal',\n",
       "                                                                               OrdinalEncoder(cols=['Options'],\n",
       "                                                                                              mapping=[{'col': 'Options',\n",
       "                                                                                                        'mapping': {'Full': 3,\n",
       "                                                                                                                    'Semi Full': 2,\n",
       "                                                                                                                    'Standard': 1}}]),\n",
       "                                                                               ['Options']),\n",
       "                                                                              ('binary',\n",
       "                                                                               BinaryEncoder(),\n",
       "                                                                               ['Type',\n",
       "                                                                                'Region',\n",
       "                                                                                'Make'])])),\n",
       "                                             ('scaler', RobustScaler()),\n",
       "                                             ('algo', KNeighborsRegressor())]),\n",
       "                   n_iter=300, n_jobs=-1,\n",
       "                   param_distributions={'algo__leaf_size': range(10, 100, 2),\n",
       "                                        'algo__n_neighbors': range(3, 100, 2),\n",
       "                                        'algo__weights': ['uniform',\n",
       "                                                          'distance'],\n",
       "                                        'scaler': [RobustScaler(),\n",
       "                                                   MinMaxScaler(),\n",
       "                                                   StandardScaler()]},\n",
       "                   random_state=0, scoring='neg_mean_absolute_error')"
      ]
     },
     "execution_count": 308,
     "metadata": {},
     "output_type": "execute_result"
    }
   ],
   "source": [
    "random_search_knn.fit(X_train, y_train)"
   ]
  },
  {
   "cell_type": "code",
   "execution_count": null,
   "metadata": {},
   "outputs": [
    {
     "data": {
      "text/plain": [
       "{'scaler': RobustScaler(),\n",
       " 'algo__weights': 'distance',\n",
       " 'algo__n_neighbors': 5,\n",
       " 'algo__leaf_size': 50}"
      ]
     },
     "execution_count": 309,
     "metadata": {},
     "output_type": "execute_result"
    }
   ],
   "source": [
    "random_search_knn.best_params_"
   ]
  },
  {
   "cell_type": "code",
   "execution_count": null,
   "metadata": {},
   "outputs": [
    {
     "data": {
      "text/plain": [
       "-15987.763574220988"
      ]
     },
     "execution_count": 310,
     "metadata": {},
     "output_type": "execute_result"
    }
   ],
   "source": [
    "random_search_knn.best_score_"
   ]
  },
  {
   "cell_type": "markdown",
   "metadata": {},
   "source": [
    "Grid Search"
   ]
  },
  {
   "cell_type": "code",
   "execution_count": null,
   "metadata": {},
   "outputs": [],
   "source": [
    "# Define Model\n",
    "model_pipe_knn = Pipeline([\n",
    "    ('transformer', transformer),\n",
    "    ('scaler',robust),\n",
    "    ('algo',knn)\n",
    "])\n",
    "\n",
    "# Hyperparameter Combination\n",
    "hyper_param_grid_knn = {\n",
    "    'scaler' : [robust,minmax,standard],\n",
    "    'algo__n_neighbors' : range(5,20,2),\n",
    "    'algo__weights' : ['uniform','distance'],\n",
    "    'algo__leaf_size' : range(30,41,1)\n",
    "}\n",
    "\n",
    "# Grid Search\n",
    "grid_search_knn = GridSearchCV(\n",
    "    estimator = model_pipe_knn,\n",
    "    param_grid=hyper_param_grid_knn,\n",
    "    cv=5,\n",
    "    scoring='neg_mean_absolute_error',\n",
    "    n_jobs=-1,\n",
    ")"
   ]
  },
  {
   "cell_type": "code",
   "execution_count": null,
   "metadata": {},
   "outputs": [
    {
     "data": {
      "text/html": [
       "<style>#sk-container-id-14 {color: black;background-color: white;}#sk-container-id-14 pre{padding: 0;}#sk-container-id-14 div.sk-toggleable {background-color: white;}#sk-container-id-14 label.sk-toggleable__label {cursor: pointer;display: block;width: 100%;margin-bottom: 0;padding: 0.3em;box-sizing: border-box;text-align: center;}#sk-container-id-14 label.sk-toggleable__label-arrow:before {content: \"▸\";float: left;margin-right: 0.25em;color: #696969;}#sk-container-id-14 label.sk-toggleable__label-arrow:hover:before {color: black;}#sk-container-id-14 div.sk-estimator:hover label.sk-toggleable__label-arrow:before {color: black;}#sk-container-id-14 div.sk-toggleable__content {max-height: 0;max-width: 0;overflow: hidden;text-align: left;background-color: #f0f8ff;}#sk-container-id-14 div.sk-toggleable__content pre {margin: 0.2em;color: black;border-radius: 0.25em;background-color: #f0f8ff;}#sk-container-id-14 input.sk-toggleable__control:checked~div.sk-toggleable__content {max-height: 200px;max-width: 100%;overflow: auto;}#sk-container-id-14 input.sk-toggleable__control:checked~label.sk-toggleable__label-arrow:before {content: \"▾\";}#sk-container-id-14 div.sk-estimator input.sk-toggleable__control:checked~label.sk-toggleable__label {background-color: #d4ebff;}#sk-container-id-14 div.sk-label input.sk-toggleable__control:checked~label.sk-toggleable__label {background-color: #d4ebff;}#sk-container-id-14 input.sk-hidden--visually {border: 0;clip: rect(1px 1px 1px 1px);clip: rect(1px, 1px, 1px, 1px);height: 1px;margin: -1px;overflow: hidden;padding: 0;position: absolute;width: 1px;}#sk-container-id-14 div.sk-estimator {font-family: monospace;background-color: #f0f8ff;border: 1px dotted black;border-radius: 0.25em;box-sizing: border-box;margin-bottom: 0.5em;}#sk-container-id-14 div.sk-estimator:hover {background-color: #d4ebff;}#sk-container-id-14 div.sk-parallel-item::after {content: \"\";width: 100%;border-bottom: 1px solid gray;flex-grow: 1;}#sk-container-id-14 div.sk-label:hover label.sk-toggleable__label {background-color: #d4ebff;}#sk-container-id-14 div.sk-serial::before {content: \"\";position: absolute;border-left: 1px solid gray;box-sizing: border-box;top: 0;bottom: 0;left: 50%;z-index: 0;}#sk-container-id-14 div.sk-serial {display: flex;flex-direction: column;align-items: center;background-color: white;padding-right: 0.2em;padding-left: 0.2em;position: relative;}#sk-container-id-14 div.sk-item {position: relative;z-index: 1;}#sk-container-id-14 div.sk-parallel {display: flex;align-items: stretch;justify-content: center;background-color: white;position: relative;}#sk-container-id-14 div.sk-item::before, #sk-container-id-14 div.sk-parallel-item::before {content: \"\";position: absolute;border-left: 1px solid gray;box-sizing: border-box;top: 0;bottom: 0;left: 50%;z-index: -1;}#sk-container-id-14 div.sk-parallel-item {display: flex;flex-direction: column;z-index: 1;position: relative;background-color: white;}#sk-container-id-14 div.sk-parallel-item:first-child::after {align-self: flex-end;width: 50%;}#sk-container-id-14 div.sk-parallel-item:last-child::after {align-self: flex-start;width: 50%;}#sk-container-id-14 div.sk-parallel-item:only-child::after {width: 0;}#sk-container-id-14 div.sk-dashed-wrapped {border: 1px dashed gray;margin: 0 0.4em 0.5em 0.4em;box-sizing: border-box;padding-bottom: 0.4em;background-color: white;}#sk-container-id-14 div.sk-label label {font-family: monospace;font-weight: bold;display: inline-block;line-height: 1.2em;}#sk-container-id-14 div.sk-label-container {text-align: center;}#sk-container-id-14 div.sk-container {/* jupyter's `normalize.less` sets `[hidden] { display: none; }` but bootstrap.min.css set `[hidden] { display: none !important; }` so we also need the `!important` here to be able to override the default hidden behavior on the sphinx rendered scikit-learn.org. See: https://github.com/scikit-learn/scikit-learn/issues/21755 */display: inline-block !important;position: relative;}#sk-container-id-14 div.sk-text-repr-fallback {display: none;}</style><div id=\"sk-container-id-14\" class=\"sk-top-container\"><div class=\"sk-text-repr-fallback\"><pre>GridSearchCV(cv=5,\n",
       "             estimator=Pipeline(steps=[(&#x27;transformer&#x27;,\n",
       "                                        ColumnTransformer(remainder=&#x27;passthrough&#x27;,\n",
       "                                                          transformers=[(&#x27;onehot&#x27;,\n",
       "                                                                         OneHotEncoder(drop=&#x27;first&#x27;),\n",
       "                                                                         [&#x27;Gear_Type&#x27;,\n",
       "                                                                          &#x27;Origin&#x27;]),\n",
       "                                                                        (&#x27;ordinal&#x27;,\n",
       "                                                                         OrdinalEncoder(cols=[&#x27;Options&#x27;],\n",
       "                                                                                        mapping=[{&#x27;col&#x27;: &#x27;Options&#x27;,\n",
       "                                                                                                  &#x27;mapping&#x27;: {&#x27;Full&#x27;: 3,\n",
       "                                                                                                              &#x27;Semi Full&#x27;: 2,\n",
       "                                                                                                              &#x27;Standard&#x27;: 1}}]),\n",
       "                                                                         [&#x27;Options&#x27;]),\n",
       "                                                                        (&#x27;binary&#x27;,\n",
       "                                                                         BinaryEncoder(),\n",
       "                                                                         [&#x27;Type&#x27;,\n",
       "                                                                          &#x27;Region&#x27;,\n",
       "                                                                          &#x27;Make&#x27;])])),\n",
       "                                       (&#x27;scaler&#x27;, RobustScaler()),\n",
       "                                       (&#x27;algo&#x27;, KNeighborsRegressor())]),\n",
       "             n_jobs=-1,\n",
       "             param_grid={&#x27;algo__leaf_size&#x27;: range(30, 41),\n",
       "                         &#x27;algo__n_neighbors&#x27;: range(5, 20, 2),\n",
       "                         &#x27;algo__weights&#x27;: [&#x27;uniform&#x27;, &#x27;distance&#x27;],\n",
       "                         &#x27;scaler&#x27;: [RobustScaler(), MinMaxScaler(),\n",
       "                                    StandardScaler()]},\n",
       "             scoring=&#x27;neg_mean_absolute_error&#x27;)</pre><b>In a Jupyter environment, please rerun this cell to show the HTML representation or trust the notebook. <br />On GitHub, the HTML representation is unable to render, please try loading this page with nbviewer.org.</b></div><div class=\"sk-container\" hidden><div class=\"sk-item sk-dashed-wrapped\"><div class=\"sk-label-container\"><div class=\"sk-label sk-toggleable\"><input class=\"sk-toggleable__control sk-hidden--visually\" id=\"sk-estimator-id-158\" type=\"checkbox\" ><label for=\"sk-estimator-id-158\" class=\"sk-toggleable__label sk-toggleable__label-arrow\">GridSearchCV</label><div class=\"sk-toggleable__content\"><pre>GridSearchCV(cv=5,\n",
       "             estimator=Pipeline(steps=[(&#x27;transformer&#x27;,\n",
       "                                        ColumnTransformer(remainder=&#x27;passthrough&#x27;,\n",
       "                                                          transformers=[(&#x27;onehot&#x27;,\n",
       "                                                                         OneHotEncoder(drop=&#x27;first&#x27;),\n",
       "                                                                         [&#x27;Gear_Type&#x27;,\n",
       "                                                                          &#x27;Origin&#x27;]),\n",
       "                                                                        (&#x27;ordinal&#x27;,\n",
       "                                                                         OrdinalEncoder(cols=[&#x27;Options&#x27;],\n",
       "                                                                                        mapping=[{&#x27;col&#x27;: &#x27;Options&#x27;,\n",
       "                                                                                                  &#x27;mapping&#x27;: {&#x27;Full&#x27;: 3,\n",
       "                                                                                                              &#x27;Semi Full&#x27;: 2,\n",
       "                                                                                                              &#x27;Standard&#x27;: 1}}]),\n",
       "                                                                         [&#x27;Options&#x27;]),\n",
       "                                                                        (&#x27;binary&#x27;,\n",
       "                                                                         BinaryEncoder(),\n",
       "                                                                         [&#x27;Type&#x27;,\n",
       "                                                                          &#x27;Region&#x27;,\n",
       "                                                                          &#x27;Make&#x27;])])),\n",
       "                                       (&#x27;scaler&#x27;, RobustScaler()),\n",
       "                                       (&#x27;algo&#x27;, KNeighborsRegressor())]),\n",
       "             n_jobs=-1,\n",
       "             param_grid={&#x27;algo__leaf_size&#x27;: range(30, 41),\n",
       "                         &#x27;algo__n_neighbors&#x27;: range(5, 20, 2),\n",
       "                         &#x27;algo__weights&#x27;: [&#x27;uniform&#x27;, &#x27;distance&#x27;],\n",
       "                         &#x27;scaler&#x27;: [RobustScaler(), MinMaxScaler(),\n",
       "                                    StandardScaler()]},\n",
       "             scoring=&#x27;neg_mean_absolute_error&#x27;)</pre></div></div></div><div class=\"sk-parallel\"><div class=\"sk-parallel-item\"><div class=\"sk-item\"><div class=\"sk-label-container\"><div class=\"sk-label sk-toggleable\"><input class=\"sk-toggleable__control sk-hidden--visually\" id=\"sk-estimator-id-159\" type=\"checkbox\" ><label for=\"sk-estimator-id-159\" class=\"sk-toggleable__label sk-toggleable__label-arrow\">estimator: Pipeline</label><div class=\"sk-toggleable__content\"><pre>Pipeline(steps=[(&#x27;transformer&#x27;,\n",
       "                 ColumnTransformer(remainder=&#x27;passthrough&#x27;,\n",
       "                                   transformers=[(&#x27;onehot&#x27;,\n",
       "                                                  OneHotEncoder(drop=&#x27;first&#x27;),\n",
       "                                                  [&#x27;Gear_Type&#x27;, &#x27;Origin&#x27;]),\n",
       "                                                 (&#x27;ordinal&#x27;,\n",
       "                                                  OrdinalEncoder(cols=[&#x27;Options&#x27;],\n",
       "                                                                 mapping=[{&#x27;col&#x27;: &#x27;Options&#x27;,\n",
       "                                                                           &#x27;mapping&#x27;: {&#x27;Full&#x27;: 3,\n",
       "                                                                                       &#x27;Semi Full&#x27;: 2,\n",
       "                                                                                       &#x27;Standard&#x27;: 1}}]),\n",
       "                                                  [&#x27;Options&#x27;]),\n",
       "                                                 (&#x27;binary&#x27;, BinaryEncoder(),\n",
       "                                                  [&#x27;Type&#x27;, &#x27;Region&#x27;,\n",
       "                                                   &#x27;Make&#x27;])])),\n",
       "                (&#x27;scaler&#x27;, RobustScaler()), (&#x27;algo&#x27;, KNeighborsRegressor())])</pre></div></div></div><div class=\"sk-serial\"><div class=\"sk-item\"><div class=\"sk-serial\"><div class=\"sk-item sk-dashed-wrapped\"><div class=\"sk-label-container\"><div class=\"sk-label sk-toggleable\"><input class=\"sk-toggleable__control sk-hidden--visually\" id=\"sk-estimator-id-160\" type=\"checkbox\" ><label for=\"sk-estimator-id-160\" class=\"sk-toggleable__label sk-toggleable__label-arrow\">transformer: ColumnTransformer</label><div class=\"sk-toggleable__content\"><pre>ColumnTransformer(remainder=&#x27;passthrough&#x27;,\n",
       "                  transformers=[(&#x27;onehot&#x27;, OneHotEncoder(drop=&#x27;first&#x27;),\n",
       "                                 [&#x27;Gear_Type&#x27;, &#x27;Origin&#x27;]),\n",
       "                                (&#x27;ordinal&#x27;,\n",
       "                                 OrdinalEncoder(cols=[&#x27;Options&#x27;],\n",
       "                                                mapping=[{&#x27;col&#x27;: &#x27;Options&#x27;,\n",
       "                                                          &#x27;mapping&#x27;: {&#x27;Full&#x27;: 3,\n",
       "                                                                      &#x27;Semi Full&#x27;: 2,\n",
       "                                                                      &#x27;Standard&#x27;: 1}}]),\n",
       "                                 [&#x27;Options&#x27;]),\n",
       "                                (&#x27;binary&#x27;, BinaryEncoder(),\n",
       "                                 [&#x27;Type&#x27;, &#x27;Region&#x27;, &#x27;Make&#x27;])])</pre></div></div></div><div class=\"sk-parallel\"><div class=\"sk-parallel-item\"><div class=\"sk-item\"><div class=\"sk-label-container\"><div class=\"sk-label sk-toggleable\"><input class=\"sk-toggleable__control sk-hidden--visually\" id=\"sk-estimator-id-161\" type=\"checkbox\" ><label for=\"sk-estimator-id-161\" class=\"sk-toggleable__label sk-toggleable__label-arrow\">onehot</label><div class=\"sk-toggleable__content\"><pre>[&#x27;Gear_Type&#x27;, &#x27;Origin&#x27;]</pre></div></div></div><div class=\"sk-serial\"><div class=\"sk-item\"><div class=\"sk-estimator sk-toggleable\"><input class=\"sk-toggleable__control sk-hidden--visually\" id=\"sk-estimator-id-162\" type=\"checkbox\" ><label for=\"sk-estimator-id-162\" class=\"sk-toggleable__label sk-toggleable__label-arrow\">OneHotEncoder</label><div class=\"sk-toggleable__content\"><pre>OneHotEncoder(drop=&#x27;first&#x27;)</pre></div></div></div></div></div></div><div class=\"sk-parallel-item\"><div class=\"sk-item\"><div class=\"sk-label-container\"><div class=\"sk-label sk-toggleable\"><input class=\"sk-toggleable__control sk-hidden--visually\" id=\"sk-estimator-id-163\" type=\"checkbox\" ><label for=\"sk-estimator-id-163\" class=\"sk-toggleable__label sk-toggleable__label-arrow\">ordinal</label><div class=\"sk-toggleable__content\"><pre>[&#x27;Options&#x27;]</pre></div></div></div><div class=\"sk-serial\"><div class=\"sk-item\"><div class=\"sk-estimator sk-toggleable\"><input class=\"sk-toggleable__control sk-hidden--visually\" id=\"sk-estimator-id-164\" type=\"checkbox\" ><label for=\"sk-estimator-id-164\" class=\"sk-toggleable__label sk-toggleable__label-arrow\">OrdinalEncoder</label><div class=\"sk-toggleable__content\"><pre>OrdinalEncoder(cols=[&#x27;Options&#x27;],\n",
       "               mapping=[{&#x27;col&#x27;: &#x27;Options&#x27;,\n",
       "                         &#x27;mapping&#x27;: {&#x27;Full&#x27;: 3, &#x27;Semi Full&#x27;: 2,\n",
       "                                     &#x27;Standard&#x27;: 1}}])</pre></div></div></div></div></div></div><div class=\"sk-parallel-item\"><div class=\"sk-item\"><div class=\"sk-label-container\"><div class=\"sk-label sk-toggleable\"><input class=\"sk-toggleable__control sk-hidden--visually\" id=\"sk-estimator-id-165\" type=\"checkbox\" ><label for=\"sk-estimator-id-165\" class=\"sk-toggleable__label sk-toggleable__label-arrow\">binary</label><div class=\"sk-toggleable__content\"><pre>[&#x27;Type&#x27;, &#x27;Region&#x27;, &#x27;Make&#x27;]</pre></div></div></div><div class=\"sk-serial\"><div class=\"sk-item\"><div class=\"sk-estimator sk-toggleable\"><input class=\"sk-toggleable__control sk-hidden--visually\" id=\"sk-estimator-id-166\" type=\"checkbox\" ><label for=\"sk-estimator-id-166\" class=\"sk-toggleable__label sk-toggleable__label-arrow\">BinaryEncoder</label><div class=\"sk-toggleable__content\"><pre>BinaryEncoder()</pre></div></div></div></div></div></div><div class=\"sk-parallel-item\"><div class=\"sk-item\"><div class=\"sk-label-container\"><div class=\"sk-label sk-toggleable\"><input class=\"sk-toggleable__control sk-hidden--visually\" id=\"sk-estimator-id-167\" type=\"checkbox\" ><label for=\"sk-estimator-id-167\" class=\"sk-toggleable__label sk-toggleable__label-arrow\">remainder</label><div class=\"sk-toggleable__content\"><pre></pre></div></div></div><div class=\"sk-serial\"><div class=\"sk-item\"><div class=\"sk-estimator sk-toggleable\"><input class=\"sk-toggleable__control sk-hidden--visually\" id=\"sk-estimator-id-168\" type=\"checkbox\" ><label for=\"sk-estimator-id-168\" class=\"sk-toggleable__label sk-toggleable__label-arrow\">passthrough</label><div class=\"sk-toggleable__content\"><pre>passthrough</pre></div></div></div></div></div></div></div></div><div class=\"sk-item\"><div class=\"sk-estimator sk-toggleable\"><input class=\"sk-toggleable__control sk-hidden--visually\" id=\"sk-estimator-id-169\" type=\"checkbox\" ><label for=\"sk-estimator-id-169\" class=\"sk-toggleable__label sk-toggleable__label-arrow\">RobustScaler</label><div class=\"sk-toggleable__content\"><pre>RobustScaler()</pre></div></div></div><div class=\"sk-item\"><div class=\"sk-estimator sk-toggleable\"><input class=\"sk-toggleable__control sk-hidden--visually\" id=\"sk-estimator-id-170\" type=\"checkbox\" ><label for=\"sk-estimator-id-170\" class=\"sk-toggleable__label sk-toggleable__label-arrow\">KNeighborsRegressor</label><div class=\"sk-toggleable__content\"><pre>KNeighborsRegressor()</pre></div></div></div></div></div></div></div></div></div></div></div></div>"
      ],
      "text/plain": [
       "GridSearchCV(cv=5,\n",
       "             estimator=Pipeline(steps=[('transformer',\n",
       "                                        ColumnTransformer(remainder='passthrough',\n",
       "                                                          transformers=[('onehot',\n",
       "                                                                         OneHotEncoder(drop='first'),\n",
       "                                                                         ['Gear_Type',\n",
       "                                                                          'Origin']),\n",
       "                                                                        ('ordinal',\n",
       "                                                                         OrdinalEncoder(cols=['Options'],\n",
       "                                                                                        mapping=[{'col': 'Options',\n",
       "                                                                                                  'mapping': {'Full': 3,\n",
       "                                                                                                              'Semi Full': 2,\n",
       "                                                                                                              'Standard': 1}}]),\n",
       "                                                                         ['Options']),\n",
       "                                                                        ('binary',\n",
       "                                                                         BinaryEncoder(),\n",
       "                                                                         ['Type',\n",
       "                                                                          'Region',\n",
       "                                                                          'Make'])])),\n",
       "                                       ('scaler', RobustScaler()),\n",
       "                                       ('algo', KNeighborsRegressor())]),\n",
       "             n_jobs=-1,\n",
       "             param_grid={'algo__leaf_size': range(30, 41),\n",
       "                         'algo__n_neighbors': range(5, 20, 2),\n",
       "                         'algo__weights': ['uniform', 'distance'],\n",
       "                         'scaler': [RobustScaler(), MinMaxScaler(),\n",
       "                                    StandardScaler()]},\n",
       "             scoring='neg_mean_absolute_error')"
      ]
     },
     "execution_count": 312,
     "metadata": {},
     "output_type": "execute_result"
    }
   ],
   "source": [
    "grid_search_knn.fit(X_train, y_train)"
   ]
  },
  {
   "cell_type": "code",
   "execution_count": null,
   "metadata": {},
   "outputs": [
    {
     "data": {
      "text/plain": [
       "{'algo__leaf_size': 30,\n",
       " 'algo__n_neighbors': 5,\n",
       " 'algo__weights': 'distance',\n",
       " 'scaler': RobustScaler()}"
      ]
     },
     "execution_count": 313,
     "metadata": {},
     "output_type": "execute_result"
    }
   ],
   "source": [
    "grid_search_knn.best_params_"
   ]
  },
  {
   "cell_type": "code",
   "execution_count": null,
   "metadata": {},
   "outputs": [
    {
     "data": {
      "text/plain": [
       "-15987.763574220988"
      ]
     },
     "execution_count": 314,
     "metadata": {},
     "output_type": "execute_result"
    }
   ],
   "source": [
    "grid_search_knn.best_score_"
   ]
  },
  {
   "cell_type": "markdown",
   "metadata": {},
   "source": [
    "#### Random Forest"
   ]
  },
  {
   "cell_type": "markdown",
   "metadata": {},
   "source": [
    " Randomize Search"
   ]
  },
  {
   "cell_type": "code",
   "execution_count": null,
   "metadata": {},
   "outputs": [],
   "source": [
    "model_pipe_rf = Pipeline([\n",
    "    ('transformer', transformer),\n",
    "    ('scaler',robust),\n",
    "    ('algo',rf)\n",
    "])\n",
    "\n",
    "hyper_param_random = {\n",
    "    'scaler' : [robust,minmax,standard],\n",
    "    'algo__n_estimators' : range(100,200,10),\n",
    "    'algo__max_depth' : range(1,100,1),\n",
    "    'algo__min_samples_split' : range(2,100,2),\n",
    "    'algo__min_samples_leaf' : range(1,100,1)\n",
    "}\n",
    "\n",
    "random_search_rf = RandomizedSearchCV(\n",
    "    estimator = model_pipe_rf,\n",
    "    param_distributions=hyper_param_random,\n",
    "    cv=5,\n",
    "    scoring='neg_mean_absolute_error',\n",
    "    n_jobs=-1,\n",
    "    n_iter=300,\n",
    "    random_state=0\n",
    ")"
   ]
  },
  {
   "cell_type": "code",
   "execution_count": null,
   "metadata": {},
   "outputs": [
    {
     "data": {
      "text/html": [
       "<style>#sk-container-id-15 {color: black;background-color: white;}#sk-container-id-15 pre{padding: 0;}#sk-container-id-15 div.sk-toggleable {background-color: white;}#sk-container-id-15 label.sk-toggleable__label {cursor: pointer;display: block;width: 100%;margin-bottom: 0;padding: 0.3em;box-sizing: border-box;text-align: center;}#sk-container-id-15 label.sk-toggleable__label-arrow:before {content: \"▸\";float: left;margin-right: 0.25em;color: #696969;}#sk-container-id-15 label.sk-toggleable__label-arrow:hover:before {color: black;}#sk-container-id-15 div.sk-estimator:hover label.sk-toggleable__label-arrow:before {color: black;}#sk-container-id-15 div.sk-toggleable__content {max-height: 0;max-width: 0;overflow: hidden;text-align: left;background-color: #f0f8ff;}#sk-container-id-15 div.sk-toggleable__content pre {margin: 0.2em;color: black;border-radius: 0.25em;background-color: #f0f8ff;}#sk-container-id-15 input.sk-toggleable__control:checked~div.sk-toggleable__content {max-height: 200px;max-width: 100%;overflow: auto;}#sk-container-id-15 input.sk-toggleable__control:checked~label.sk-toggleable__label-arrow:before {content: \"▾\";}#sk-container-id-15 div.sk-estimator input.sk-toggleable__control:checked~label.sk-toggleable__label {background-color: #d4ebff;}#sk-container-id-15 div.sk-label input.sk-toggleable__control:checked~label.sk-toggleable__label {background-color: #d4ebff;}#sk-container-id-15 input.sk-hidden--visually {border: 0;clip: rect(1px 1px 1px 1px);clip: rect(1px, 1px, 1px, 1px);height: 1px;margin: -1px;overflow: hidden;padding: 0;position: absolute;width: 1px;}#sk-container-id-15 div.sk-estimator {font-family: monospace;background-color: #f0f8ff;border: 1px dotted black;border-radius: 0.25em;box-sizing: border-box;margin-bottom: 0.5em;}#sk-container-id-15 div.sk-estimator:hover {background-color: #d4ebff;}#sk-container-id-15 div.sk-parallel-item::after {content: \"\";width: 100%;border-bottom: 1px solid gray;flex-grow: 1;}#sk-container-id-15 div.sk-label:hover label.sk-toggleable__label {background-color: #d4ebff;}#sk-container-id-15 div.sk-serial::before {content: \"\";position: absolute;border-left: 1px solid gray;box-sizing: border-box;top: 0;bottom: 0;left: 50%;z-index: 0;}#sk-container-id-15 div.sk-serial {display: flex;flex-direction: column;align-items: center;background-color: white;padding-right: 0.2em;padding-left: 0.2em;position: relative;}#sk-container-id-15 div.sk-item {position: relative;z-index: 1;}#sk-container-id-15 div.sk-parallel {display: flex;align-items: stretch;justify-content: center;background-color: white;position: relative;}#sk-container-id-15 div.sk-item::before, #sk-container-id-15 div.sk-parallel-item::before {content: \"\";position: absolute;border-left: 1px solid gray;box-sizing: border-box;top: 0;bottom: 0;left: 50%;z-index: -1;}#sk-container-id-15 div.sk-parallel-item {display: flex;flex-direction: column;z-index: 1;position: relative;background-color: white;}#sk-container-id-15 div.sk-parallel-item:first-child::after {align-self: flex-end;width: 50%;}#sk-container-id-15 div.sk-parallel-item:last-child::after {align-self: flex-start;width: 50%;}#sk-container-id-15 div.sk-parallel-item:only-child::after {width: 0;}#sk-container-id-15 div.sk-dashed-wrapped {border: 1px dashed gray;margin: 0 0.4em 0.5em 0.4em;box-sizing: border-box;padding-bottom: 0.4em;background-color: white;}#sk-container-id-15 div.sk-label label {font-family: monospace;font-weight: bold;display: inline-block;line-height: 1.2em;}#sk-container-id-15 div.sk-label-container {text-align: center;}#sk-container-id-15 div.sk-container {/* jupyter's `normalize.less` sets `[hidden] { display: none; }` but bootstrap.min.css set `[hidden] { display: none !important; }` so we also need the `!important` here to be able to override the default hidden behavior on the sphinx rendered scikit-learn.org. See: https://github.com/scikit-learn/scikit-learn/issues/21755 */display: inline-block !important;position: relative;}#sk-container-id-15 div.sk-text-repr-fallback {display: none;}</style><div id=\"sk-container-id-15\" class=\"sk-top-container\"><div class=\"sk-text-repr-fallback\"><pre>RandomizedSearchCV(cv=5,\n",
       "                   estimator=Pipeline(steps=[(&#x27;transformer&#x27;,\n",
       "                                              ColumnTransformer(remainder=&#x27;passthrough&#x27;,\n",
       "                                                                transformers=[(&#x27;onehot&#x27;,\n",
       "                                                                               OneHotEncoder(drop=&#x27;first&#x27;),\n",
       "                                                                               [&#x27;Gear_Type&#x27;,\n",
       "                                                                                &#x27;Origin&#x27;]),\n",
       "                                                                              (&#x27;ordinal&#x27;,\n",
       "                                                                               OrdinalEncoder(cols=[&#x27;Options&#x27;],\n",
       "                                                                                              mapping=[{&#x27;col&#x27;: &#x27;Options&#x27;,\n",
       "                                                                                                        &#x27;mapping&#x27;: {&#x27;Full&#x27;: 3,\n",
       "                                                                                                                    &#x27;Semi Full&#x27;: 2,\n",
       "                                                                                                                    &#x27;Standard&#x27;: 1}}]),\n",
       "                                                                               [&#x27;Options&#x27;]),\n",
       "                                                                              (&#x27;binary&#x27;,\n",
       "                                                                               BinaryEncoder(),\n",
       "                                                                               [&#x27;Type&#x27;,\n",
       "                                                                                &#x27;...\n",
       "                                             (&#x27;scaler&#x27;, RobustScaler()),\n",
       "                                             (&#x27;algo&#x27;,\n",
       "                                              RandomForestRegressor(random_state=1))]),\n",
       "                   n_iter=300, n_jobs=-1,\n",
       "                   param_distributions={&#x27;algo__max_depth&#x27;: range(1, 100),\n",
       "                                        &#x27;algo__min_samples_leaf&#x27;: range(1, 100),\n",
       "                                        &#x27;algo__min_samples_split&#x27;: range(2, 100, 2),\n",
       "                                        &#x27;algo__n_estimators&#x27;: range(100, 200, 10),\n",
       "                                        &#x27;scaler&#x27;: [RobustScaler(),\n",
       "                                                   MinMaxScaler(),\n",
       "                                                   StandardScaler()]},\n",
       "                   random_state=0, scoring=&#x27;neg_mean_absolute_error&#x27;)</pre><b>In a Jupyter environment, please rerun this cell to show the HTML representation or trust the notebook. <br />On GitHub, the HTML representation is unable to render, please try loading this page with nbviewer.org.</b></div><div class=\"sk-container\" hidden><div class=\"sk-item sk-dashed-wrapped\"><div class=\"sk-label-container\"><div class=\"sk-label sk-toggleable\"><input class=\"sk-toggleable__control sk-hidden--visually\" id=\"sk-estimator-id-171\" type=\"checkbox\" ><label for=\"sk-estimator-id-171\" class=\"sk-toggleable__label sk-toggleable__label-arrow\">RandomizedSearchCV</label><div class=\"sk-toggleable__content\"><pre>RandomizedSearchCV(cv=5,\n",
       "                   estimator=Pipeline(steps=[(&#x27;transformer&#x27;,\n",
       "                                              ColumnTransformer(remainder=&#x27;passthrough&#x27;,\n",
       "                                                                transformers=[(&#x27;onehot&#x27;,\n",
       "                                                                               OneHotEncoder(drop=&#x27;first&#x27;),\n",
       "                                                                               [&#x27;Gear_Type&#x27;,\n",
       "                                                                                &#x27;Origin&#x27;]),\n",
       "                                                                              (&#x27;ordinal&#x27;,\n",
       "                                                                               OrdinalEncoder(cols=[&#x27;Options&#x27;],\n",
       "                                                                                              mapping=[{&#x27;col&#x27;: &#x27;Options&#x27;,\n",
       "                                                                                                        &#x27;mapping&#x27;: {&#x27;Full&#x27;: 3,\n",
       "                                                                                                                    &#x27;Semi Full&#x27;: 2,\n",
       "                                                                                                                    &#x27;Standard&#x27;: 1}}]),\n",
       "                                                                               [&#x27;Options&#x27;]),\n",
       "                                                                              (&#x27;binary&#x27;,\n",
       "                                                                               BinaryEncoder(),\n",
       "                                                                               [&#x27;Type&#x27;,\n",
       "                                                                                &#x27;...\n",
       "                                             (&#x27;scaler&#x27;, RobustScaler()),\n",
       "                                             (&#x27;algo&#x27;,\n",
       "                                              RandomForestRegressor(random_state=1))]),\n",
       "                   n_iter=300, n_jobs=-1,\n",
       "                   param_distributions={&#x27;algo__max_depth&#x27;: range(1, 100),\n",
       "                                        &#x27;algo__min_samples_leaf&#x27;: range(1, 100),\n",
       "                                        &#x27;algo__min_samples_split&#x27;: range(2, 100, 2),\n",
       "                                        &#x27;algo__n_estimators&#x27;: range(100, 200, 10),\n",
       "                                        &#x27;scaler&#x27;: [RobustScaler(),\n",
       "                                                   MinMaxScaler(),\n",
       "                                                   StandardScaler()]},\n",
       "                   random_state=0, scoring=&#x27;neg_mean_absolute_error&#x27;)</pre></div></div></div><div class=\"sk-parallel\"><div class=\"sk-parallel-item\"><div class=\"sk-item\"><div class=\"sk-label-container\"><div class=\"sk-label sk-toggleable\"><input class=\"sk-toggleable__control sk-hidden--visually\" id=\"sk-estimator-id-172\" type=\"checkbox\" ><label for=\"sk-estimator-id-172\" class=\"sk-toggleable__label sk-toggleable__label-arrow\">estimator: Pipeline</label><div class=\"sk-toggleable__content\"><pre>Pipeline(steps=[(&#x27;transformer&#x27;,\n",
       "                 ColumnTransformer(remainder=&#x27;passthrough&#x27;,\n",
       "                                   transformers=[(&#x27;onehot&#x27;,\n",
       "                                                  OneHotEncoder(drop=&#x27;first&#x27;),\n",
       "                                                  [&#x27;Gear_Type&#x27;, &#x27;Origin&#x27;]),\n",
       "                                                 (&#x27;ordinal&#x27;,\n",
       "                                                  OrdinalEncoder(cols=[&#x27;Options&#x27;],\n",
       "                                                                 mapping=[{&#x27;col&#x27;: &#x27;Options&#x27;,\n",
       "                                                                           &#x27;mapping&#x27;: {&#x27;Full&#x27;: 3,\n",
       "                                                                                       &#x27;Semi Full&#x27;: 2,\n",
       "                                                                                       &#x27;Standard&#x27;: 1}}]),\n",
       "                                                  [&#x27;Options&#x27;]),\n",
       "                                                 (&#x27;binary&#x27;, BinaryEncoder(),\n",
       "                                                  [&#x27;Type&#x27;, &#x27;Region&#x27;,\n",
       "                                                   &#x27;Make&#x27;])])),\n",
       "                (&#x27;scaler&#x27;, RobustScaler()),\n",
       "                (&#x27;algo&#x27;, RandomForestRegressor(random_state=1))])</pre></div></div></div><div class=\"sk-serial\"><div class=\"sk-item\"><div class=\"sk-serial\"><div class=\"sk-item sk-dashed-wrapped\"><div class=\"sk-label-container\"><div class=\"sk-label sk-toggleable\"><input class=\"sk-toggleable__control sk-hidden--visually\" id=\"sk-estimator-id-173\" type=\"checkbox\" ><label for=\"sk-estimator-id-173\" class=\"sk-toggleable__label sk-toggleable__label-arrow\">transformer: ColumnTransformer</label><div class=\"sk-toggleable__content\"><pre>ColumnTransformer(remainder=&#x27;passthrough&#x27;,\n",
       "                  transformers=[(&#x27;onehot&#x27;, OneHotEncoder(drop=&#x27;first&#x27;),\n",
       "                                 [&#x27;Gear_Type&#x27;, &#x27;Origin&#x27;]),\n",
       "                                (&#x27;ordinal&#x27;,\n",
       "                                 OrdinalEncoder(cols=[&#x27;Options&#x27;],\n",
       "                                                mapping=[{&#x27;col&#x27;: &#x27;Options&#x27;,\n",
       "                                                          &#x27;mapping&#x27;: {&#x27;Full&#x27;: 3,\n",
       "                                                                      &#x27;Semi Full&#x27;: 2,\n",
       "                                                                      &#x27;Standard&#x27;: 1}}]),\n",
       "                                 [&#x27;Options&#x27;]),\n",
       "                                (&#x27;binary&#x27;, BinaryEncoder(),\n",
       "                                 [&#x27;Type&#x27;, &#x27;Region&#x27;, &#x27;Make&#x27;])])</pre></div></div></div><div class=\"sk-parallel\"><div class=\"sk-parallel-item\"><div class=\"sk-item\"><div class=\"sk-label-container\"><div class=\"sk-label sk-toggleable\"><input class=\"sk-toggleable__control sk-hidden--visually\" id=\"sk-estimator-id-174\" type=\"checkbox\" ><label for=\"sk-estimator-id-174\" class=\"sk-toggleable__label sk-toggleable__label-arrow\">onehot</label><div class=\"sk-toggleable__content\"><pre>[&#x27;Gear_Type&#x27;, &#x27;Origin&#x27;]</pre></div></div></div><div class=\"sk-serial\"><div class=\"sk-item\"><div class=\"sk-estimator sk-toggleable\"><input class=\"sk-toggleable__control sk-hidden--visually\" id=\"sk-estimator-id-175\" type=\"checkbox\" ><label for=\"sk-estimator-id-175\" class=\"sk-toggleable__label sk-toggleable__label-arrow\">OneHotEncoder</label><div class=\"sk-toggleable__content\"><pre>OneHotEncoder(drop=&#x27;first&#x27;)</pre></div></div></div></div></div></div><div class=\"sk-parallel-item\"><div class=\"sk-item\"><div class=\"sk-label-container\"><div class=\"sk-label sk-toggleable\"><input class=\"sk-toggleable__control sk-hidden--visually\" id=\"sk-estimator-id-176\" type=\"checkbox\" ><label for=\"sk-estimator-id-176\" class=\"sk-toggleable__label sk-toggleable__label-arrow\">ordinal</label><div class=\"sk-toggleable__content\"><pre>[&#x27;Options&#x27;]</pre></div></div></div><div class=\"sk-serial\"><div class=\"sk-item\"><div class=\"sk-estimator sk-toggleable\"><input class=\"sk-toggleable__control sk-hidden--visually\" id=\"sk-estimator-id-177\" type=\"checkbox\" ><label for=\"sk-estimator-id-177\" class=\"sk-toggleable__label sk-toggleable__label-arrow\">OrdinalEncoder</label><div class=\"sk-toggleable__content\"><pre>OrdinalEncoder(cols=[&#x27;Options&#x27;],\n",
       "               mapping=[{&#x27;col&#x27;: &#x27;Options&#x27;,\n",
       "                         &#x27;mapping&#x27;: {&#x27;Full&#x27;: 3, &#x27;Semi Full&#x27;: 2,\n",
       "                                     &#x27;Standard&#x27;: 1}}])</pre></div></div></div></div></div></div><div class=\"sk-parallel-item\"><div class=\"sk-item\"><div class=\"sk-label-container\"><div class=\"sk-label sk-toggleable\"><input class=\"sk-toggleable__control sk-hidden--visually\" id=\"sk-estimator-id-178\" type=\"checkbox\" ><label for=\"sk-estimator-id-178\" class=\"sk-toggleable__label sk-toggleable__label-arrow\">binary</label><div class=\"sk-toggleable__content\"><pre>[&#x27;Type&#x27;, &#x27;Region&#x27;, &#x27;Make&#x27;]</pre></div></div></div><div class=\"sk-serial\"><div class=\"sk-item\"><div class=\"sk-estimator sk-toggleable\"><input class=\"sk-toggleable__control sk-hidden--visually\" id=\"sk-estimator-id-179\" type=\"checkbox\" ><label for=\"sk-estimator-id-179\" class=\"sk-toggleable__label sk-toggleable__label-arrow\">BinaryEncoder</label><div class=\"sk-toggleable__content\"><pre>BinaryEncoder()</pre></div></div></div></div></div></div><div class=\"sk-parallel-item\"><div class=\"sk-item\"><div class=\"sk-label-container\"><div class=\"sk-label sk-toggleable\"><input class=\"sk-toggleable__control sk-hidden--visually\" id=\"sk-estimator-id-180\" type=\"checkbox\" ><label for=\"sk-estimator-id-180\" class=\"sk-toggleable__label sk-toggleable__label-arrow\">remainder</label><div class=\"sk-toggleable__content\"><pre></pre></div></div></div><div class=\"sk-serial\"><div class=\"sk-item\"><div class=\"sk-estimator sk-toggleable\"><input class=\"sk-toggleable__control sk-hidden--visually\" id=\"sk-estimator-id-181\" type=\"checkbox\" ><label for=\"sk-estimator-id-181\" class=\"sk-toggleable__label sk-toggleable__label-arrow\">passthrough</label><div class=\"sk-toggleable__content\"><pre>passthrough</pre></div></div></div></div></div></div></div></div><div class=\"sk-item\"><div class=\"sk-estimator sk-toggleable\"><input class=\"sk-toggleable__control sk-hidden--visually\" id=\"sk-estimator-id-182\" type=\"checkbox\" ><label for=\"sk-estimator-id-182\" class=\"sk-toggleable__label sk-toggleable__label-arrow\">RobustScaler</label><div class=\"sk-toggleable__content\"><pre>RobustScaler()</pre></div></div></div><div class=\"sk-item\"><div class=\"sk-estimator sk-toggleable\"><input class=\"sk-toggleable__control sk-hidden--visually\" id=\"sk-estimator-id-183\" type=\"checkbox\" ><label for=\"sk-estimator-id-183\" class=\"sk-toggleable__label sk-toggleable__label-arrow\">RandomForestRegressor</label><div class=\"sk-toggleable__content\"><pre>RandomForestRegressor(random_state=1)</pre></div></div></div></div></div></div></div></div></div></div></div></div>"
      ],
      "text/plain": [
       "RandomizedSearchCV(cv=5,\n",
       "                   estimator=Pipeline(steps=[('transformer',\n",
       "                                              ColumnTransformer(remainder='passthrough',\n",
       "                                                                transformers=[('onehot',\n",
       "                                                                               OneHotEncoder(drop='first'),\n",
       "                                                                               ['Gear_Type',\n",
       "                                                                                'Origin']),\n",
       "                                                                              ('ordinal',\n",
       "                                                                               OrdinalEncoder(cols=['Options'],\n",
       "                                                                                              mapping=[{'col': 'Options',\n",
       "                                                                                                        'mapping': {'Full': 3,\n",
       "                                                                                                                    'Semi Full': 2,\n",
       "                                                                                                                    'Standard': 1}}]),\n",
       "                                                                               ['Options']),\n",
       "                                                                              ('binary',\n",
       "                                                                               BinaryEncoder(),\n",
       "                                                                               ['Type',\n",
       "                                                                                '...\n",
       "                                             ('scaler', RobustScaler()),\n",
       "                                             ('algo',\n",
       "                                              RandomForestRegressor(random_state=1))]),\n",
       "                   n_iter=300, n_jobs=-1,\n",
       "                   param_distributions={'algo__max_depth': range(1, 100),\n",
       "                                        'algo__min_samples_leaf': range(1, 100),\n",
       "                                        'algo__min_samples_split': range(2, 100, 2),\n",
       "                                        'algo__n_estimators': range(100, 200, 10),\n",
       "                                        'scaler': [RobustScaler(),\n",
       "                                                   MinMaxScaler(),\n",
       "                                                   StandardScaler()]},\n",
       "                   random_state=0, scoring='neg_mean_absolute_error')"
      ]
     },
     "execution_count": 316,
     "metadata": {},
     "output_type": "execute_result"
    }
   ],
   "source": [
    "random_search_rf.fit(X_train, y_train)"
   ]
  },
  {
   "cell_type": "code",
   "execution_count": null,
   "metadata": {},
   "outputs": [
    {
     "data": {
      "text/plain": [
       "{'scaler': RobustScaler(),\n",
       " 'algo__n_estimators': 130,\n",
       " 'algo__min_samples_split': 2,\n",
       " 'algo__min_samples_leaf': 2,\n",
       " 'algo__max_depth': 95}"
      ]
     },
     "execution_count": 317,
     "metadata": {},
     "output_type": "execute_result"
    }
   ],
   "source": [
    "random_search_rf.best_params_"
   ]
  },
  {
   "cell_type": "code",
   "execution_count": null,
   "metadata": {},
   "outputs": [
    {
     "data": {
      "text/plain": [
       "-15037.752433578804"
      ]
     },
     "execution_count": 318,
     "metadata": {},
     "output_type": "execute_result"
    }
   ],
   "source": [
    "random_search_rf.best_score_"
   ]
  },
  {
   "cell_type": "markdown",
   "metadata": {},
   "source": [
    "Grid Search"
   ]
  },
  {
   "cell_type": "code",
   "execution_count": null,
   "metadata": {},
   "outputs": [],
   "source": [
    "model_pipe_rf = Pipeline([\n",
    "    ('transformer', transformer),\n",
    "    ('scaler',robust),\n",
    "    ('algo',rf)\n",
    "])\n",
    "\n",
    "hyper_param_grid_rf = {\n",
    "    'scaler' : [robust],\n",
    "    'algo__n_estimators' : range(165,171,5),\n",
    "    'algo__max_depth' : range(45,49,1),\n",
    "    'algo__min_samples_split' : range(4,7,2),\n",
    "    'algo__min_samples_leaf' : range(1,4,1)\n",
    "}\n",
    "\n",
    "\n",
    "grid_search_rf = GridSearchCV(\n",
    "    estimator = model_pipe_rf,\n",
    "    param_grid=hyper_param_grid_rf,\n",
    "    cv=5,\n",
    "    scoring='neg_mean_absolute_error',\n",
    "    n_jobs=-1,\n",
    ")"
   ]
  },
  {
   "cell_type": "code",
   "execution_count": null,
   "metadata": {},
   "outputs": [
    {
     "data": {
      "text/html": [
       "<style>#sk-container-id-16 {color: black;background-color: white;}#sk-container-id-16 pre{padding: 0;}#sk-container-id-16 div.sk-toggleable {background-color: white;}#sk-container-id-16 label.sk-toggleable__label {cursor: pointer;display: block;width: 100%;margin-bottom: 0;padding: 0.3em;box-sizing: border-box;text-align: center;}#sk-container-id-16 label.sk-toggleable__label-arrow:before {content: \"▸\";float: left;margin-right: 0.25em;color: #696969;}#sk-container-id-16 label.sk-toggleable__label-arrow:hover:before {color: black;}#sk-container-id-16 div.sk-estimator:hover label.sk-toggleable__label-arrow:before {color: black;}#sk-container-id-16 div.sk-toggleable__content {max-height: 0;max-width: 0;overflow: hidden;text-align: left;background-color: #f0f8ff;}#sk-container-id-16 div.sk-toggleable__content pre {margin: 0.2em;color: black;border-radius: 0.25em;background-color: #f0f8ff;}#sk-container-id-16 input.sk-toggleable__control:checked~div.sk-toggleable__content {max-height: 200px;max-width: 100%;overflow: auto;}#sk-container-id-16 input.sk-toggleable__control:checked~label.sk-toggleable__label-arrow:before {content: \"▾\";}#sk-container-id-16 div.sk-estimator input.sk-toggleable__control:checked~label.sk-toggleable__label {background-color: #d4ebff;}#sk-container-id-16 div.sk-label input.sk-toggleable__control:checked~label.sk-toggleable__label {background-color: #d4ebff;}#sk-container-id-16 input.sk-hidden--visually {border: 0;clip: rect(1px 1px 1px 1px);clip: rect(1px, 1px, 1px, 1px);height: 1px;margin: -1px;overflow: hidden;padding: 0;position: absolute;width: 1px;}#sk-container-id-16 div.sk-estimator {font-family: monospace;background-color: #f0f8ff;border: 1px dotted black;border-radius: 0.25em;box-sizing: border-box;margin-bottom: 0.5em;}#sk-container-id-16 div.sk-estimator:hover {background-color: #d4ebff;}#sk-container-id-16 div.sk-parallel-item::after {content: \"\";width: 100%;border-bottom: 1px solid gray;flex-grow: 1;}#sk-container-id-16 div.sk-label:hover label.sk-toggleable__label {background-color: #d4ebff;}#sk-container-id-16 div.sk-serial::before {content: \"\";position: absolute;border-left: 1px solid gray;box-sizing: border-box;top: 0;bottom: 0;left: 50%;z-index: 0;}#sk-container-id-16 div.sk-serial {display: flex;flex-direction: column;align-items: center;background-color: white;padding-right: 0.2em;padding-left: 0.2em;position: relative;}#sk-container-id-16 div.sk-item {position: relative;z-index: 1;}#sk-container-id-16 div.sk-parallel {display: flex;align-items: stretch;justify-content: center;background-color: white;position: relative;}#sk-container-id-16 div.sk-item::before, #sk-container-id-16 div.sk-parallel-item::before {content: \"\";position: absolute;border-left: 1px solid gray;box-sizing: border-box;top: 0;bottom: 0;left: 50%;z-index: -1;}#sk-container-id-16 div.sk-parallel-item {display: flex;flex-direction: column;z-index: 1;position: relative;background-color: white;}#sk-container-id-16 div.sk-parallel-item:first-child::after {align-self: flex-end;width: 50%;}#sk-container-id-16 div.sk-parallel-item:last-child::after {align-self: flex-start;width: 50%;}#sk-container-id-16 div.sk-parallel-item:only-child::after {width: 0;}#sk-container-id-16 div.sk-dashed-wrapped {border: 1px dashed gray;margin: 0 0.4em 0.5em 0.4em;box-sizing: border-box;padding-bottom: 0.4em;background-color: white;}#sk-container-id-16 div.sk-label label {font-family: monospace;font-weight: bold;display: inline-block;line-height: 1.2em;}#sk-container-id-16 div.sk-label-container {text-align: center;}#sk-container-id-16 div.sk-container {/* jupyter's `normalize.less` sets `[hidden] { display: none; }` but bootstrap.min.css set `[hidden] { display: none !important; }` so we also need the `!important` here to be able to override the default hidden behavior on the sphinx rendered scikit-learn.org. See: https://github.com/scikit-learn/scikit-learn/issues/21755 */display: inline-block !important;position: relative;}#sk-container-id-16 div.sk-text-repr-fallback {display: none;}</style><div id=\"sk-container-id-16\" class=\"sk-top-container\"><div class=\"sk-text-repr-fallback\"><pre>GridSearchCV(cv=5,\n",
       "             estimator=Pipeline(steps=[(&#x27;transformer&#x27;,\n",
       "                                        ColumnTransformer(remainder=&#x27;passthrough&#x27;,\n",
       "                                                          transformers=[(&#x27;onehot&#x27;,\n",
       "                                                                         OneHotEncoder(drop=&#x27;first&#x27;),\n",
       "                                                                         [&#x27;Gear_Type&#x27;,\n",
       "                                                                          &#x27;Origin&#x27;]),\n",
       "                                                                        (&#x27;ordinal&#x27;,\n",
       "                                                                         OrdinalEncoder(cols=[&#x27;Options&#x27;],\n",
       "                                                                                        mapping=[{&#x27;col&#x27;: &#x27;Options&#x27;,\n",
       "                                                                                                  &#x27;mapping&#x27;: {&#x27;Full&#x27;: 3,\n",
       "                                                                                                              &#x27;Semi Full&#x27;: 2,\n",
       "                                                                                                              &#x27;Standard&#x27;: 1}}]),\n",
       "                                                                         [&#x27;Options&#x27;]),\n",
       "                                                                        (&#x27;binary&#x27;,\n",
       "                                                                         BinaryEncoder(),\n",
       "                                                                         [&#x27;Type&#x27;,\n",
       "                                                                          &#x27;Region&#x27;,\n",
       "                                                                          &#x27;Make&#x27;])])),\n",
       "                                       (&#x27;scaler&#x27;, RobustScaler()),\n",
       "                                       (&#x27;algo&#x27;,\n",
       "                                        RandomForestRegressor(random_state=1))]),\n",
       "             n_jobs=-1,\n",
       "             param_grid={&#x27;algo__max_depth&#x27;: range(45, 49),\n",
       "                         &#x27;algo__min_samples_leaf&#x27;: range(1, 4),\n",
       "                         &#x27;algo__min_samples_split&#x27;: range(4, 7, 2),\n",
       "                         &#x27;algo__n_estimators&#x27;: range(165, 171, 5),\n",
       "                         &#x27;scaler&#x27;: [RobustScaler()]},\n",
       "             scoring=&#x27;neg_mean_absolute_error&#x27;)</pre><b>In a Jupyter environment, please rerun this cell to show the HTML representation or trust the notebook. <br />On GitHub, the HTML representation is unable to render, please try loading this page with nbviewer.org.</b></div><div class=\"sk-container\" hidden><div class=\"sk-item sk-dashed-wrapped\"><div class=\"sk-label-container\"><div class=\"sk-label sk-toggleable\"><input class=\"sk-toggleable__control sk-hidden--visually\" id=\"sk-estimator-id-184\" type=\"checkbox\" ><label for=\"sk-estimator-id-184\" class=\"sk-toggleable__label sk-toggleable__label-arrow\">GridSearchCV</label><div class=\"sk-toggleable__content\"><pre>GridSearchCV(cv=5,\n",
       "             estimator=Pipeline(steps=[(&#x27;transformer&#x27;,\n",
       "                                        ColumnTransformer(remainder=&#x27;passthrough&#x27;,\n",
       "                                                          transformers=[(&#x27;onehot&#x27;,\n",
       "                                                                         OneHotEncoder(drop=&#x27;first&#x27;),\n",
       "                                                                         [&#x27;Gear_Type&#x27;,\n",
       "                                                                          &#x27;Origin&#x27;]),\n",
       "                                                                        (&#x27;ordinal&#x27;,\n",
       "                                                                         OrdinalEncoder(cols=[&#x27;Options&#x27;],\n",
       "                                                                                        mapping=[{&#x27;col&#x27;: &#x27;Options&#x27;,\n",
       "                                                                                                  &#x27;mapping&#x27;: {&#x27;Full&#x27;: 3,\n",
       "                                                                                                              &#x27;Semi Full&#x27;: 2,\n",
       "                                                                                                              &#x27;Standard&#x27;: 1}}]),\n",
       "                                                                         [&#x27;Options&#x27;]),\n",
       "                                                                        (&#x27;binary&#x27;,\n",
       "                                                                         BinaryEncoder(),\n",
       "                                                                         [&#x27;Type&#x27;,\n",
       "                                                                          &#x27;Region&#x27;,\n",
       "                                                                          &#x27;Make&#x27;])])),\n",
       "                                       (&#x27;scaler&#x27;, RobustScaler()),\n",
       "                                       (&#x27;algo&#x27;,\n",
       "                                        RandomForestRegressor(random_state=1))]),\n",
       "             n_jobs=-1,\n",
       "             param_grid={&#x27;algo__max_depth&#x27;: range(45, 49),\n",
       "                         &#x27;algo__min_samples_leaf&#x27;: range(1, 4),\n",
       "                         &#x27;algo__min_samples_split&#x27;: range(4, 7, 2),\n",
       "                         &#x27;algo__n_estimators&#x27;: range(165, 171, 5),\n",
       "                         &#x27;scaler&#x27;: [RobustScaler()]},\n",
       "             scoring=&#x27;neg_mean_absolute_error&#x27;)</pre></div></div></div><div class=\"sk-parallel\"><div class=\"sk-parallel-item\"><div class=\"sk-item\"><div class=\"sk-label-container\"><div class=\"sk-label sk-toggleable\"><input class=\"sk-toggleable__control sk-hidden--visually\" id=\"sk-estimator-id-185\" type=\"checkbox\" ><label for=\"sk-estimator-id-185\" class=\"sk-toggleable__label sk-toggleable__label-arrow\">estimator: Pipeline</label><div class=\"sk-toggleable__content\"><pre>Pipeline(steps=[(&#x27;transformer&#x27;,\n",
       "                 ColumnTransformer(remainder=&#x27;passthrough&#x27;,\n",
       "                                   transformers=[(&#x27;onehot&#x27;,\n",
       "                                                  OneHotEncoder(drop=&#x27;first&#x27;),\n",
       "                                                  [&#x27;Gear_Type&#x27;, &#x27;Origin&#x27;]),\n",
       "                                                 (&#x27;ordinal&#x27;,\n",
       "                                                  OrdinalEncoder(cols=[&#x27;Options&#x27;],\n",
       "                                                                 mapping=[{&#x27;col&#x27;: &#x27;Options&#x27;,\n",
       "                                                                           &#x27;mapping&#x27;: {&#x27;Full&#x27;: 3,\n",
       "                                                                                       &#x27;Semi Full&#x27;: 2,\n",
       "                                                                                       &#x27;Standard&#x27;: 1}}]),\n",
       "                                                  [&#x27;Options&#x27;]),\n",
       "                                                 (&#x27;binary&#x27;, BinaryEncoder(),\n",
       "                                                  [&#x27;Type&#x27;, &#x27;Region&#x27;,\n",
       "                                                   &#x27;Make&#x27;])])),\n",
       "                (&#x27;scaler&#x27;, RobustScaler()),\n",
       "                (&#x27;algo&#x27;, RandomForestRegressor(random_state=1))])</pre></div></div></div><div class=\"sk-serial\"><div class=\"sk-item\"><div class=\"sk-serial\"><div class=\"sk-item sk-dashed-wrapped\"><div class=\"sk-label-container\"><div class=\"sk-label sk-toggleable\"><input class=\"sk-toggleable__control sk-hidden--visually\" id=\"sk-estimator-id-186\" type=\"checkbox\" ><label for=\"sk-estimator-id-186\" class=\"sk-toggleable__label sk-toggleable__label-arrow\">transformer: ColumnTransformer</label><div class=\"sk-toggleable__content\"><pre>ColumnTransformer(remainder=&#x27;passthrough&#x27;,\n",
       "                  transformers=[(&#x27;onehot&#x27;, OneHotEncoder(drop=&#x27;first&#x27;),\n",
       "                                 [&#x27;Gear_Type&#x27;, &#x27;Origin&#x27;]),\n",
       "                                (&#x27;ordinal&#x27;,\n",
       "                                 OrdinalEncoder(cols=[&#x27;Options&#x27;],\n",
       "                                                mapping=[{&#x27;col&#x27;: &#x27;Options&#x27;,\n",
       "                                                          &#x27;mapping&#x27;: {&#x27;Full&#x27;: 3,\n",
       "                                                                      &#x27;Semi Full&#x27;: 2,\n",
       "                                                                      &#x27;Standard&#x27;: 1}}]),\n",
       "                                 [&#x27;Options&#x27;]),\n",
       "                                (&#x27;binary&#x27;, BinaryEncoder(),\n",
       "                                 [&#x27;Type&#x27;, &#x27;Region&#x27;, &#x27;Make&#x27;])])</pre></div></div></div><div class=\"sk-parallel\"><div class=\"sk-parallel-item\"><div class=\"sk-item\"><div class=\"sk-label-container\"><div class=\"sk-label sk-toggleable\"><input class=\"sk-toggleable__control sk-hidden--visually\" id=\"sk-estimator-id-187\" type=\"checkbox\" ><label for=\"sk-estimator-id-187\" class=\"sk-toggleable__label sk-toggleable__label-arrow\">onehot</label><div class=\"sk-toggleable__content\"><pre>[&#x27;Gear_Type&#x27;, &#x27;Origin&#x27;]</pre></div></div></div><div class=\"sk-serial\"><div class=\"sk-item\"><div class=\"sk-estimator sk-toggleable\"><input class=\"sk-toggleable__control sk-hidden--visually\" id=\"sk-estimator-id-188\" type=\"checkbox\" ><label for=\"sk-estimator-id-188\" class=\"sk-toggleable__label sk-toggleable__label-arrow\">OneHotEncoder</label><div class=\"sk-toggleable__content\"><pre>OneHotEncoder(drop=&#x27;first&#x27;)</pre></div></div></div></div></div></div><div class=\"sk-parallel-item\"><div class=\"sk-item\"><div class=\"sk-label-container\"><div class=\"sk-label sk-toggleable\"><input class=\"sk-toggleable__control sk-hidden--visually\" id=\"sk-estimator-id-189\" type=\"checkbox\" ><label for=\"sk-estimator-id-189\" class=\"sk-toggleable__label sk-toggleable__label-arrow\">ordinal</label><div class=\"sk-toggleable__content\"><pre>[&#x27;Options&#x27;]</pre></div></div></div><div class=\"sk-serial\"><div class=\"sk-item\"><div class=\"sk-estimator sk-toggleable\"><input class=\"sk-toggleable__control sk-hidden--visually\" id=\"sk-estimator-id-190\" type=\"checkbox\" ><label for=\"sk-estimator-id-190\" class=\"sk-toggleable__label sk-toggleable__label-arrow\">OrdinalEncoder</label><div class=\"sk-toggleable__content\"><pre>OrdinalEncoder(cols=[&#x27;Options&#x27;],\n",
       "               mapping=[{&#x27;col&#x27;: &#x27;Options&#x27;,\n",
       "                         &#x27;mapping&#x27;: {&#x27;Full&#x27;: 3, &#x27;Semi Full&#x27;: 2,\n",
       "                                     &#x27;Standard&#x27;: 1}}])</pre></div></div></div></div></div></div><div class=\"sk-parallel-item\"><div class=\"sk-item\"><div class=\"sk-label-container\"><div class=\"sk-label sk-toggleable\"><input class=\"sk-toggleable__control sk-hidden--visually\" id=\"sk-estimator-id-191\" type=\"checkbox\" ><label for=\"sk-estimator-id-191\" class=\"sk-toggleable__label sk-toggleable__label-arrow\">binary</label><div class=\"sk-toggleable__content\"><pre>[&#x27;Type&#x27;, &#x27;Region&#x27;, &#x27;Make&#x27;]</pre></div></div></div><div class=\"sk-serial\"><div class=\"sk-item\"><div class=\"sk-estimator sk-toggleable\"><input class=\"sk-toggleable__control sk-hidden--visually\" id=\"sk-estimator-id-192\" type=\"checkbox\" ><label for=\"sk-estimator-id-192\" class=\"sk-toggleable__label sk-toggleable__label-arrow\">BinaryEncoder</label><div class=\"sk-toggleable__content\"><pre>BinaryEncoder()</pre></div></div></div></div></div></div><div class=\"sk-parallel-item\"><div class=\"sk-item\"><div class=\"sk-label-container\"><div class=\"sk-label sk-toggleable\"><input class=\"sk-toggleable__control sk-hidden--visually\" id=\"sk-estimator-id-193\" type=\"checkbox\" ><label for=\"sk-estimator-id-193\" class=\"sk-toggleable__label sk-toggleable__label-arrow\">remainder</label><div class=\"sk-toggleable__content\"><pre></pre></div></div></div><div class=\"sk-serial\"><div class=\"sk-item\"><div class=\"sk-estimator sk-toggleable\"><input class=\"sk-toggleable__control sk-hidden--visually\" id=\"sk-estimator-id-194\" type=\"checkbox\" ><label for=\"sk-estimator-id-194\" class=\"sk-toggleable__label sk-toggleable__label-arrow\">passthrough</label><div class=\"sk-toggleable__content\"><pre>passthrough</pre></div></div></div></div></div></div></div></div><div class=\"sk-item\"><div class=\"sk-estimator sk-toggleable\"><input class=\"sk-toggleable__control sk-hidden--visually\" id=\"sk-estimator-id-195\" type=\"checkbox\" ><label for=\"sk-estimator-id-195\" class=\"sk-toggleable__label sk-toggleable__label-arrow\">RobustScaler</label><div class=\"sk-toggleable__content\"><pre>RobustScaler()</pre></div></div></div><div class=\"sk-item\"><div class=\"sk-estimator sk-toggleable\"><input class=\"sk-toggleable__control sk-hidden--visually\" id=\"sk-estimator-id-196\" type=\"checkbox\" ><label for=\"sk-estimator-id-196\" class=\"sk-toggleable__label sk-toggleable__label-arrow\">RandomForestRegressor</label><div class=\"sk-toggleable__content\"><pre>RandomForestRegressor(random_state=1)</pre></div></div></div></div></div></div></div></div></div></div></div></div>"
      ],
      "text/plain": [
       "GridSearchCV(cv=5,\n",
       "             estimator=Pipeline(steps=[('transformer',\n",
       "                                        ColumnTransformer(remainder='passthrough',\n",
       "                                                          transformers=[('onehot',\n",
       "                                                                         OneHotEncoder(drop='first'),\n",
       "                                                                         ['Gear_Type',\n",
       "                                                                          'Origin']),\n",
       "                                                                        ('ordinal',\n",
       "                                                                         OrdinalEncoder(cols=['Options'],\n",
       "                                                                                        mapping=[{'col': 'Options',\n",
       "                                                                                                  'mapping': {'Full': 3,\n",
       "                                                                                                              'Semi Full': 2,\n",
       "                                                                                                              'Standard': 1}}]),\n",
       "                                                                         ['Options']),\n",
       "                                                                        ('binary',\n",
       "                                                                         BinaryEncoder(),\n",
       "                                                                         ['Type',\n",
       "                                                                          'Region',\n",
       "                                                                          'Make'])])),\n",
       "                                       ('scaler', RobustScaler()),\n",
       "                                       ('algo',\n",
       "                                        RandomForestRegressor(random_state=1))]),\n",
       "             n_jobs=-1,\n",
       "             param_grid={'algo__max_depth': range(45, 49),\n",
       "                         'algo__min_samples_leaf': range(1, 4),\n",
       "                         'algo__min_samples_split': range(4, 7, 2),\n",
       "                         'algo__n_estimators': range(165, 171, 5),\n",
       "                         'scaler': [RobustScaler()]},\n",
       "             scoring='neg_mean_absolute_error')"
      ]
     },
     "execution_count": 320,
     "metadata": {},
     "output_type": "execute_result"
    }
   ],
   "source": [
    "grid_search_rf.fit(X_train, y_train)"
   ]
  },
  {
   "cell_type": "code",
   "execution_count": null,
   "metadata": {},
   "outputs": [
    {
     "data": {
      "text/plain": [
       "{'algo__max_depth': 45,\n",
       " 'algo__min_samples_leaf': 2,\n",
       " 'algo__min_samples_split': 4,\n",
       " 'algo__n_estimators': 165,\n",
       " 'scaler': RobustScaler()}"
      ]
     },
     "execution_count": 321,
     "metadata": {},
     "output_type": "execute_result"
    }
   ],
   "source": [
    "grid_search_rf.best_params_"
   ]
  },
  {
   "cell_type": "code",
   "execution_count": null,
   "metadata": {},
   "outputs": [
    {
     "data": {
      "text/plain": [
       "-15022.464980586305"
      ]
     },
     "execution_count": 322,
     "metadata": {},
     "output_type": "execute_result"
    }
   ],
   "source": [
    "grid_search_rf.best_score_"
   ]
  },
  {
   "cell_type": "markdown",
   "metadata": {},
   "source": [
    "### Predict to Test Set"
   ]
  },
  {
   "cell_type": "markdown",
   "metadata": {},
   "source": [
    "Melakukan prediksi pada test set dengan model KNN dan Random Forest dengan basic algoritma dan Hyperparameter yang terpilih untuk memperlihatkan perkembangan model"
   ]
  },
  {
   "cell_type": "markdown",
   "metadata": {},
   "source": [
    "#### K-Nearest Neighbor"
   ]
  },
  {
   "cell_type": "markdown",
   "metadata": {},
   "source": [
    "Basic"
   ]
  },
  {
   "cell_type": "code",
   "execution_count": null,
   "metadata": {},
   "outputs": [],
   "source": [
    "# Model Transform\n",
    "model_pipe_knn = Pipeline([\n",
    "    ('transformer', transformer),\n",
    "    ('scaler',robust),\n",
    "    ('algo',knn)\n",
    "])\n",
    "\n",
    "# Train Model\n",
    "model_pipe_knn.fit(X_train, y_train)\n",
    "\n",
    "# Predict to Test Set\n",
    "y_pred_basic_knn = model_pipe_knn.predict(X_test)\n",
    "\n",
    "# Find the metric score\n",
    "rmse_knn_basic = np.sqrt(mean_squared_error(y_test,y_pred_basic_knn))\n",
    "mae_knn_basic = mean_absolute_error(y_test,y_pred_basic_knn)\n",
    "mape_knn_basic = mean_absolute_percentage_error(y_test,y_pred_basic_knn)"
   ]
  },
  {
   "cell_type": "markdown",
   "metadata": {},
   "source": [
    "Tuned"
   ]
  },
  {
   "cell_type": "code",
   "execution_count": null,
   "metadata": {},
   "outputs": [],
   "source": [
    "# Define Best model KNN\n",
    "best_model_knn = grid_search_knn.best_estimator_\n",
    "\n",
    "# Train Model\n",
    "best_model_knn.fit(X_train, y_train)\n",
    "\n",
    "# Predict to Test Set\n",
    "y_pred_best_knn = best_model_knn.predict(X_test)\n",
    "\n",
    "# Find the metric score\n",
    "rmse_knn_best = np.sqrt(mean_squared_error(y_test,y_pred_best_knn))\n",
    "mae_knn_best = mean_absolute_error(y_test,y_pred_best_knn)\n",
    "mape_knn_best = mean_absolute_percentage_error(y_test,y_pred_best_knn)"
   ]
  },
  {
   "cell_type": "markdown",
   "metadata": {},
   "source": [
    "#### Random Forest"
   ]
  },
  {
   "cell_type": "markdown",
   "metadata": {},
   "source": [
    "Basic"
   ]
  },
  {
   "cell_type": "code",
   "execution_count": null,
   "metadata": {},
   "outputs": [],
   "source": [
    "# Model Transform\n",
    "model_pipe_rf = Pipeline([\n",
    "    ('transformer', transformer),\n",
    "    ('scaler',robust),\n",
    "    ('algo',rf)\n",
    "])\n",
    "\n",
    "# Train Model\n",
    "model_pipe_rf.fit(X_train, y_train)\n",
    "\n",
    "# Predict to Test Set\n",
    "y_pred_basic_rf = model_pipe_rf.predict(X_test)\n",
    "\n",
    "# Find the metric score\n",
    "rmse_rf_basic = np.sqrt(mean_squared_error(y_test,y_pred_basic_rf))\n",
    "mae_rf_basic = mean_absolute_error(y_test,y_pred_basic_rf)\n",
    "mape_rf_basic = mean_absolute_percentage_error(y_test,y_pred_basic_rf)"
   ]
  },
  {
   "cell_type": "markdown",
   "metadata": {},
   "source": [
    "Tuned"
   ]
  },
  {
   "cell_type": "code",
   "execution_count": null,
   "metadata": {},
   "outputs": [],
   "source": [
    "# Define Best model RF\n",
    "best_model_rf = grid_search_rf.best_estimator_\n",
    "\n",
    "# Train Model\n",
    "best_model_rf.fit(X_train, y_train)\n",
    "\n",
    "# Predict to Test Set\n",
    "y_pred_best_rf = best_model_rf.predict(X_test)\n",
    "\n",
    "# Find the metric score\n",
    "rmse_rf_best = np.sqrt(mean_squared_error(y_test,y_pred_best_rf))\n",
    "mae_rf_best = mean_absolute_error(y_test,y_pred_best_rf)\n",
    "mape_rf_best = mean_absolute_percentage_error(y_test,y_pred_best_rf)"
   ]
  },
  {
   "cell_type": "markdown",
   "metadata": {},
   "source": [
    "Hasil prediksi pada test set before vs after tuning"
   ]
  },
  {
   "cell_type": "code",
   "execution_count": null,
   "metadata": {},
   "outputs": [
    {
     "data": {
      "text/html": [
       "<div>\n",
       "<style scoped>\n",
       "    .dataframe tbody tr th:only-of-type {\n",
       "        vertical-align: middle;\n",
       "    }\n",
       "\n",
       "    .dataframe tbody tr th {\n",
       "        vertical-align: top;\n",
       "    }\n",
       "\n",
       "    .dataframe thead th {\n",
       "        text-align: right;\n",
       "    }\n",
       "</style>\n",
       "<table border=\"1\" class=\"dataframe\">\n",
       "  <thead>\n",
       "    <tr style=\"text-align: right;\">\n",
       "      <th></th>\n",
       "      <th>model</th>\n",
       "      <th>rmse</th>\n",
       "      <th>mae</th>\n",
       "      <th>mape</th>\n",
       "    </tr>\n",
       "  </thead>\n",
       "  <tbody>\n",
       "    <tr>\n",
       "      <th>0</th>\n",
       "      <td>knn basic</td>\n",
       "      <td>29465.497340</td>\n",
       "      <td>16742.580531</td>\n",
       "      <td>0.258017</td>\n",
       "    </tr>\n",
       "    <tr>\n",
       "      <th>1</th>\n",
       "      <td>knn best</td>\n",
       "      <td>28643.521049</td>\n",
       "      <td>15935.165660</td>\n",
       "      <td>0.244436</td>\n",
       "    </tr>\n",
       "    <tr>\n",
       "      <th>2</th>\n",
       "      <td>rf basic</td>\n",
       "      <td>25566.368953</td>\n",
       "      <td>14376.055688</td>\n",
       "      <td>0.209601</td>\n",
       "    </tr>\n",
       "    <tr>\n",
       "      <th>3</th>\n",
       "      <td>rf best</td>\n",
       "      <td>25519.249609</td>\n",
       "      <td>14322.650561</td>\n",
       "      <td>0.208964</td>\n",
       "    </tr>\n",
       "  </tbody>\n",
       "</table>\n",
       "</div>"
      ],
      "text/plain": [
       "       model          rmse           mae      mape\n",
       "0  knn basic  29465.497340  16742.580531  0.258017\n",
       "1   knn best  28643.521049  15935.165660  0.244436\n",
       "2   rf basic  25566.368953  14376.055688  0.209601\n",
       "3    rf best  25519.249609  14322.650561  0.208964"
      ]
     },
     "execution_count": 327,
     "metadata": {},
     "output_type": "execute_result"
    }
   ],
   "source": [
    "# memperlihatkan tabel rmse, mae dan mape setiap model\n",
    "pd.DataFrame({\n",
    "    'model' : ['knn basic','knn best','rf basic', 'rf best'],\n",
    "    'rmse' : [rmse_knn_basic,rmse_knn_best,rmse_rf_basic,rmse_rf_best],\n",
    "    'mae' : [mae_knn_basic,mae_knn_best,mae_rf_basic,mae_rf_best],\n",
    "    'mape' : [mape_knn_basic,mape_knn_best,mape_rf_basic,mape_rf_best]\n",
    "})"
   ]
  },
  {
   "cell_type": "markdown",
   "metadata": {},
   "source": [
    "Model KNN dan RF memiliki peningkatan performa setelah melakukan Hyperparameter Tuning pada nilai RMSE, MAE dan MAPE. Hanya saja untuk model RF, tidak begitu terlihat peningkatan pada model dikarenakan penurunan yang tidak begitu signifikan setelah dilakukan Hyperparameter Tuning. Meski dengan menggunakan model basic (default setting), model Random Forest terlihat sudah lebih baik dibandingkan dengan KNN. Oleh karena itu, Kita akan menggunakan model Random Forest sebagai model Akhir."
   ]
  },
  {
   "cell_type": "markdown",
   "metadata": {},
   "source": [
    "##### Residual Error"
   ]
  },
  {
   "cell_type": "code",
   "execution_count": null,
   "metadata": {},
   "outputs": [
    {
     "data": {
      "image/png": "[encoded data removed]",
      "text/plain": [
       "<Figure size 864x360 with 2 Axes>"
      ]
     },
     "metadata": {
      "needs_background": "light"
     },
     "output_type": "display_data"
    }
   ],
   "source": [
    "plt.figure(figsize=(12,5))\n",
    "\n",
    "# Plot untuk actual vs prediction\n",
    "plt.subplot(1,2,1)\n",
    "sns.scatterplot(x=y_test, y=y_pred_best_rf)\n",
    "plt.title('Actual vs Prediction')\n",
    "plt.xlabel('Actual Price')\n",
    "plt.ylabel('Prediction Price')\n",
    "\n",
    "# plot untuk error residual\n",
    "plt.subplot(1,2,2)\n",
    "sns.scatterplot(x=y_test, y=(y_test-y_pred_best_rf))\n",
    "sns.lineplot(x=y_test, y=0, color='red')\n",
    "plt.title('Residual Plot')\n",
    "plt.xlabel('Actual Price')\n",
    "plt.ylabel('Price Difference')\n",
    "\n",
    "plt.tight_layout()\n",
    "plt.show()"
   ]
  },
  {
   "cell_type": "markdown",
   "metadata": {},
   "source": [
    "adanya nilai error yang tinggi membuat nilai RMSE dan MAE berbeda cukup signifikan. dapat dilihat pula pada Error Residual, adanya overestimation dan juga underestimation. Akan tetapi, nilai MAPE yang didapat adalah sekitar 20.8%, sehingga model ini masuk ke kategori 'Reasonable Forecasting'(Lewis, 1982).\n",
    "\n",
    "*Source: Lewis, C.D. (1982). Industrial and business forecasting methods: A practical guide to exponential smoothing and curve fitting*"
   ]
  },
  {
   "cell_type": "markdown",
   "metadata": {},
   "source": [
    "### Feature Importances\n",
    "\n",
    "Untuk mengetahui fitur apa saja yang mempengaruhi target, kita dapat mengeceknya."
   ]
  },
  {
   "cell_type": "code",
   "execution_count": null,
   "metadata": {},
   "outputs": [
    {
     "name": "stderr",
     "output_type": "stream",
     "text": [
      "c:\\Users\\aaron\\AppData\\Local\\Programs\\Python\\Python310\\lib\\site-packages\\sklearn\\utils\\deprecation.py:87: FutureWarning: Function get_feature_names is deprecated; get_feature_names is deprecated in 1.0 and will be removed in 1.2. Please use get_feature_names_out instead.\n",
      "  warnings.warn(msg, category=FutureWarning)\n"
     ]
    },
    {
     "data": {
      "image/png": "[encoded data removed]",
      "text/plain": [
       "<Figure size 432x288 with 1 Axes>"
      ]
     },
     "metadata": {
      "needs_background": "light"
     },
     "output_type": "display_data"
    }
   ],
   "source": [
    "# fitur-fitur yang mempengaruhi harga mobil\n",
    "feature_imp = pd.Series(best_model_rf[2].feature_importances_,transformer.get_feature_names()).sort_values(ascending=False).head()\n",
    "feature_imp.plot(kind='barh', title='Feature Importances')\n",
    "plt.show()"
   ]
  },
  {
   "cell_type": "markdown",
   "metadata": {},
   "source": [
    "# Conclusion"
   ]
  },
  {
   "cell_type": "markdown",
   "metadata": {},
   "source": [
    "Berdasarkan pemodelan yang sudah dilakukanm fitur `Year` dan `Engine_Size` menjadi fitur yang paling penting terhadap `Price`.\n",
    "\n",
    "Metrik evaluasi yang digunakan adalah RMSE, MAE & MAPE. Jika ditinjau dari nilai MAPE yang dihasilkan model, yaitu sebesar 20.89%, kita dapat menyimpulan bahwa model yang kita buat ini mampu memperkirakan harga mobil dengan rata-rata error sebesar 20.89% dari harga yang mungkin seharusnya. \n",
    "\n",
    "Model yang dibuat hanya mampu meprediksi harga mobil dengan performa seperti di atas jika mobil memiliki feature:\n",
    "- `Year` : 2003 - 2020\n",
    "- `Mileage` : 0 - 433.000\n",
    "- `Engine_Size` : 1 - 6\n",
    "- `Price` : 10.000 - 400.000"
   ]
  },
  {
   "cell_type": "markdown",
   "metadata": {},
   "source": [
    "# Recommendation"
   ]
  },
  {
   "cell_type": "markdown",
   "metadata": {},
   "source": [
    "Hal-hal yang dapat dilakukan untuk pengembangan model agar lebih baik lagi\n",
    "\n",
    "1. Menambah data-data untuk mobil-mobil langka/antik agar tidak dikelompokkan menjadi 1, sehingga model machine learning bisa mempelajari tipe-tipe yang serupa/mendekati mobil tersebut\n",
    "\n",
    "2. mengecek prediksi yang memiliki error tinggi secara manual, sehingga kita bisa melakukan pengecekan variable apa saja yang membuat error tinggi\n",
    "\n",
    "3. penambahan fitur yang memiliki korelasi terhadap target, seperti kerusakan yang pernah dialami atau deskripsi kerusakan saat mobil dijual\n",
    "\n",
    "4. diharapkan untuk menulis tipe mobil yang lengkap untuk model lebih bisa mempelajari tipe-tipe mobil. Contoh kasus, Volkswagen Type Van, tidak ditulis lengkap tipe Van yang dimaksud penjual"
   ]
  }
 ],
 "metadata": {
  "kernelspec": {
   "display_name": "Python 3.10.5 64-bit",
   "language": "python",
   "name": "python3"
  },
  "language_info": {
   "codemirror_mode": {
    "name": "ipython",
    "version": 3
   },
   "file_extension": ".py",
   "mimetype": "text/x-python",
   "name": "python",
   "nbconvert_exporter": "python",
   "pygments_lexer": "ipython3",
   "version": "3.10.5"
  },
  "orig_nbformat": 4,
  "vscode": {
   "interpreter": {
    "hash": "0cc95108adb0eef77222e4285ccd064197a982c043357c28a8f9770fc5b3cfd4"
   }
  }
 },
 "nbformat": 4,
 "nbformat_minor": 2
}
