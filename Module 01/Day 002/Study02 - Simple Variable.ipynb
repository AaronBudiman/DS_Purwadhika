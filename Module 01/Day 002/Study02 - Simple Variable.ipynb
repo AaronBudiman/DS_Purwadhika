{
 "cells": [
  {
   "cell_type": "code",
   "execution_count": 9,
   "metadata": {},
   "outputs": [],
   "source": [
    "nama = \"Achmad\"\n",
    "usia = 25\n",
    "menikah = False"
   ]
  },
  {
   "cell_type": "code",
   "execution_count": 13,
   "metadata": {},
   "outputs": [
    {
     "name": "stdout",
     "output_type": "stream",
     "text": [
      "Achmad 25\n"
     ]
    }
   ],
   "source": [
    "print(nama, usia)"
   ]
  }
 ],
 "metadata": {
  "kernelspec": {
   "display_name": "Python 3.10.5 64-bit",
   "language": "python",
   "name": "python3"
  },
  "language_info": {
   "codemirror_mode": {
    "name": "ipython",
    "version": 3
   },
   "file_extension": ".py",
   "mimetype": "text/x-python",
   "name": "python",
   "nbconvert_exporter": "python",
   "pygments_lexer": "ipython3",
   "version": "3.10.5"
  },
  "orig_nbformat": 4,
  "vscode": {
   "interpreter": {
    "hash": "0cc95108adb0eef77222e4285ccd064197a982c043357c28a8f9770fc5b3cfd4"
   }
  }
 },
 "nbformat": 4,
 "nbformat_minor": 2
}
