{
 "cells": [
  {
   "cell_type": "markdown",
   "metadata": {},
   "source": [
    "Soal 1"
   ]
  },
  {
   "cell_type": "code",
   "execution_count": 2,
   "metadata": {},
   "outputs": [
    {
     "name": "stdout",
     "output_type": "stream",
     "text": [
      "0.6944444444444445\n"
     ]
    }
   ],
   "source": [
    "x = 4\n",
    "y = 3\n",
    "z = 2\n",
    "w = (((x+y*z)/(x*y))**z)\n",
    "print(w)"
   ]
  },
  {
   "cell_type": "code",
   "execution_count": 32,
   "metadata": {},
   "outputs": [
    {
     "name": "stdout",
     "output_type": "stream",
     "text": [
      "0.6944444444444445\n"
     ]
    }
   ],
   "source": [
    "x = int(input('Masukan Angka:'))\n",
    "y = int(input('Masukan Angka:'))\n",
    "z = int(input('Masukan Angka:'))\n",
    "w = (((x+y*z)/(x*y))**z)\n",
    "print(w)"
   ]
  },
  {
   "cell_type": "markdown",
   "metadata": {},
   "source": [
    "Soal 2"
   ]
  },
  {
   "cell_type": "code",
   "execution_count": 24,
   "metadata": {},
   "outputs": [
    {
     "name": "stdout",
     "output_type": "stream",
     "text": [
      "Kuadrat dari 5 =  25\n"
     ]
    }
   ],
   "source": [
    "angka = (input('Masukan Angka:'))\n",
    "angka_int = int(angka)\n",
    "print('Kuadrat dari '+ angka + ' = ', angka_int**2)"
   ]
  },
  {
   "cell_type": "markdown",
   "metadata": {},
   "source": [
    "Soal 3"
   ]
  },
  {
   "cell_type": "code",
   "execution_count": 19,
   "metadata": {},
   "outputs": [
    {
     "name": "stdout",
     "output_type": "stream",
     "text": [
      "465 Hari = 1 Tahun, 3 Bulan, 2 Minggu, 1 Hari\n"
     ]
    }
   ],
   "source": [
    "jumlahHari = int(input('Jumlah Hari : '))\n",
    "\n",
    "#menentukan Tahun\n",
    "tahun = jumlahHari // 360\n",
    "\n",
    "#sisa hari yang tersisa setelah penghitungan tahun\n",
    "sisaHariBulan = jumlahHari % 360\n",
    "bulan = sisaHariBulan // 30\n",
    "\n",
    "#sisa hari yang tersisa setelah penghitungan bulan\n",
    "sisaHariMinggu = sisaHariBulan % 30\n",
    "minggu = sisaHariMinggu // 7\n",
    "\n",
    "#sisah hari yang tersisa setelah penghitungan minggu\n",
    "sisaHari = sisaHariMinggu % 7\n",
    "\n",
    "print (str(jumlahHari) + ' Hari = ' + '{} Tahun'.format(tahun) + ', {} Bulan'.format(bulan) + ', {} Minggu'.format(minggu) + ', {} Hari'.format(sisaHari))"
   ]
  },
  {
   "cell_type": "markdown",
   "metadata": {},
   "source": [
    "Soal 4"
   ]
  },
  {
   "cell_type": "code",
   "execution_count": 23,
   "metadata": {},
   "outputs": [
    {
     "name": "stdout",
     "output_type": "stream",
     "text": [
      "Usia Andi & Budi 2 Tahun Lagi\n",
      "Usia Andi :  16.0\n",
      "Usia Budi :  37.0\n"
     ]
    }
   ],
   "source": [
    "ratioA = 2\n",
    "ratioB = 5\n",
    "totalRatio = ratioA + ratioB\n",
    "totalAndiBudi = 49\n",
    "\n",
    "usiaAndi = totalAndiBudi*(ratioA/totalRatio)\n",
    "usiaBudi = totalAndiBudi*(ratioB/totalRatio)\n",
    "print('Usia Andi & Budi 2 Tahun Lagi')\n",
    "print(\"Usia Andi : \", usiaAndi+2)\n",
    "print(\"Usia Budi : \", usiaBudi+2)"
   ]
  },
  {
   "cell_type": "markdown",
   "metadata": {},
   "source": [
    "Soal 5"
   ]
  },
  {
   "cell_type": "code",
   "execution_count": 31,
   "metadata": {},
   "outputs": [
    {
     "name": "stdout",
     "output_type": "stream",
     "text": [
      "1.2 Jam\n",
      "A & B ketabrak saat Jam 10 Menit 12.0\n"
     ]
    }
   ],
   "source": [
    "waktu = 120/100\n",
    "print(waktu, \"Jam\")\n",
    "print(\"A & B ketabrak saat Jam\", 9+1,\"Menit\",(0.2*60))"
   ]
  },
  {
   "cell_type": "markdown",
   "metadata": {},
   "source": [
    "Soal 6"
   ]
  },
  {
   "cell_type": "code",
   "execution_count": 36,
   "metadata": {},
   "outputs": [
    {
     "name": "stdout",
     "output_type": "stream",
     "text": [
      "Detail Belanja\n",
      "Apel :  2  X  10000  =  20000\n",
      "Jeruk :  3  X  15000  =  45000\n",
      "Anggur :  5  X  20000  =  100000\n",
      "Total :  165000\n"
     ]
    }
   ],
   "source": [
    "aplePrice = 10000\n",
    "jerukPrice = 15000\n",
    "anggurPrice = 20000\n",
    "\n",
    "jumlahApel = int(input('Apel :'))\n",
    "jumlahJeruk = int(input('Jeruk :'))\n",
    "jumlahAnggur = int(input('Anggur :'))\n",
    "\n",
    "totalApel = jumlahApel*aplePrice\n",
    "totalJeruk = jumlahJeruk*jerukPrice\n",
    "totalAnggur = jumlahAnggur*anggurPrice\n",
    "print(\"Detail Belanja\")\n",
    "\n",
    "print(\"Apel : \", jumlahApel , ' X ', aplePrice , ' = ', totalApel)\n",
    "print(\"Jeruk : \", jumlahJeruk , ' X ', jerukPrice , ' = ', totalJeruk)\n",
    "print(\"Anggur : \", jumlahAnggur , ' X ', anggurPrice , ' = ', totalAnggur)\n",
    "\n",
    "print('Total : ', totalApel+totalJeruk+totalAnggur)"
   ]
  }
 ],
 "metadata": {
  "kernelspec": {
   "display_name": "Python 3.10.5 64-bit",
   "language": "python",
   "name": "python3"
  },
  "language_info": {
   "codemirror_mode": {
    "name": "ipython",
    "version": 3
   },
   "file_extension": ".py",
   "mimetype": "text/x-python",
   "name": "python",
   "nbconvert_exporter": "python",
   "pygments_lexer": "ipython3",
   "version": "3.10.5"
  },
  "orig_nbformat": 4,
  "vscode": {
   "interpreter": {
    "hash": "0cc95108adb0eef77222e4285ccd064197a982c043357c28a8f9770fc5b3cfd4"
   }
  }
 },
 "nbformat": 4,
 "nbformat_minor": 2
}
