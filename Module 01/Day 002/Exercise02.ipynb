{
 "cells": [
  {
   "cell_type": "markdown",
   "metadata": {},
   "source": [
    "Soal 1"
   ]
  },
  {
   "cell_type": "code",
   "execution_count": 15,
   "metadata": {},
   "outputs": [
    {
     "name": "stdout",
     "output_type": "stream",
     "text": [
      "Cicak Cicak di Dinding\n",
      "    Diam Diam Merayap\n",
      "        Datang Seekor Nyamuk\n",
      "            Hap Hap Hap\n",
      "Lalu Ditangkap\n",
      "    YEAY!\n",
      "\n"
     ]
    }
   ],
   "source": [
    "lagu = '''Cicak Cicak di Dinding\n",
    "    Diam Diam Merayap\n",
    "        Datang Seekor Nyamuk\n",
    "            Hap Hap Hap\n",
    "Lalu Ditangkap\n",
    "    YEAY!\n",
    "'''\n",
    "print(lagu)"
   ]
  },
  {
   "cell_type": "markdown",
   "metadata": {},
   "source": [
    "Soal 2"
   ]
  },
  {
   "cell_type": "code",
   "execution_count": 17,
   "metadata": {},
   "outputs": [
    {
     "name": "stdout",
     "output_type": "stream",
     "text": [
      "Nilai Jari-Jari Lingkaran :  7.0\n",
      "Lingkaran Tersebut Memiliki Jari-Jari  7.0 cm dan Diameter 14.0 cm\n",
      "Luas Lingkaran 153.93804002589985 cm^2\n",
      "Keliling Lingkaran 43.982297150257104 cm\n",
      "Luas Setengah Lingkaran 76.96902001294993 cm^2\n",
      "Keliling Setengah Lingkaran 21.991148575128552 cm\n"
     ]
    }
   ],
   "source": [
    "import math as m\n",
    "jari = float(input('Masukan Jari-Jari Lingkaran:'))\n",
    "print('Nilai Jari-Jari Lingkaran : ',jari)\n",
    "print('Lingkaran Tersebut Memiliki Jari-Jari ',jari,'cm dan Diameter', jari*2,'cm')\n",
    "luasLingkaran = m.pi*jari**2\n",
    "kelilingLingkaran = 2*m.pi*jari\n",
    "luasSetengahLingkaran = luasLingkaran/2\n",
    "kelilingSetengahLingkaran = kelilingLingkaran/2\n",
    "print('Luas Lingkaran',luasLingkaran,'cm^2')\n",
    "print('Keliling Lingkaran',kelilingLingkaran,'cm')\n",
    "print('Luas Setengah Lingkaran',luasSetengahLingkaran,'cm^2')\n",
    "print('Keliling Setengah Lingkaran',kelilingSetengahLingkaran,'cm')"
   ]
  },
  {
   "cell_type": "markdown",
   "metadata": {},
   "source": [
    "Soal 3"
   ]
  },
  {
   "cell_type": "code",
   "execution_count": 42,
   "metadata": {},
   "outputs": [
    {
     "name": "stdout",
     "output_type": "stream",
     "text": [
      "Masukan Sebuah Kalimat :Cbkdjdh CCccC\n",
      "Masukan Karakter Pengganti :*\n",
      "Cbkdjdh *****\n"
     ]
    }
   ],
   "source": [
    "text = input('kata')\n",
    "print('Masukan Sebuah Kalimat :' + text)\n",
    "#ubah jadi lowercase klo misal input kata2nya \"Saya adalah manusia biasa\", maka akan mengubah S menjadi s\n",
    "textLower = text.lower()\n",
    "kataGanti = input('kata')\n",
    "print('Masukan Karakter Pengganti :' + kataGanti)\n",
    "textUbah = textLower[1:].replace(textLower[0],kataGanti)\n",
    "print(text[0]+textUbah)\n"
   ]
  },
  {
   "cell_type": "markdown",
   "metadata": {},
   "source": [
    "Soal 4"
   ]
  },
  {
   "cell_type": "code",
   "execution_count": 51,
   "metadata": {},
   "outputs": [
    {
     "name": "stdout",
     "output_type": "stream",
     "text": [
      "Input Kata 1:  apel\n",
      "Input Kata 2:  kucing\n",
      "kuel apcing\n"
     ]
    }
   ],
   "source": [
    "kata1 = input('kata')\n",
    "print('Input Kata 1: ',kata1)\n",
    "kata2 = input('kata')\n",
    "print('Input Kata 2: ',kata2)\n",
    "kataSwap1 = kata1.replace(kata1[:2],kata2[:2])\n",
    "kataSwap2 = kata2.replace(kata2[:2],kata1[:2])\n",
    "print(kataSwap1,kataSwap2)"
   ]
  },
  {
   "cell_type": "markdown",
   "metadata": {},
   "source": [
    "Soal 5"
   ]
  },
  {
   "cell_type": "code",
   "execution_count": 36,
   "metadata": {},
   "outputs": [
    {
     "name": "stdout",
     "output_type": "stream",
     "text": [
      "Nilai Jari-Jari Silinder :  24.5\n",
      "Masukan Tinggi Silinder : 100.0\n",
      "Luas Silinder 19165.28598322453\n",
      "Volume Silinder 188574.09903172732\n"
     ]
    }
   ],
   "source": [
    "import math as m\n",
    "tinggiSilinder = float(input('Masukan Tinggi Silinder:'))\n",
    "jariSilinder = float(input('Masukan Jari-Jari Silinder:'))\n",
    "print('Nilai Jari-Jari Silinder : ',jariSilinder)\n",
    "print('Masukan Tinggi Silinder :',tinggiSilinder)\n",
    "volumeSilinder = m.pi*jariSilinder**2*tinggiSilinder\n",
    "luasSilinder = 2*m.pi*jariSilinder**2 + 2*m.pi*jariSilinder*tinggiSilinder\n",
    "print('Luas Silinder',luasSilinder)\n",
    "print('Volume Silinder',volumeSilinder)\n"
   ]
  }
 ],
 "metadata": {
  "kernelspec": {
   "display_name": "Python 3.10.5 64-bit",
   "language": "python",
   "name": "python3"
  },
  "language_info": {
   "codemirror_mode": {
    "name": "ipython",
    "version": 3
   },
   "file_extension": ".py",
   "mimetype": "text/x-python",
   "name": "python",
   "nbconvert_exporter": "python",
   "pygments_lexer": "ipython3",
   "version": "3.10.5"
  },
  "orig_nbformat": 4,
  "vscode": {
   "interpreter": {
    "hash": "0cc95108adb0eef77222e4285ccd064197a982c043357c28a8f9770fc5b3cfd4"
   }
  }
 },
 "nbformat": 4,
 "nbformat_minor": 2
}
