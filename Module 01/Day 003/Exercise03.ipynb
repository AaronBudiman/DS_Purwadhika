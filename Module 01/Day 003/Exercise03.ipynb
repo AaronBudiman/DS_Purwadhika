{
 "cells": [
  {
   "cell_type": "markdown",
   "metadata": {},
   "source": [
    "Soal 1"
   ]
  },
  {
   "cell_type": "code",
   "execution_count": 18,
   "metadata": {},
   "outputs": [
    {
     "name": "stdout",
     "output_type": "stream",
     "text": [
      "0 Bukanlah Ganjil atau Genap\n"
     ]
    }
   ],
   "source": [
    "angka = float(input(\"Masukan Angka\"))\n",
    "if angka < 0 :\n",
    "    print(\"Silahkan Masukan Angka Positif\")\n",
    "elif angka == 0 :\n",
    "    print(\"0 Bukanlah Ganjil atau Genap\")\n",
    "elif angka % 2 == 0 :\n",
    "    print(angka,\"Adalah Genap\")\n",
    "else :\n",
    "    print(angka,\"Adalah Ganjil\")"
   ]
  },
  {
   "cell_type": "markdown",
   "metadata": {},
   "source": [
    "Soal 2"
   ]
  },
  {
   "cell_type": "code",
   "execution_count": 24,
   "metadata": {},
   "outputs": [
    {
     "name": "stdout",
     "output_type": "stream",
     "text": [
      "Massa 40 kg dan tinggi 1.9 m\n",
      "IMT = 11.0803324099723, Kekurursan bang\n"
     ]
    }
   ],
   "source": [
    "massa = int(input(\"Masukan Berat Badan\"))\n",
    "tinggi = int(input(\"Masukan Tinggi Kamu\"))\n",
    "imt = massa / ((tinggi/100)**2)\n",
    "print(f'Massa {massa} kg dan tinggi {tinggi/100} m')\n",
    "if imt < 18.5 :\n",
    "    print(f'IMT = {imt}, Kekurursan bang')\n",
    "elif imt >= 18.5 and imt <= 24.9 :\n",
    "    print(f'IMT = {imt} ,MANTAP')\n",
    "elif imt >= 25 and imt <= 29.9 :\n",
    "    print(f'IMT = {imt} ,BERAT')\n",
    "elif imt >= 30 and imt <= 39.9 :\n",
    "    print(f'IMT = {imt} ,BERAT BANGET')\n",
    "else :\n",
    "    print(f'IMT = {imt} ,BERAT BANGETTTTTTTTTTTT')"
   ]
  },
  {
   "cell_type": "markdown",
   "metadata": {},
   "source": [
    "Soal 3"
   ]
  },
  {
   "cell_type": "code",
   "execution_count": 35,
   "metadata": {},
   "outputs": [
    {
     "name": "stdout",
     "output_type": "stream",
     "text": [
      "Detail Belanja\n",
      "Apel :  2  X  10000  =  20000\n",
      "Jeruk :  2  X  15000  =  30000\n",
      "Anggur :  2  X  20000  =  40000\n",
      "Total :  90000\n",
      "Masukan Jumlah Uang : 85000\n",
      "Transaksi Anda Dibatalkan\n",
      "Uang Anda Kurang Sebesar : 5000\n"
     ]
    }
   ],
   "source": [
    "aplePrice = 10000\n",
    "jerukPrice = 15000\n",
    "anggurPrice = 20000\n",
    "\n",
    "jumlahApel = int(input('Apel :'))\n",
    "jumlahJeruk = int(input('Jeruk :'))\n",
    "jumlahAnggur = int(input('Anggur :'))\n",
    "\n",
    "totalApel = jumlahApel*aplePrice\n",
    "totalJeruk = jumlahJeruk*jerukPrice\n",
    "totalAnggur = jumlahAnggur*anggurPrice\n",
    "print(\"Detail Belanja\")\n",
    "\n",
    "print(\"Apel : \", jumlahApel , ' X ', aplePrice , ' = ', totalApel)\n",
    "print(\"Jeruk : \", jumlahJeruk , ' X ', jerukPrice , ' = ', totalJeruk)\n",
    "print(\"Anggur : \", jumlahAnggur , ' X ', anggurPrice , ' = ', totalAnggur)\n",
    "\n",
    "totalBelanja = totalApel+totalJeruk+totalAnggur\n",
    "print('Total : ', totalBelanja)\n",
    "\n",
    "uangMasuk = int(input(\"Angka\"))\n",
    "print(f'Masukan Jumlah Uang : {uangMasuk}')\n",
    "\n",
    "if totalBelanja > uangMasuk :\n",
    "    print(\"Transaksi Anda Dibatalkan\")\n",
    "    print(f\"Uang Anda Kurang Sebesar : {totalBelanja-uangMasuk}\")\n",
    "elif totalBelanja < uangMasuk:\n",
    "    print('Terima Kasih')\n",
    "    print(f'Uang Kembali Anda : {uangMasuk-totalBelanja}')\n",
    "else :\n",
    "    print('Terima Kasih')\n"
   ]
  }
 ],
 "metadata": {
  "kernelspec": {
   "display_name": "Python 3.10.5 64-bit",
   "language": "python",
   "name": "python3"
  },
  "language_info": {
   "codemirror_mode": {
    "name": "ipython",
    "version": 3
   },
   "file_extension": ".py",
   "mimetype": "text/x-python",
   "name": "python",
   "nbconvert_exporter": "python",
   "pygments_lexer": "ipython3",
   "version": "3.10.5"
  },
  "orig_nbformat": 4,
  "vscode": {
   "interpreter": {
    "hash": "0cc95108adb0eef77222e4285ccd064197a982c043357c28a8f9770fc5b3cfd4"
   }
  }
 },
 "nbformat": 4,
 "nbformat_minor": 2
}
