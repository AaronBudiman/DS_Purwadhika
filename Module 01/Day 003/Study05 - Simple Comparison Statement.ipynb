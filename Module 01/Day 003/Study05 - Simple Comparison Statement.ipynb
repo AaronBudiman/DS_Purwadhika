{
 "cells": [
  {
   "cell_type": "markdown",
   "metadata": {},
   "source": [
    "Comparison Operator"
   ]
  },
  {
   "cell_type": "code",
   "execution_count": 9,
   "metadata": {},
   "outputs": [
    {
     "name": "stdout",
     "output_type": "stream",
     "text": [
      "True\n",
      "True\n",
      "False\n",
      "False\n",
      "True\n",
      "True\n"
     ]
    }
   ],
   "source": [
    "print(5<10)\n",
    "# arti dari != adalah \"not equal\"\n",
    "print(5!=10)\n",
    "print(5==10)\n",
    "print(\"Achamd\" == \"achamd\")\n",
    "print(\"Achamd\" == \"Achamd\")\n",
    "print(\"A\" in \"Achamd\")"
   ]
  },
  {
   "cell_type": "markdown",
   "metadata": {},
   "source": [
    "Logical Operator"
   ]
  },
  {
   "cell_type": "code",
   "execution_count": 12,
   "metadata": {},
   "outputs": [
    {
     "name": "stdout",
     "output_type": "stream",
     "text": [
      "4.0\n",
      "0\n",
      "6\n",
      "True\n"
     ]
    }
   ],
   "source": [
    "a = 12/3\n",
    "b = 15%3\n",
    "c = 20//3\n",
    "print(a)\n",
    "print(b)\n",
    "print(c)\n",
    "print(a<c or b<a)"
   ]
  },
  {
   "cell_type": "markdown",
   "metadata": {},
   "source": [
    "Conditional Statement"
   ]
  },
  {
   "cell_type": "code",
   "execution_count": 19,
   "metadata": {},
   "outputs": [
    {
     "name": "stdout",
     "output_type": "stream",
     "text": [
      "Anda Belum Cukup Umur, Silahkan Naikan Umur Anda\n"
     ]
    }
   ],
   "source": [
    "usia = int(input(\"Masukan Usia Anda: \"))\n",
    "\n",
    "if usia >= 17 :\n",
    "    print(\"Anda Kena Prank\")\n",
    "else : \n",
    "    print(\"Anda Belum Cukup Umur, Silahkan Naikan Umur Anda\")"
   ]
  }
 ],
 "metadata": {
  "kernelspec": {
   "display_name": "Python 3.10.5 64-bit",
   "language": "python",
   "name": "python3"
  },
  "language_info": {
   "codemirror_mode": {
    "name": "ipython",
    "version": 3
   },
   "file_extension": ".py",
   "mimetype": "text/x-python",
   "name": "python",
   "nbconvert_exporter": "python",
   "pygments_lexer": "ipython3",
   "version": "3.10.5"
  },
  "orig_nbformat": 4,
  "vscode": {
   "interpreter": {
    "hash": "0cc95108adb0eef77222e4285ccd064197a982c043357c28a8f9770fc5b3cfd4"
   }
  }
 },
 "nbformat": 4,
 "nbformat_minor": 2
}
