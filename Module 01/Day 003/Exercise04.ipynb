{
 "cells": [
  {
   "cell_type": "markdown",
   "metadata": {},
   "source": [
    "Soal 2"
   ]
  },
  {
   "cell_type": "code",
   "execution_count": 16,
   "metadata": {},
   "outputs": [
    {
     "name": "stdout",
     "output_type": "stream",
     "text": [
      "Menu Menghitung Rumus Luas Segitiga dan Persegi\n",
      "Masukan Angka 1 Untuk Menghitung Luas Segitiga\n",
      "Masukan Angka 2 Untuk Menghitung Luas Persegi\n",
      "Pilihan Menu 4\n",
      "Masukan Input yang Benar\n",
      "Pilihan Menu 6\n",
      "Masukan Input yang Benar\n",
      "Pilihan Menu 1\n",
      "Tinggi Segitiga 12\n",
      "Alas Segitiga 12\n",
      "Luas Segitiga Adalah 72.0\n"
     ]
    }
   ],
   "source": [
    "print('''Menu Menghitung Rumus Luas Segitiga dan Persegi\n",
    "Masukan Angka 1 Untuk Menghitung Luas Segitiga\n",
    "Masukan Angka 2 Untuk Menghitung Luas Persegi''')\n",
    "x=int(input('Menu Yang Dinginkan'))\n",
    "\n",
    "while x > 0 :\n",
    "    print(f'Pilihan Menu {x}')\n",
    "    if x == 1 :\n",
    "        tinggiSegitiga=int(input(\"Tinggi Segitiga\"))\n",
    "        alasSegitiga=int(input(\"Alas Segitiga\"))\n",
    "        print(f'Tinggi Segitiga {tinggiSegitiga}')\n",
    "        print(f'Alas Segitiga {alasSegitiga}')\n",
    "        luasSegitiga = (1/2) * alasSegitiga * tinggiSegitiga\n",
    "        print(f'Luas Segitiga Adalah {luasSegitiga}')\n",
    "        break\n",
    "    elif x == 2 :\n",
    "        sisiPersegi=int(input(\"Sisi Persegi\"))\n",
    "        print(f'Sisi Persegi {sisiPersegi}')\n",
    "        luasPersegi = sisiPersegi*sisiPersegi\n",
    "        print(f'Luas Persegi adalah {luasPersegi}')\n",
    "        break\n",
    "    else :\n",
    "        print('Masukan Input yang Benar')\n",
    "        x=int(input('Menu Yang Dinginkan'))\n"
   ]
  },
  {
   "cell_type": "markdown",
   "metadata": {},
   "source": [
    "Soal 3"
   ]
  },
  {
   "cell_type": "code",
   "execution_count": 3,
   "metadata": {},
   "outputs": [
    {
     "ename": "SyntaxError",
     "evalue": "'break' outside loop (4259593637.py, line 18)",
     "output_type": "error",
     "traceback": [
      "\u001b[1;36m  Input \u001b[1;32mIn [3]\u001b[1;36m\u001b[0m\n\u001b[1;33m    break\u001b[0m\n\u001b[1;37m    ^\u001b[0m\n\u001b[1;31mSyntaxError\u001b[0m\u001b[1;31m:\u001b[0m 'break' outside loop\n"
     ]
    }
   ],
   "source": [
    "jumlahHari = int(input('Jumlah Hari : '))\n",
    "\n",
    "while jumlahHari < 0 :\n",
    "    print('Masukan Jumlah Hari yang Benar')\n",
    "    jumlahHari = int(input('Jumlah Hari : '))\n",
    "else :\n",
    "    tahun = jumlahHari // 360\n",
    "\n",
    "    sisaHariBulan = jumlahHari % 360\n",
    "    bulan = sisaHariBulan // 30\n",
    "\n",
    "    sisaHariMinggu = sisaHariBulan % 30\n",
    "    minggu = sisaHariMinggu // 7\n",
    "\n",
    "    sisaHari = sisaHariMinggu % 7\n",
    "\n",
    "    print (str(jumlahHari) + ' Hari = ' + '{} Tahun'.format(tahun) + ', {} Bulan'.format(bulan) + ', {} Minggu'.format(minggu) + ', {} Hari'.format(sisaHari))\n",
    "    "
   ]
  },
  {
   "cell_type": "markdown",
   "metadata": {},
   "source": [
    "Soal 4"
   ]
  },
  {
   "cell_type": "code",
   "execution_count": 3,
   "metadata": {},
   "outputs": [
    {
     "name": "stdout",
     "output_type": "stream",
     "text": [
      "Masukan Sebuah Kalimat ssssssssssssssssssssssssssssssssssssssssssssssssssssssssssssssssssssssssssssssssssssssssssssssssss\n",
      "Jumlah Kata Terlalu Panjang\n",
      "Silahkan Ketik Kata-Kata Baru\n",
      "Jumlah Kata Terlalu Panjang\n",
      "Silahkan Ketik Kata-Kata Baru\n",
      "Jumlah Kata Terlalu Panjang\n",
      "Silahkan Ketik Kata-Kata Baru\n",
      "Jumlah Kalimat Ideal, Berikut ini Adalah Kalimatnya :  sssssss\n"
     ]
    }
   ],
   "source": [
    "kata = (input('Masukan Kata'))\n",
    "jumlahKata = len(kata)\n",
    "print('Masukan Sebuah Kalimat', kata)\n",
    "\n",
    "while jumlahKata > 20 :\n",
    "    print('Jumlah Kata Terlalu Panjang')\n",
    "    print('Silahkan Ketik Kata-Kata Baru')\n",
    "    kata = (input('Masukan Kata'))\n",
    "    jumlahKata = len(kata)\n",
    "else :\n",
    "    print('Jumlah Kalimat Ideal, Berikut ini Adalah Kalimatnya : ', kata)"
   ]
  },
  {
   "cell_type": "markdown",
   "metadata": {},
   "source": [
    "Soal 5"
   ]
  },
  {
   "cell_type": "code",
   "execution_count": 10,
   "metadata": {},
   "outputs": [
    {
     "name": "stdout",
     "output_type": "stream",
     "text": [
      "Suhu Badan Anda (Dalam Fahrenheit) :97.0\n",
      "Suhu Badan Anda Adalah :36.11111111111111 Celcius\n",
      "Anda Hipotermia, Segera Berikan pertolongan Pertama\n"
     ]
    }
   ],
   "source": [
    "derajatF = float(input('Suhu Badan Anda : '))\n",
    "print(f'Suhu Badan Anda (Dalam Fahrenheit) :{derajatF}')\n",
    "derajatC = (derajatF-32)/1.8\n",
    "\n",
    "if 36.5 > derajatC :\n",
    "    print(f'Suhu Badan Anda Adalah :{derajatC} Celcius')\n",
    "    print('Anda Hipotermia, Segera Berikan pertolongan Pertama')\n",
    "elif 37.2 < derajatC :\n",
    "    print(f'Suhu Badan Anda Adalah :{derajatC} Celcius')\n",
    "    print('Anda Hiertermia, Segera Minum Panadol')\n",
    "else :\n",
    "    print(f'Suhu Badan Anda Adalah :{derajatC} Celcius')\n",
    "    print('Normal')"
   ]
  },
  {
   "cell_type": "markdown",
   "metadata": {},
   "source": [
    "Soal 6"
   ]
  },
  {
   "cell_type": "code",
   "execution_count": 16,
   "metadata": {},
   "outputs": [
    {
     "name": "stdout",
     "output_type": "stream",
     "text": [
      "11\n"
     ]
    }
   ],
   "source": [
    "a = int(input('Masukan Angka'))\n",
    "b = int(input('Masukan Angka'))\n",
    "c = int(input('Masukan Angka'))\n",
    "\n",
    "if a == b == c :\n",
    "    print(a*b*c)\n",
    "else :\n",
    "    print(a+b+c)"
   ]
  },
  {
   "cell_type": "markdown",
   "metadata": {},
   "source": [
    "Soal 7"
   ]
  },
  {
   "cell_type": "code",
   "execution_count": 43,
   "metadata": {},
   "outputs": [
    {
     "name": "stdout",
     "output_type": "stream",
     "text": [
      "Masukan Suhu Yang Ingin Dikonversi(Contoh : 45F, 100C etc.) : 10\n",
      "Masukan Input Sesuai Ketentuan\n"
     ]
    }
   ],
   "source": [
    "suhu = input('Masukan Suhu')\n",
    "print(f'Masukan Suhu Yang Ingin Dikonversi(Contoh : 45F, 100C etc.) : {suhu.upper()}')\n",
    "\n",
    "#biar jadi flexible\n",
    "lenSuhu = len(suhu)\n",
    "#dapeting angkanya aja\n",
    "suhuAngka = float(suhu[:(lenSuhu-1)])\n",
    "#dapetin hurufnya aja\n",
    "suhuHuruf = suhu.upper()[-1]\n",
    "if suhuHuruf == 'C' :\n",
    "    celToFah = (((9*suhuAngka) + (32*5)) / 5)\n",
    "    print(f'Suhu {suhu.upper()} Jika Dikonversikan ke dalam Celcius akan menjadi {celToFah} Fahrenheit')\n",
    "elif suhuHuruf == 'F' :\n",
    "    fahToCel = ((5*(suhuAngka-32)) / 9)\n",
    "    print(f'Suhu {suhu.upper()} Jika Dikonversikan ke dalam Fahrenheit akan menjadi {fahToCel} Celcius')\n",
    "else :\n",
    "    print('Masukan Input Sesuai Ketentuan')\n"
   ]
  }
 ],
 "metadata": {
  "kernelspec": {
   "display_name": "Python 3.10.5 64-bit",
   "language": "python",
   "name": "python3"
  },
  "language_info": {
   "codemirror_mode": {
    "name": "ipython",
    "version": 3
   },
   "file_extension": ".py",
   "mimetype": "text/x-python",
   "name": "python",
   "nbconvert_exporter": "python",
   "pygments_lexer": "ipython3",
   "version": "3.10.5"
  },
  "orig_nbformat": 4,
  "vscode": {
   "interpreter": {
    "hash": "0cc95108adb0eef77222e4285ccd064197a982c043357c28a8f9770fc5b3cfd4"
   }
  }
 },
 "nbformat": 4,
 "nbformat_minor": 2
}
